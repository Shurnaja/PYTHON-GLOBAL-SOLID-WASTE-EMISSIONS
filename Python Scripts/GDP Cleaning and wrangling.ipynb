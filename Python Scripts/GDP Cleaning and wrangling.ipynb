{
 "cells": [
  {
   "cell_type": "markdown",
   "id": "8a7aa25e",
   "metadata": {},
   "source": [
    "# WMG data: cleaning "
   ]
  },
  {
   "cell_type": "code",
   "execution_count": 1,
   "id": "46c0c0c5",
   "metadata": {},
   "outputs": [],
   "source": [
    "#Importing libraries\n",
    "import pandas as pd\n",
    "import numpy as np\n",
    "import os"
   ]
  },
  {
   "cell_type": "code",
   "execution_count": 2,
   "id": "40afe706",
   "metadata": {},
   "outputs": [],
   "source": [
    "path = r'/Users/alexbor/Desktop/Data Analytics/Immersion/Submissions/6. Advanced Analytics/Project_Waste in the world'"
   ]
  },
  {
   "cell_type": "code",
   "execution_count": 3,
   "id": "6b0cee00",
   "metadata": {},
   "outputs": [],
   "source": [
    "#Import dataframe \n",
    "\n",
    "df_gdp = pd.read_csv(os.path.join(path,'Original data','UNdata_Export_20230627_192219111_GDP.csv'), low_memory=False)\n"
   ]
  },
  {
   "cell_type": "markdown",
   "id": "d5789356",
   "metadata": {},
   "source": [
    "# Exploring the dataframe\n"
   ]
  },
  {
   "cell_type": "code",
   "execution_count": 4,
   "id": "416173e0",
   "metadata": {},
   "outputs": [
    {
     "name": "stdout",
     "output_type": "stream",
     "text": [
      "<class 'pandas.core.frame.DataFrame'>\n",
      "RangeIndex: 10506 entries, 0 to 10505\n",
      "Data columns (total 4 columns):\n",
      " #   Column           Non-Null Count  Dtype  \n",
      "---  ------           --------------  -----  \n",
      " 0   Country or Area  10506 non-null  object \n",
      " 1   Year             10506 non-null  int64  \n",
      " 2   Item             10506 non-null  object \n",
      " 3   Value            10506 non-null  float64\n",
      "dtypes: float64(1), int64(1), object(2)\n",
      "memory usage: 328.4+ KB\n"
     ]
    }
   ],
   "source": [
    "df_gdp.info()"
   ]
  },
  {
   "cell_type": "code",
   "execution_count": 5,
   "id": "67f5f366",
   "metadata": {},
   "outputs": [
    {
     "data": {
      "text/plain": [
       "(10506, 4)"
      ]
     },
     "execution_count": 5,
     "metadata": {},
     "output_type": "execute_result"
    }
   ],
   "source": [
    "df_gdp.shape"
   ]
  },
  {
   "cell_type": "code",
   "execution_count": 6,
   "id": "ddba94c2",
   "metadata": {},
   "outputs": [
    {
     "data": {
      "text/html": [
       "<div>\n",
       "<style scoped>\n",
       "    .dataframe tbody tr th:only-of-type {\n",
       "        vertical-align: middle;\n",
       "    }\n",
       "\n",
       "    .dataframe tbody tr th {\n",
       "        vertical-align: top;\n",
       "    }\n",
       "\n",
       "    .dataframe thead th {\n",
       "        text-align: right;\n",
       "    }\n",
       "</style>\n",
       "<table border=\"1\" class=\"dataframe\">\n",
       "  <thead>\n",
       "    <tr style=\"text-align: right;\">\n",
       "      <th></th>\n",
       "      <th>Country or Area</th>\n",
       "      <th>Year</th>\n",
       "      <th>Item</th>\n",
       "      <th>Value</th>\n",
       "    </tr>\n",
       "  </thead>\n",
       "  <tbody>\n",
       "    <tr>\n",
       "      <th>0</th>\n",
       "      <td>Afghanistan</td>\n",
       "      <td>2021</td>\n",
       "      <td>Gross Domestic Product (GDP)</td>\n",
       "      <td>372.548875</td>\n",
       "    </tr>\n",
       "    <tr>\n",
       "      <th>1</th>\n",
       "      <td>Afghanistan</td>\n",
       "      <td>2020</td>\n",
       "      <td>Gross Domestic Product (GDP)</td>\n",
       "      <td>516.866543</td>\n",
       "    </tr>\n",
       "    <tr>\n",
       "      <th>2</th>\n",
       "      <td>Afghanistan</td>\n",
       "      <td>2019</td>\n",
       "      <td>Gross Domestic Product (GDP)</td>\n",
       "      <td>500.522664</td>\n",
       "    </tr>\n",
       "    <tr>\n",
       "      <th>3</th>\n",
       "      <td>Afghanistan</td>\n",
       "      <td>2018</td>\n",
       "      <td>Gross Domestic Product (GDP)</td>\n",
       "      <td>502.056771</td>\n",
       "    </tr>\n",
       "    <tr>\n",
       "      <th>4</th>\n",
       "      <td>Afghanistan</td>\n",
       "      <td>2017</td>\n",
       "      <td>Gross Domestic Product (GDP)</td>\n",
       "      <td>530.149831</td>\n",
       "    </tr>\n",
       "  </tbody>\n",
       "</table>\n",
       "</div>"
      ],
      "text/plain": [
       "  Country or Area  Year                          Item       Value\n",
       "0     Afghanistan  2021  Gross Domestic Product (GDP)  372.548875\n",
       "1     Afghanistan  2020  Gross Domestic Product (GDP)  516.866543\n",
       "2     Afghanistan  2019  Gross Domestic Product (GDP)  500.522664\n",
       "3     Afghanistan  2018  Gross Domestic Product (GDP)  502.056771\n",
       "4     Afghanistan  2017  Gross Domestic Product (GDP)  530.149831"
      ]
     },
     "execution_count": 6,
     "metadata": {},
     "output_type": "execute_result"
    }
   ],
   "source": [
    "df_gdp.head()"
   ]
  },
  {
   "cell_type": "code",
   "execution_count": 7,
   "id": "faaf2bef",
   "metadata": {},
   "outputs": [],
   "source": [
    "#Checking for mix-typed columns \n",
    "\n",
    "for col in df_gdp.columns.tolist():\n",
    "  weird = (df_gdp[[col]].applymap(type) != df_gdp[[col]].iloc[0].apply(type)).any(axis = 1)\n",
    "  if len (df_gdp[weird]) > 0:\n",
    "    print (col)"
   ]
  },
  {
   "cell_type": "code",
   "execution_count": 8,
   "id": "47ec1b52",
   "metadata": {},
   "outputs": [
    {
     "data": {
      "text/plain": [
       "'Value'"
      ]
     },
     "execution_count": 8,
     "metadata": {},
     "output_type": "execute_result"
    }
   ],
   "source": [
    "col"
   ]
  },
  {
   "cell_type": "code",
   "execution_count": 9,
   "id": "09f0a51f",
   "metadata": {},
   "outputs": [],
   "source": [
    "#Fixing data type for Value\n",
    "\n",
    "df_gdp['Value'] = df_gdp['Value'].astype('int64')"
   ]
  },
  {
   "cell_type": "code",
   "execution_count": 10,
   "id": "818cdb57",
   "metadata": {},
   "outputs": [
    {
     "data": {
      "text/plain": [
       "Country or Area    object\n",
       "Year                int64\n",
       "Item               object\n",
       "Value               int64\n",
       "dtype: object"
      ]
     },
     "execution_count": 10,
     "metadata": {},
     "output_type": "execute_result"
    }
   ],
   "source": [
    "df_gdp.dtypes"
   ]
  },
  {
   "cell_type": "code",
   "execution_count": 11,
   "id": "d72fa9f7",
   "metadata": {},
   "outputs": [],
   "source": [
    "#Fixing data type for Time\n",
    "\n",
    "df_gdp['Year'] = df_gdp['Year'].astype('str')"
   ]
  },
  {
   "cell_type": "markdown",
   "id": "957d8060",
   "metadata": {},
   "source": [
    "# Describing data"
   ]
  },
  {
   "cell_type": "code",
   "execution_count": 12,
   "id": "fab27090",
   "metadata": {},
   "outputs": [
    {
     "data": {
      "text/html": [
       "<div>\n",
       "<style scoped>\n",
       "    .dataframe tbody tr th:only-of-type {\n",
       "        vertical-align: middle;\n",
       "    }\n",
       "\n",
       "    .dataframe tbody tr th {\n",
       "        vertical-align: top;\n",
       "    }\n",
       "\n",
       "    .dataframe thead th {\n",
       "        text-align: right;\n",
       "    }\n",
       "</style>\n",
       "<table border=\"1\" class=\"dataframe\">\n",
       "  <thead>\n",
       "    <tr style=\"text-align: right;\">\n",
       "      <th></th>\n",
       "      <th>Value</th>\n",
       "    </tr>\n",
       "  </thead>\n",
       "  <tbody>\n",
       "    <tr>\n",
       "      <th>count</th>\n",
       "      <td>10506.000000</td>\n",
       "    </tr>\n",
       "    <tr>\n",
       "      <th>mean</th>\n",
       "      <td>9280.336570</td>\n",
       "    </tr>\n",
       "    <tr>\n",
       "      <th>std</th>\n",
       "      <td>17890.075851</td>\n",
       "    </tr>\n",
       "    <tr>\n",
       "      <th>min</th>\n",
       "      <td>34.000000</td>\n",
       "    </tr>\n",
       "    <tr>\n",
       "      <th>25%</th>\n",
       "      <td>734.000000</td>\n",
       "    </tr>\n",
       "    <tr>\n",
       "      <th>50%</th>\n",
       "      <td>2342.500000</td>\n",
       "    </tr>\n",
       "    <tr>\n",
       "      <th>75%</th>\n",
       "      <td>9295.750000</td>\n",
       "    </tr>\n",
       "    <tr>\n",
       "      <th>max</th>\n",
       "      <td>234317.000000</td>\n",
       "    </tr>\n",
       "  </tbody>\n",
       "</table>\n",
       "</div>"
      ],
      "text/plain": [
       "               Value\n",
       "count   10506.000000\n",
       "mean     9280.336570\n",
       "std     17890.075851\n",
       "min        34.000000\n",
       "25%       734.000000\n",
       "50%      2342.500000\n",
       "75%      9295.750000\n",
       "max    234317.000000"
      ]
     },
     "execution_count": 12,
     "metadata": {},
     "output_type": "execute_result"
    }
   ],
   "source": [
    "df_gdp.describe()"
   ]
  },
  {
   "cell_type": "code",
   "execution_count": 13,
   "id": "5a4dc7cb",
   "metadata": {},
   "outputs": [],
   "source": [
    "std_dev = df_gdp['Value'].std()"
   ]
  },
  {
   "cell_type": "code",
   "execution_count": 14,
   "id": "0d1c9008",
   "metadata": {},
   "outputs": [
    {
     "data": {
      "text/plain": [
       "17890.075851477588"
      ]
     },
     "execution_count": 14,
     "metadata": {},
     "output_type": "execute_result"
    }
   ],
   "source": [
    "std_dev"
   ]
  },
  {
   "cell_type": "code",
   "execution_count": 15,
   "id": "d2d42420",
   "metadata": {},
   "outputs": [],
   "source": [
    "mean = df_gdp['Value'].mean()"
   ]
  },
  {
   "cell_type": "code",
   "execution_count": 16,
   "id": "ac5d16ec",
   "metadata": {},
   "outputs": [
    {
     "data": {
      "text/plain": [
       "9280.336569579287"
      ]
     },
     "execution_count": 16,
     "metadata": {},
     "output_type": "execute_result"
    }
   ],
   "source": [
    "mean"
   ]
  },
  {
   "cell_type": "code",
   "execution_count": 17,
   "id": "a20a1ed5",
   "metadata": {},
   "outputs": [],
   "source": [
    "two_std_devs_away = mean + (2 * std_dev)"
   ]
  },
  {
   "cell_type": "code",
   "execution_count": 18,
   "id": "cf11e3c2",
   "metadata": {},
   "outputs": [
    {
     "data": {
      "text/plain": [
       "45060.488272534465"
      ]
     },
     "execution_count": 18,
     "metadata": {},
     "output_type": "execute_result"
    }
   ],
   "source": [
    "two_std_devs_away"
   ]
  },
  {
   "cell_type": "code",
   "execution_count": 19,
   "id": "905773ff",
   "metadata": {},
   "outputs": [],
   "source": [
    "two_std_devs_away_1 = mean - (2 * std_dev)"
   ]
  },
  {
   "cell_type": "code",
   "execution_count": 20,
   "id": "35078a53",
   "metadata": {},
   "outputs": [
    {
     "data": {
      "text/plain": [
       "-26499.815133375887"
      ]
     },
     "execution_count": 20,
     "metadata": {},
     "output_type": "execute_result"
    }
   ],
   "source": [
    "two_std_devs_away_1"
   ]
  },
  {
   "cell_type": "code",
   "execution_count": 21,
   "id": "52590cfd",
   "metadata": {},
   "outputs": [],
   "source": [
    "#Defining outliers \n",
    "outliers = df_gdp[(df_gdp['Value'] < two_std_devs_away_1) | (df_gdp['Value'] > two_std_devs_away)]\n"
   ]
  },
  {
   "cell_type": "code",
   "execution_count": 22,
   "id": "d218ad73",
   "metadata": {},
   "outputs": [
    {
     "data": {
      "text/html": [
       "<div>\n",
       "<style scoped>\n",
       "    .dataframe tbody tr th:only-of-type {\n",
       "        vertical-align: middle;\n",
       "    }\n",
       "\n",
       "    .dataframe tbody tr th {\n",
       "        vertical-align: top;\n",
       "    }\n",
       "\n",
       "    .dataframe thead th {\n",
       "        text-align: right;\n",
       "    }\n",
       "</style>\n",
       "<table border=\"1\" class=\"dataframe\">\n",
       "  <thead>\n",
       "    <tr style=\"text-align: right;\">\n",
       "      <th></th>\n",
       "      <th>Country or Area</th>\n",
       "      <th>Year</th>\n",
       "      <th>Item</th>\n",
       "      <th>Value</th>\n",
       "    </tr>\n",
       "  </thead>\n",
       "  <tbody>\n",
       "    <tr>\n",
       "      <th>163</th>\n",
       "      <td>Andorra</td>\n",
       "      <td>2014</td>\n",
       "      <td>Gross Domestic Product (GDP)</td>\n",
       "      <td>45619</td>\n",
       "    </tr>\n",
       "    <tr>\n",
       "      <th>166</th>\n",
       "      <td>Andorra</td>\n",
       "      <td>2011</td>\n",
       "      <td>Gross Domestic Product (GDP)</td>\n",
       "      <td>51360</td>\n",
       "    </tr>\n",
       "    <tr>\n",
       "      <th>167</th>\n",
       "      <td>Andorra</td>\n",
       "      <td>2010</td>\n",
       "      <td>Gross Domestic Product (GDP)</td>\n",
       "      <td>48190</td>\n",
       "    </tr>\n",
       "    <tr>\n",
       "      <th>168</th>\n",
       "      <td>Andorra</td>\n",
       "      <td>2009</td>\n",
       "      <td>Gross Domestic Product (GDP)</td>\n",
       "      <td>49750</td>\n",
       "    </tr>\n",
       "    <tr>\n",
       "      <th>169</th>\n",
       "      <td>Andorra</td>\n",
       "      <td>2008</td>\n",
       "      <td>Gross Domestic Product (GDP)</td>\n",
       "      <td>53721</td>\n",
       "    </tr>\n",
       "    <tr>\n",
       "      <th>...</th>\n",
       "      <td>...</td>\n",
       "      <td>...</td>\n",
       "      <td>...</td>\n",
       "      <td>...</td>\n",
       "    </tr>\n",
       "    <tr>\n",
       "      <th>10046</th>\n",
       "      <td>United States</td>\n",
       "      <td>2010</td>\n",
       "      <td>Gross Domestic Product (GDP)</td>\n",
       "      <td>48360</td>\n",
       "    </tr>\n",
       "    <tr>\n",
       "      <th>10047</th>\n",
       "      <td>United States</td>\n",
       "      <td>2009</td>\n",
       "      <td>Gross Domestic Product (GDP)</td>\n",
       "      <td>46928</td>\n",
       "    </tr>\n",
       "    <tr>\n",
       "      <th>10048</th>\n",
       "      <td>United States</td>\n",
       "      <td>2008</td>\n",
       "      <td>Gross Domestic Product (GDP)</td>\n",
       "      <td>48315</td>\n",
       "    </tr>\n",
       "    <tr>\n",
       "      <th>10049</th>\n",
       "      <td>United States</td>\n",
       "      <td>2007</td>\n",
       "      <td>Gross Domestic Product (GDP)</td>\n",
       "      <td>47810</td>\n",
       "    </tr>\n",
       "    <tr>\n",
       "      <th>10050</th>\n",
       "      <td>United States</td>\n",
       "      <td>2006</td>\n",
       "      <td>Gross Domestic Product (GDP)</td>\n",
       "      <td>46089</td>\n",
       "    </tr>\n",
       "  </tbody>\n",
       "</table>\n",
       "<p>474 rows × 4 columns</p>\n",
       "</div>"
      ],
      "text/plain": [
       "      Country or Area  Year                          Item  Value\n",
       "163           Andorra  2014  Gross Domestic Product (GDP)  45619\n",
       "166           Andorra  2011  Gross Domestic Product (GDP)  51360\n",
       "167           Andorra  2010  Gross Domestic Product (GDP)  48190\n",
       "168           Andorra  2009  Gross Domestic Product (GDP)  49750\n",
       "169           Andorra  2008  Gross Domestic Product (GDP)  53721\n",
       "...               ...   ...                           ...    ...\n",
       "10046   United States  2010  Gross Domestic Product (GDP)  48360\n",
       "10047   United States  2009  Gross Domestic Product (GDP)  46928\n",
       "10048   United States  2008  Gross Domestic Product (GDP)  48315\n",
       "10049   United States  2007  Gross Domestic Product (GDP)  47810\n",
       "10050   United States  2006  Gross Domestic Product (GDP)  46089\n",
       "\n",
       "[474 rows x 4 columns]"
      ]
     },
     "execution_count": 22,
     "metadata": {},
     "output_type": "execute_result"
    }
   ],
   "source": [
    "outliers"
   ]
  },
  {
   "cell_type": "markdown",
   "id": "dff269df",
   "metadata": {},
   "source": [
    "# Missing values"
   ]
  },
  {
   "cell_type": "code",
   "execution_count": 23,
   "id": "e9a7dd8d",
   "metadata": {},
   "outputs": [
    {
     "data": {
      "text/plain": [
       "Country or Area    0\n",
       "Year               0\n",
       "Item               0\n",
       "Value              0\n",
       "dtype: int64"
      ]
     },
     "execution_count": 23,
     "metadata": {},
     "output_type": "execute_result"
    }
   ],
   "source": [
    "df_gdp.isnull().sum()"
   ]
  },
  {
   "cell_type": "markdown",
   "id": "0c061c14",
   "metadata": {},
   "source": [
    "**No missing values found**"
   ]
  },
  {
   "cell_type": "markdown",
   "id": "657c956a",
   "metadata": {},
   "source": [
    "# Checking for duplicates\n"
   ]
  },
  {
   "cell_type": "code",
   "execution_count": 24,
   "id": "f38c6b63",
   "metadata": {},
   "outputs": [],
   "source": [
    "df_dups = df_gdp[df_gdp.duplicated()]"
   ]
  },
  {
   "cell_type": "code",
   "execution_count": 25,
   "id": "60eb86fc",
   "metadata": {},
   "outputs": [
    {
     "data": {
      "text/html": [
       "<div>\n",
       "<style scoped>\n",
       "    .dataframe tbody tr th:only-of-type {\n",
       "        vertical-align: middle;\n",
       "    }\n",
       "\n",
       "    .dataframe tbody tr th {\n",
       "        vertical-align: top;\n",
       "    }\n",
       "\n",
       "    .dataframe thead th {\n",
       "        text-align: right;\n",
       "    }\n",
       "</style>\n",
       "<table border=\"1\" class=\"dataframe\">\n",
       "  <thead>\n",
       "    <tr style=\"text-align: right;\">\n",
       "      <th></th>\n",
       "      <th>Country or Area</th>\n",
       "      <th>Year</th>\n",
       "      <th>Item</th>\n",
       "      <th>Value</th>\n",
       "    </tr>\n",
       "  </thead>\n",
       "  <tbody>\n",
       "  </tbody>\n",
       "</table>\n",
       "</div>"
      ],
      "text/plain": [
       "Empty DataFrame\n",
       "Columns: [Country or Area, Year, Item, Value]\n",
       "Index: []"
      ]
     },
     "execution_count": 25,
     "metadata": {},
     "output_type": "execute_result"
    }
   ],
   "source": [
    "df_dups"
   ]
  },
  {
   "cell_type": "markdown",
   "id": "1ea480b5",
   "metadata": {},
   "source": [
    "**NO duplicates found**"
   ]
  },
  {
   "cell_type": "markdown",
   "id": "d64227b0",
   "metadata": {},
   "source": [
    "# Changing names of the columns"
   ]
  },
  {
   "cell_type": "code",
   "execution_count": 26,
   "id": "a5e5c805",
   "metadata": {},
   "outputs": [],
   "source": [
    "df_gdp = df_gdp.rename(columns={'Value':'GDP', 'Country or Area': 'Country'})\n"
   ]
  },
  {
   "cell_type": "code",
   "execution_count": 27,
   "id": "5483dd33",
   "metadata": {},
   "outputs": [
    {
     "data": {
      "text/html": [
       "<div>\n",
       "<style scoped>\n",
       "    .dataframe tbody tr th:only-of-type {\n",
       "        vertical-align: middle;\n",
       "    }\n",
       "\n",
       "    .dataframe tbody tr th {\n",
       "        vertical-align: top;\n",
       "    }\n",
       "\n",
       "    .dataframe thead th {\n",
       "        text-align: right;\n",
       "    }\n",
       "</style>\n",
       "<table border=\"1\" class=\"dataframe\">\n",
       "  <thead>\n",
       "    <tr style=\"text-align: right;\">\n",
       "      <th></th>\n",
       "      <th>Country</th>\n",
       "      <th>Year</th>\n",
       "      <th>Item</th>\n",
       "      <th>GDP</th>\n",
       "    </tr>\n",
       "  </thead>\n",
       "  <tbody>\n",
       "    <tr>\n",
       "      <th>0</th>\n",
       "      <td>Afghanistan</td>\n",
       "      <td>2021</td>\n",
       "      <td>Gross Domestic Product (GDP)</td>\n",
       "      <td>372</td>\n",
       "    </tr>\n",
       "    <tr>\n",
       "      <th>1</th>\n",
       "      <td>Afghanistan</td>\n",
       "      <td>2020</td>\n",
       "      <td>Gross Domestic Product (GDP)</td>\n",
       "      <td>516</td>\n",
       "    </tr>\n",
       "    <tr>\n",
       "      <th>2</th>\n",
       "      <td>Afghanistan</td>\n",
       "      <td>2019</td>\n",
       "      <td>Gross Domestic Product (GDP)</td>\n",
       "      <td>500</td>\n",
       "    </tr>\n",
       "    <tr>\n",
       "      <th>3</th>\n",
       "      <td>Afghanistan</td>\n",
       "      <td>2018</td>\n",
       "      <td>Gross Domestic Product (GDP)</td>\n",
       "      <td>502</td>\n",
       "    </tr>\n",
       "    <tr>\n",
       "      <th>4</th>\n",
       "      <td>Afghanistan</td>\n",
       "      <td>2017</td>\n",
       "      <td>Gross Domestic Product (GDP)</td>\n",
       "      <td>530</td>\n",
       "    </tr>\n",
       "    <tr>\n",
       "      <th>...</th>\n",
       "      <td>...</td>\n",
       "      <td>...</td>\n",
       "      <td>...</td>\n",
       "      <td>...</td>\n",
       "    </tr>\n",
       "    <tr>\n",
       "      <th>10501</th>\n",
       "      <td>Zimbabwe</td>\n",
       "      <td>1974</td>\n",
       "      <td>Gross Domestic Product (GDP)</td>\n",
       "      <td>836</td>\n",
       "    </tr>\n",
       "    <tr>\n",
       "      <th>10502</th>\n",
       "      <td>Zimbabwe</td>\n",
       "      <td>1973</td>\n",
       "      <td>Gross Domestic Product (GDP)</td>\n",
       "      <td>718</td>\n",
       "    </tr>\n",
       "    <tr>\n",
       "      <th>10503</th>\n",
       "      <td>Zimbabwe</td>\n",
       "      <td>1972</td>\n",
       "      <td>Gross Domestic Product (GDP)</td>\n",
       "      <td>603</td>\n",
       "    </tr>\n",
       "    <tr>\n",
       "      <th>10504</th>\n",
       "      <td>Zimbabwe</td>\n",
       "      <td>1971</td>\n",
       "      <td>Gross Domestic Product (GDP)</td>\n",
       "      <td>503</td>\n",
       "    </tr>\n",
       "    <tr>\n",
       "      <th>10505</th>\n",
       "      <td>Zimbabwe</td>\n",
       "      <td>1970</td>\n",
       "      <td>Gross Domestic Product (GDP)</td>\n",
       "      <td>449</td>\n",
       "    </tr>\n",
       "  </tbody>\n",
       "</table>\n",
       "<p>10506 rows × 4 columns</p>\n",
       "</div>"
      ],
      "text/plain": [
       "           Country  Year                          Item  GDP\n",
       "0      Afghanistan  2021  Gross Domestic Product (GDP)  372\n",
       "1      Afghanistan  2020  Gross Domestic Product (GDP)  516\n",
       "2      Afghanistan  2019  Gross Domestic Product (GDP)  500\n",
       "3      Afghanistan  2018  Gross Domestic Product (GDP)  502\n",
       "4      Afghanistan  2017  Gross Domestic Product (GDP)  530\n",
       "...            ...   ...                           ...  ...\n",
       "10501     Zimbabwe  1974  Gross Domestic Product (GDP)  836\n",
       "10502     Zimbabwe  1973  Gross Domestic Product (GDP)  718\n",
       "10503     Zimbabwe  1972  Gross Domestic Product (GDP)  603\n",
       "10504     Zimbabwe  1971  Gross Domestic Product (GDP)  503\n",
       "10505     Zimbabwe  1970  Gross Domestic Product (GDP)  449\n",
       "\n",
       "[10506 rows x 4 columns]"
      ]
     },
     "execution_count": 27,
     "metadata": {},
     "output_type": "execute_result"
    }
   ],
   "source": [
    "df_gdp"
   ]
  },
  {
   "cell_type": "markdown",
   "id": "81863516",
   "metadata": {},
   "source": [
    "# Further wrangling"
   ]
  },
  {
   "cell_type": "code",
   "execution_count": 28,
   "id": "21a9f8c9",
   "metadata": {},
   "outputs": [],
   "source": [
    "#Deleting the columm 'Item'\n",
    "df_gdp = df_gdp.drop(columns=['Item'])"
   ]
  },
  {
   "cell_type": "code",
   "execution_count": 29,
   "id": "6f435b81",
   "metadata": {},
   "outputs": [
    {
     "data": {
      "text/html": [
       "<div>\n",
       "<style scoped>\n",
       "    .dataframe tbody tr th:only-of-type {\n",
       "        vertical-align: middle;\n",
       "    }\n",
       "\n",
       "    .dataframe tbody tr th {\n",
       "        vertical-align: top;\n",
       "    }\n",
       "\n",
       "    .dataframe thead th {\n",
       "        text-align: right;\n",
       "    }\n",
       "</style>\n",
       "<table border=\"1\" class=\"dataframe\">\n",
       "  <thead>\n",
       "    <tr style=\"text-align: right;\">\n",
       "      <th></th>\n",
       "      <th>Country</th>\n",
       "      <th>Year</th>\n",
       "      <th>GDP</th>\n",
       "    </tr>\n",
       "  </thead>\n",
       "  <tbody>\n",
       "    <tr>\n",
       "      <th>0</th>\n",
       "      <td>Afghanistan</td>\n",
       "      <td>2021</td>\n",
       "      <td>372</td>\n",
       "    </tr>\n",
       "    <tr>\n",
       "      <th>1</th>\n",
       "      <td>Afghanistan</td>\n",
       "      <td>2020</td>\n",
       "      <td>516</td>\n",
       "    </tr>\n",
       "    <tr>\n",
       "      <th>2</th>\n",
       "      <td>Afghanistan</td>\n",
       "      <td>2019</td>\n",
       "      <td>500</td>\n",
       "    </tr>\n",
       "    <tr>\n",
       "      <th>3</th>\n",
       "      <td>Afghanistan</td>\n",
       "      <td>2018</td>\n",
       "      <td>502</td>\n",
       "    </tr>\n",
       "    <tr>\n",
       "      <th>4</th>\n",
       "      <td>Afghanistan</td>\n",
       "      <td>2017</td>\n",
       "      <td>530</td>\n",
       "    </tr>\n",
       "  </tbody>\n",
       "</table>\n",
       "</div>"
      ],
      "text/plain": [
       "       Country  Year  GDP\n",
       "0  Afghanistan  2021  372\n",
       "1  Afghanistan  2020  516\n",
       "2  Afghanistan  2019  500\n",
       "3  Afghanistan  2018  502\n",
       "4  Afghanistan  2017  530"
      ]
     },
     "execution_count": 29,
     "metadata": {},
     "output_type": "execute_result"
    }
   ],
   "source": [
    "df_gdp.head()"
   ]
  },
  {
   "cell_type": "code",
   "execution_count": 30,
   "id": "53bb2a6a",
   "metadata": {},
   "outputs": [],
   "source": [
    "#Checking Country names\n",
    "\n",
    "unique_values = df_gdp['Country'].unique()\n"
   ]
  },
  {
   "cell_type": "code",
   "execution_count": 31,
   "id": "c6ae6c57",
   "metadata": {},
   "outputs": [
    {
     "data": {
      "text/plain": [
       "array(['Afghanistan', 'Albania', 'Algeria', 'Andorra', 'Angola',\n",
       "       'Anguilla', 'Antigua and Barbuda', 'Argentina', 'Armenia', 'Aruba',\n",
       "       'Australia', 'Austria', 'Azerbaijan', 'Bahamas', 'Bahrain',\n",
       "       'Bangladesh', 'Barbados', 'Belarus', 'Belgium', 'Belize', 'Benin',\n",
       "       'Bermuda', 'Bhutan', 'Bolivia (Plurinational State of)',\n",
       "       'Bosnia and Herzegovina', 'Botswana', 'Brazil',\n",
       "       'British Virgin Islands', 'Brunei Darussalam', 'Bulgaria',\n",
       "       'Burkina Faso', 'Burundi', 'Cabo Verde', 'Cambodia', 'Cameroon',\n",
       "       'Canada', 'Cayman Islands', 'Central African Republic', 'Chad',\n",
       "       'Chile', 'China (mainland)', 'China, Hong Kong SAR',\n",
       "       'China, Macao Special Administrative Region', 'Colombia',\n",
       "       'Comoros', 'Congo', 'Cook Islands', 'Costa Rica', \"Côte d'Ivoire\",\n",
       "       'Croatia', 'Cuba', 'Curaçao', 'Cyprus', 'Czechia',\n",
       "       \"Democratic People's Republic of Korea\",\n",
       "       'Democratic Republic of the Congo', 'Denmark', 'Djibouti',\n",
       "       'Dominica', 'Dominican Republic', 'Ecuador', 'Egypt',\n",
       "       'El Salvador', 'Equatorial Guinea', 'Eritrea', 'Estonia',\n",
       "       'Ethiopia', 'Fiji', 'Finland', 'Former Czechoslovakia',\n",
       "       'Former Ethiopia', 'Former Netherlands Antilles', 'Former Sudan',\n",
       "       'Former USSR', 'Former Yugoslavia', 'France', 'French Polynesia',\n",
       "       'Gabon', 'Gambia', 'Georgia', 'Germany', 'Ghana', 'Greece',\n",
       "       'Greenland', 'Grenada', 'Guatemala', 'Guinea', 'Guinea-Bissau',\n",
       "       'Guyana', 'Haiti', 'Honduras', 'Hungary', 'Iceland', 'India',\n",
       "       'Indonesia', 'Iran, Islamic Republic of', 'Iraq', 'Ireland',\n",
       "       'Israel', 'Italy', 'Jamaica', 'Japan', 'Jordan', 'Kazakhstan',\n",
       "       'Kenya', 'Kingdom of Eswatini', 'Kiribati', 'Kosovo', 'Kuwait',\n",
       "       'Kyrgyzstan', \"Lao People's Democratic Republic\", 'Latvia',\n",
       "       'Lebanon', 'Lesotho', 'Liberia', 'Libya', 'Liechtenstein',\n",
       "       'Lithuania', 'Luxembourg', 'Madagascar', 'Malawi', 'Malaysia',\n",
       "       'Maldives', 'Mali', 'Malta', 'Marshall Islands', 'Mauritania',\n",
       "       'Mauritius', 'Mexico', 'Micronesia (Federated States of)',\n",
       "       'Monaco', 'Mongolia', 'Montenegro', 'Montserrat', 'Morocco',\n",
       "       'Mozambique', 'Myanmar', 'Namibia', 'Nauru', 'Nepal',\n",
       "       'Netherlands', 'New Caledonia', 'New Zealand', 'Nicaragua',\n",
       "       'Niger', 'Nigeria', 'Norway', 'Oman', 'Pakistan', 'Palau',\n",
       "       'Panama', 'Papua New Guinea', 'Paraguay', 'Peru', 'Philippines',\n",
       "       'Poland', 'Portugal', 'Puerto Rico', 'Qatar', 'Republic of Korea',\n",
       "       'Republic of Moldova', 'Republic of North Macedonia', 'Romania',\n",
       "       'Russian Federation', 'Rwanda', 'Saint Kitts and Nevis',\n",
       "       'Saint Lucia', 'Saint Vincent and the Grenadines', 'Samoa',\n",
       "       'San Marino', 'Sao Tome and Principe', 'Saudi Arabia', 'Senegal',\n",
       "       'Serbia', 'Seychelles', 'Sierra Leone', 'Singapore',\n",
       "       'Sint Maarten (Dutch part)', 'Slovakia', 'Slovenia',\n",
       "       'Solomon Islands', 'Somalia', 'South Africa', 'South Sudan',\n",
       "       'Spain', 'Sri Lanka', 'State of Palestine', 'Sudan', 'Suriname',\n",
       "       'Sweden', 'Switzerland', 'Syrian Arab Republic', 'Tajikistan',\n",
       "       'Thailand', 'Timor-Leste', 'Togo', 'Tonga', 'Trinidad and Tobago',\n",
       "       'Tunisia', 'Türkiye', 'Turkmenistan', 'Turks and Caicos Islands',\n",
       "       'Tuvalu', 'Uganda', 'Ukraine', 'United Arab Emirates',\n",
       "       'United Kingdom of Great Britain and Northern Ireland',\n",
       "       'United Republic of Tanzania: Mainland',\n",
       "       'United Republic of Tanzania: Zanzibar', 'United States',\n",
       "       'Uruguay', 'Uzbekistan', 'Vanuatu',\n",
       "       'Venezuela (Bolivarian Republic of)', 'Viet Nam', 'Yemen',\n",
       "       'Yemen: Former Democratic Yemen',\n",
       "       'Yemen: Former Yemen Arab Republic', 'Zambia', 'Zimbabwe'],\n",
       "      dtype=object)"
      ]
     },
     "execution_count": 31,
     "metadata": {},
     "output_type": "execute_result"
    }
   ],
   "source": [
    "unique_values"
   ]
  },
  {
   "cell_type": "code",
   "execution_count": 32,
   "id": "23ebe6ea",
   "metadata": {},
   "outputs": [
    {
     "data": {
      "text/plain": [
       "Afghanistan                  52\n",
       "Mexico                       52\n",
       "Monaco                       52\n",
       "Mongolia                     52\n",
       "Montserrat                   52\n",
       "                             ..\n",
       "Former USSR                  21\n",
       "Sint Maarten (Dutch part)    17\n",
       "Curaçao                      17\n",
       "South Sudan                  14\n",
       "Sudan                        14\n",
       "Name: Country, Length: 220, dtype: int64"
      ]
     },
     "execution_count": 32,
     "metadata": {},
     "output_type": "execute_result"
    }
   ],
   "source": [
    "df_gdp['Country'].value_counts()"
   ]
  },
  {
   "cell_type": "code",
   "execution_count": 33,
   "id": "446e74ed",
   "metadata": {},
   "outputs": [],
   "source": [
    "#Checking unique values for 'Year'\n",
    "\n",
    "unique_values_2 = df_gdp['Year'].unique()\n"
   ]
  },
  {
   "cell_type": "code",
   "execution_count": 34,
   "id": "63ccc83a",
   "metadata": {},
   "outputs": [
    {
     "data": {
      "text/plain": [
       "array(['2021', '2020', '2019', '2018', '2017', '2016', '2015', '2014',\n",
       "       '2013', '2012', '2011', '2010', '2009', '2008', '2007', '2006',\n",
       "       '2005', '2004', '2003', '2002', '2001', '2000', '1999', '1998',\n",
       "       '1997', '1996', '1995', '1994', '1993', '1992', '1991', '1990',\n",
       "       '1989', '1988', '1987', '1986', '1985', '1984', '1983', '1982',\n",
       "       '1981', '1980', '1979', '1978', '1977', '1976', '1975', '1974',\n",
       "       '1973', '1972', '1971', '1970'], dtype=object)"
      ]
     },
     "execution_count": 34,
     "metadata": {},
     "output_type": "execute_result"
    }
   ],
   "source": [
    "unique_values_2"
   ]
  },
  {
   "cell_type": "code",
   "execution_count": 40,
   "id": "0ccd4775",
   "metadata": {},
   "outputs": [],
   "source": [
    "#Deleting the unnecessary values from column 'Year'\n",
    "\n",
    "values_to_remove = ['2014',\n",
    "       '2013', '2012', '2011', '2010', '2009', '2008', '2007', '2006',\n",
    "       '2005', '2004', '2003', '2002', '2001', '2000', '1999', '1998',\n",
    "       '1997', '1996', '1995', '1994', '1993', '1992', '1991', '1990',\n",
    "       '1989', '1988', '1987', '1986', '1985', '1984', '1983', '1982',\n",
    "       '1981', '1980', '1979', '1978', '1977', '1976', '1975', '1974',\n",
    "       '1973', '1972', '1971', '1970']"
   ]
  },
  {
   "cell_type": "code",
   "execution_count": 41,
   "id": "dd7387f3",
   "metadata": {},
   "outputs": [],
   "source": [
    "#Rewriting the df_gdp\n",
    "df_gdp = df_gdp[~df_gdp['Year'].isin(values_to_remove)]\n"
   ]
  },
  {
   "cell_type": "code",
   "execution_count": 42,
   "id": "197ac540",
   "metadata": {},
   "outputs": [
    {
     "data": {
      "text/plain": [
       "(1484, 3)"
      ]
     },
     "execution_count": 42,
     "metadata": {},
     "output_type": "execute_result"
    }
   ],
   "source": [
    "df_gdp.shape"
   ]
  },
  {
   "cell_type": "code",
   "execution_count": 43,
   "id": "bbe3a75b",
   "metadata": {},
   "outputs": [],
   "source": [
    "unique_values_3 = df_gdp['Year'].unique()\n"
   ]
  },
  {
   "cell_type": "code",
   "execution_count": 44,
   "id": "abde05f6",
   "metadata": {},
   "outputs": [
    {
     "data": {
      "text/plain": [
       "array(['2021', '2020', '2019', '2018', '2017', '2016', '2015'],\n",
       "      dtype=object)"
      ]
     },
     "execution_count": 44,
     "metadata": {},
     "output_type": "execute_result"
    }
   ],
   "source": [
    "unique_values_3"
   ]
  },
  {
   "cell_type": "code",
   "execution_count": 45,
   "id": "f10bd177",
   "metadata": {},
   "outputs": [
    {
     "data": {
      "text/plain": [
       "2021    212\n",
       "2020    212\n",
       "2019    212\n",
       "2018    212\n",
       "2017    212\n",
       "2016    212\n",
       "2015    212\n",
       "Name: Year, dtype: int64"
      ]
     },
     "execution_count": 45,
     "metadata": {},
     "output_type": "execute_result"
    }
   ],
   "source": [
    "df_gdp['Year'].value_counts()"
   ]
  },
  {
   "cell_type": "code",
   "execution_count": 46,
   "id": "6b09e971",
   "metadata": {},
   "outputs": [
    {
     "data": {
      "text/html": [
       "<div>\n",
       "<style scoped>\n",
       "    .dataframe tbody tr th:only-of-type {\n",
       "        vertical-align: middle;\n",
       "    }\n",
       "\n",
       "    .dataframe tbody tr th {\n",
       "        vertical-align: top;\n",
       "    }\n",
       "\n",
       "    .dataframe thead th {\n",
       "        text-align: right;\n",
       "    }\n",
       "</style>\n",
       "<table border=\"1\" class=\"dataframe\">\n",
       "  <thead>\n",
       "    <tr style=\"text-align: right;\">\n",
       "      <th></th>\n",
       "      <th>Country</th>\n",
       "      <th>Year</th>\n",
       "      <th>GDP</th>\n",
       "    </tr>\n",
       "  </thead>\n",
       "  <tbody>\n",
       "    <tr>\n",
       "      <th>0</th>\n",
       "      <td>Afghanistan</td>\n",
       "      <td>2021</td>\n",
       "      <td>372</td>\n",
       "    </tr>\n",
       "    <tr>\n",
       "      <th>1</th>\n",
       "      <td>Afghanistan</td>\n",
       "      <td>2020</td>\n",
       "      <td>516</td>\n",
       "    </tr>\n",
       "    <tr>\n",
       "      <th>2</th>\n",
       "      <td>Afghanistan</td>\n",
       "      <td>2019</td>\n",
       "      <td>500</td>\n",
       "    </tr>\n",
       "    <tr>\n",
       "      <th>3</th>\n",
       "      <td>Afghanistan</td>\n",
       "      <td>2018</td>\n",
       "      <td>502</td>\n",
       "    </tr>\n",
       "    <tr>\n",
       "      <th>4</th>\n",
       "      <td>Afghanistan</td>\n",
       "      <td>2017</td>\n",
       "      <td>530</td>\n",
       "    </tr>\n",
       "  </tbody>\n",
       "</table>\n",
       "</div>"
      ],
      "text/plain": [
       "       Country  Year  GDP\n",
       "0  Afghanistan  2021  372\n",
       "1  Afghanistan  2020  516\n",
       "2  Afghanistan  2019  500\n",
       "3  Afghanistan  2018  502\n",
       "4  Afghanistan  2017  530"
      ]
     },
     "execution_count": 46,
     "metadata": {},
     "output_type": "execute_result"
    }
   ],
   "source": [
    "df_gdp.head()"
   ]
  },
  {
   "cell_type": "markdown",
   "id": "e659db0e",
   "metadata": {},
   "source": [
    "# Exporting the dataframe"
   ]
  },
  {
   "cell_type": "code",
   "execution_count": 47,
   "id": "4878a435",
   "metadata": {},
   "outputs": [],
   "source": [
    "df_gdp.to_csv(os.path.join(path, 'Prepared Data', 'GDP_wrangeled.csv'))"
   ]
  }
 ],
 "metadata": {
  "kernelspec": {
   "display_name": "Python 3 (ipykernel)",
   "language": "python",
   "name": "python3"
  },
  "language_info": {
   "codemirror_mode": {
    "name": "ipython",
    "version": 3
   },
   "file_extension": ".py",
   "mimetype": "text/x-python",
   "name": "python",
   "nbconvert_exporter": "python",
   "pygments_lexer": "ipython3",
   "version": "3.10.9"
  }
 },
 "nbformat": 4,
 "nbformat_minor": 5
}
