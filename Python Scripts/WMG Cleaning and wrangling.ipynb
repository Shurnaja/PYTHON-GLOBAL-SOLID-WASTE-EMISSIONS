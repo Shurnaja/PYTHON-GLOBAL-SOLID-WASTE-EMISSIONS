{
 "cells": [
  {
   "cell_type": "markdown",
   "id": "d5fcd4bc",
   "metadata": {},
   "source": [
    "# WMG data set - cleaning the data"
   ]
  },
  {
   "cell_type": "code",
   "execution_count": 1,
   "id": "7f6019e3",
   "metadata": {},
   "outputs": [],
   "source": [
    "#Importing libraries\n",
    "import pandas as pd\n",
    "import numpy as np\n",
    "import os"
   ]
  },
  {
   "cell_type": "code",
   "execution_count": 2,
   "id": "6392deb1",
   "metadata": {},
   "outputs": [],
   "source": [
    "path = r'/Users/alexbor/Desktop/Data Analytics/Immersion/Submissions/6. Advanced Analytics/Project_Waste in the world'"
   ]
  },
  {
   "cell_type": "code",
   "execution_count": 3,
   "id": "0030ea9b",
   "metadata": {},
   "outputs": [],
   "source": [
    "#Import dataframe \n",
    "\n",
    "df_wmg = pd.read_csv(os.path.join(path,'Original data','WMG_2019-2022.csv'), index_col = False)\n"
   ]
  },
  {
   "cell_type": "code",
   "execution_count": 4,
   "id": "55dd473d",
   "metadata": {},
   "outputs": [
    {
     "data": {
      "text/html": [
       "<div>\n",
       "<style scoped>\n",
       "    .dataframe tbody tr th:only-of-type {\n",
       "        vertical-align: middle;\n",
       "    }\n",
       "\n",
       "    .dataframe tbody tr th {\n",
       "        vertical-align: top;\n",
       "    }\n",
       "\n",
       "    .dataframe thead th {\n",
       "        text-align: right;\n",
       "    }\n",
       "</style>\n",
       "<table border=\"1\" class=\"dataframe\">\n",
       "  <thead>\n",
       "    <tr style=\"text-align: right;\">\n",
       "      <th></th>\n",
       "      <th>iso</th>\n",
       "      <th>country</th>\n",
       "      <th>WMG.2019</th>\n",
       "      <th>WMG.2020</th>\n",
       "      <th>WMG 2021</th>\n",
       "      <th>WMG 2022</th>\n",
       "    </tr>\n",
       "  </thead>\n",
       "  <tbody>\n",
       "    <tr>\n",
       "      <th>0</th>\n",
       "      <td>AFG</td>\n",
       "      <td>Afghanistan</td>\n",
       "      <td>0.0</td>\n",
       "      <td>0.0</td>\n",
       "      <td>4.4</td>\n",
       "      <td>4.4</td>\n",
       "    </tr>\n",
       "    <tr>\n",
       "      <th>1</th>\n",
       "      <td>AGO</td>\n",
       "      <td>Angola</td>\n",
       "      <td>0.0</td>\n",
       "      <td>0.0</td>\n",
       "      <td>9.6</td>\n",
       "      <td>9.6</td>\n",
       "    </tr>\n",
       "    <tr>\n",
       "      <th>2</th>\n",
       "      <td>ALB</td>\n",
       "      <td>Albania</td>\n",
       "      <td>0.0</td>\n",
       "      <td>0.0</td>\n",
       "      <td>13.4</td>\n",
       "      <td>13.4</td>\n",
       "    </tr>\n",
       "    <tr>\n",
       "      <th>3</th>\n",
       "      <td>ARE</td>\n",
       "      <td>United Arab Emirates</td>\n",
       "      <td>26.8</td>\n",
       "      <td>26.8</td>\n",
       "      <td>43.4</td>\n",
       "      <td>43.4</td>\n",
       "    </tr>\n",
       "    <tr>\n",
       "      <th>4</th>\n",
       "      <td>ARG</td>\n",
       "      <td>Argentina</td>\n",
       "      <td>44.6</td>\n",
       "      <td>44.6</td>\n",
       "      <td>42.4</td>\n",
       "      <td>42.4</td>\n",
       "    </tr>\n",
       "  </tbody>\n",
       "</table>\n",
       "</div>"
      ],
      "text/plain": [
       "   iso               country  WMG.2019  WMG.2020  WMG 2021  WMG 2022\n",
       "0  AFG           Afghanistan       0.0       0.0       4.4       4.4\n",
       "1  AGO                Angola       0.0       0.0       9.6       9.6\n",
       "2  ALB               Albania       0.0       0.0      13.4      13.4\n",
       "3  ARE  United Arab Emirates      26.8      26.8      43.4      43.4\n",
       "4  ARG             Argentina      44.6      44.6      42.4      42.4"
      ]
     },
     "execution_count": 4,
     "metadata": {},
     "output_type": "execute_result"
    }
   ],
   "source": [
    "df_wmg.head()"
   ]
  },
  {
   "cell_type": "markdown",
   "id": "803f8d64",
   "metadata": {},
   "source": [
    "# Exploring the dataframe\n"
   ]
  },
  {
   "cell_type": "code",
   "execution_count": 5,
   "id": "2862d6c0",
   "metadata": {},
   "outputs": [
    {
     "name": "stdout",
     "output_type": "stream",
     "text": [
      "<class 'pandas.core.frame.DataFrame'>\n",
      "RangeIndex: 180 entries, 0 to 179\n",
      "Data columns (total 6 columns):\n",
      " #   Column    Non-Null Count  Dtype  \n",
      "---  ------    --------------  -----  \n",
      " 0   iso       180 non-null    object \n",
      " 1   country   180 non-null    object \n",
      " 2   WMG.2019  180 non-null    float64\n",
      " 3   WMG.2020  180 non-null    float64\n",
      " 4   WMG 2021  180 non-null    float64\n",
      " 5   WMG 2022  180 non-null    float64\n",
      "dtypes: float64(4), object(2)\n",
      "memory usage: 8.6+ KB\n"
     ]
    }
   ],
   "source": [
    "df_wmg.info()"
   ]
  },
  {
   "cell_type": "code",
   "execution_count": 6,
   "id": "f7db48b4",
   "metadata": {},
   "outputs": [
    {
     "data": {
      "text/plain": [
       "(180, 6)"
      ]
     },
     "execution_count": 6,
     "metadata": {},
     "output_type": "execute_result"
    }
   ],
   "source": [
    "df_wmg.shape"
   ]
  },
  {
   "cell_type": "markdown",
   "id": "a2ebeb2b",
   "metadata": {},
   "source": [
    "# Describing data"
   ]
  },
  {
   "cell_type": "code",
   "execution_count": 7,
   "id": "34d5fd13",
   "metadata": {},
   "outputs": [
    {
     "data": {
      "text/html": [
       "<div>\n",
       "<style scoped>\n",
       "    .dataframe tbody tr th:only-of-type {\n",
       "        vertical-align: middle;\n",
       "    }\n",
       "\n",
       "    .dataframe tbody tr th {\n",
       "        vertical-align: top;\n",
       "    }\n",
       "\n",
       "    .dataframe thead th {\n",
       "        text-align: right;\n",
       "    }\n",
       "</style>\n",
       "<table border=\"1\" class=\"dataframe\">\n",
       "  <thead>\n",
       "    <tr style=\"text-align: right;\">\n",
       "      <th></th>\n",
       "      <th>WMG.2019</th>\n",
       "      <th>WMG.2020</th>\n",
       "      <th>WMG 2021</th>\n",
       "      <th>WMG 2022</th>\n",
       "    </tr>\n",
       "  </thead>\n",
       "  <tbody>\n",
       "    <tr>\n",
       "      <th>count</th>\n",
       "      <td>180.000000</td>\n",
       "      <td>180.000000</td>\n",
       "      <td>180.000000</td>\n",
       "      <td>180.000000</td>\n",
       "    </tr>\n",
       "    <tr>\n",
       "      <th>mean</th>\n",
       "      <td>37.097222</td>\n",
       "      <td>37.097222</td>\n",
       "      <td>35.251111</td>\n",
       "      <td>35.251111</td>\n",
       "    </tr>\n",
       "    <tr>\n",
       "      <th>std</th>\n",
       "      <td>36.284371</td>\n",
       "      <td>36.284371</td>\n",
       "      <td>21.352415</td>\n",
       "      <td>21.352415</td>\n",
       "    </tr>\n",
       "    <tr>\n",
       "      <th>min</th>\n",
       "      <td>0.000000</td>\n",
       "      <td>0.000000</td>\n",
       "      <td>2.700000</td>\n",
       "      <td>2.700000</td>\n",
       "    </tr>\n",
       "    <tr>\n",
       "      <th>25%</th>\n",
       "      <td>0.000000</td>\n",
       "      <td>0.000000</td>\n",
       "      <td>15.650000</td>\n",
       "      <td>15.650000</td>\n",
       "    </tr>\n",
       "    <tr>\n",
       "      <th>50%</th>\n",
       "      <td>28.950000</td>\n",
       "      <td>28.950000</td>\n",
       "      <td>31.300000</td>\n",
       "      <td>31.300000</td>\n",
       "    </tr>\n",
       "    <tr>\n",
       "      <th>75%</th>\n",
       "      <td>72.875000</td>\n",
       "      <td>72.875000</td>\n",
       "      <td>54.550000</td>\n",
       "      <td>54.550000</td>\n",
       "    </tr>\n",
       "    <tr>\n",
       "      <th>max</th>\n",
       "      <td>100.000000</td>\n",
       "      <td>100.000000</td>\n",
       "      <td>79.100000</td>\n",
       "      <td>79.100000</td>\n",
       "    </tr>\n",
       "  </tbody>\n",
       "</table>\n",
       "</div>"
      ],
      "text/plain": [
       "         WMG.2019    WMG.2020    WMG 2021    WMG 2022\n",
       "count  180.000000  180.000000  180.000000  180.000000\n",
       "mean    37.097222   37.097222   35.251111   35.251111\n",
       "std     36.284371   36.284371   21.352415   21.352415\n",
       "min      0.000000    0.000000    2.700000    2.700000\n",
       "25%      0.000000    0.000000   15.650000   15.650000\n",
       "50%     28.950000   28.950000   31.300000   31.300000\n",
       "75%     72.875000   72.875000   54.550000   54.550000\n",
       "max    100.000000  100.000000   79.100000   79.100000"
      ]
     },
     "execution_count": 7,
     "metadata": {},
     "output_type": "execute_result"
    }
   ],
   "source": [
    "df_wmg.describe()"
   ]
  },
  {
   "cell_type": "markdown",
   "id": "a79fbd53",
   "metadata": {},
   "source": [
    "# Missing values\n"
   ]
  },
  {
   "cell_type": "code",
   "execution_count": 8,
   "id": "fbfdcd88",
   "metadata": {},
   "outputs": [
    {
     "data": {
      "text/plain": [
       "iso         0\n",
       "country     0\n",
       "WMG.2019    0\n",
       "WMG.2020    0\n",
       "WMG 2021    0\n",
       "WMG 2022    0\n",
       "dtype: int64"
      ]
     },
     "execution_count": 8,
     "metadata": {},
     "output_type": "execute_result"
    }
   ],
   "source": [
    "df_wmg.isnull().sum()"
   ]
  },
  {
   "cell_type": "markdown",
   "id": "9516a00a",
   "metadata": {},
   "source": [
    "**No missing data**"
   ]
  },
  {
   "cell_type": "markdown",
   "id": "8277d2ef",
   "metadata": {},
   "source": [
    "# Duplicates"
   ]
  },
  {
   "cell_type": "code",
   "execution_count": 9,
   "id": "f538c5ed",
   "metadata": {},
   "outputs": [],
   "source": [
    "df_dups = df_wmg[df_wmg.duplicated()]"
   ]
  },
  {
   "cell_type": "code",
   "execution_count": 10,
   "id": "9df3304b",
   "metadata": {},
   "outputs": [
    {
     "data": {
      "text/html": [
       "<div>\n",
       "<style scoped>\n",
       "    .dataframe tbody tr th:only-of-type {\n",
       "        vertical-align: middle;\n",
       "    }\n",
       "\n",
       "    .dataframe tbody tr th {\n",
       "        vertical-align: top;\n",
       "    }\n",
       "\n",
       "    .dataframe thead th {\n",
       "        text-align: right;\n",
       "    }\n",
       "</style>\n",
       "<table border=\"1\" class=\"dataframe\">\n",
       "  <thead>\n",
       "    <tr style=\"text-align: right;\">\n",
       "      <th></th>\n",
       "      <th>iso</th>\n",
       "      <th>country</th>\n",
       "      <th>WMG.2019</th>\n",
       "      <th>WMG.2020</th>\n",
       "      <th>WMG 2021</th>\n",
       "      <th>WMG 2022</th>\n",
       "    </tr>\n",
       "  </thead>\n",
       "  <tbody>\n",
       "  </tbody>\n",
       "</table>\n",
       "</div>"
      ],
      "text/plain": [
       "Empty DataFrame\n",
       "Columns: [iso, country, WMG.2019, WMG.2020, WMG 2021, WMG 2022]\n",
       "Index: []"
      ]
     },
     "execution_count": 10,
     "metadata": {},
     "output_type": "execute_result"
    }
   ],
   "source": [
    "df_dups"
   ]
  },
  {
   "cell_type": "markdown",
   "id": "9cd6e094",
   "metadata": {},
   "source": [
    "**No duplicates**"
   ]
  },
  {
   "cell_type": "markdown",
   "id": "8429d76e",
   "metadata": {},
   "source": [
    "# Changing names of the columns"
   ]
  },
  {
   "cell_type": "code",
   "execution_count": 11,
   "id": "66aeacc8",
   "metadata": {},
   "outputs": [],
   "source": [
    "df_wmg = df_wmg.rename(columns={'country':'Country', 'WMG.2019': '2019', 'WMG.2020': '2020', 'WMG 2021': '2021', 'WMG 2022': '2022'})\n"
   ]
  },
  {
   "cell_type": "code",
   "execution_count": 12,
   "id": "e63424e0",
   "metadata": {},
   "outputs": [
    {
     "data": {
      "text/html": [
       "<div>\n",
       "<style scoped>\n",
       "    .dataframe tbody tr th:only-of-type {\n",
       "        vertical-align: middle;\n",
       "    }\n",
       "\n",
       "    .dataframe tbody tr th {\n",
       "        vertical-align: top;\n",
       "    }\n",
       "\n",
       "    .dataframe thead th {\n",
       "        text-align: right;\n",
       "    }\n",
       "</style>\n",
       "<table border=\"1\" class=\"dataframe\">\n",
       "  <thead>\n",
       "    <tr style=\"text-align: right;\">\n",
       "      <th></th>\n",
       "      <th>iso</th>\n",
       "      <th>Country</th>\n",
       "      <th>2019</th>\n",
       "      <th>2020</th>\n",
       "      <th>2021</th>\n",
       "      <th>2022</th>\n",
       "    </tr>\n",
       "  </thead>\n",
       "  <tbody>\n",
       "    <tr>\n",
       "      <th>0</th>\n",
       "      <td>AFG</td>\n",
       "      <td>Afghanistan</td>\n",
       "      <td>0.0</td>\n",
       "      <td>0.0</td>\n",
       "      <td>4.4</td>\n",
       "      <td>4.4</td>\n",
       "    </tr>\n",
       "    <tr>\n",
       "      <th>1</th>\n",
       "      <td>AGO</td>\n",
       "      <td>Angola</td>\n",
       "      <td>0.0</td>\n",
       "      <td>0.0</td>\n",
       "      <td>9.6</td>\n",
       "      <td>9.6</td>\n",
       "    </tr>\n",
       "    <tr>\n",
       "      <th>2</th>\n",
       "      <td>ALB</td>\n",
       "      <td>Albania</td>\n",
       "      <td>0.0</td>\n",
       "      <td>0.0</td>\n",
       "      <td>13.4</td>\n",
       "      <td>13.4</td>\n",
       "    </tr>\n",
       "    <tr>\n",
       "      <th>3</th>\n",
       "      <td>ARE</td>\n",
       "      <td>United Arab Emirates</td>\n",
       "      <td>26.8</td>\n",
       "      <td>26.8</td>\n",
       "      <td>43.4</td>\n",
       "      <td>43.4</td>\n",
       "    </tr>\n",
       "    <tr>\n",
       "      <th>4</th>\n",
       "      <td>ARG</td>\n",
       "      <td>Argentina</td>\n",
       "      <td>44.6</td>\n",
       "      <td>44.6</td>\n",
       "      <td>42.4</td>\n",
       "      <td>42.4</td>\n",
       "    </tr>\n",
       "  </tbody>\n",
       "</table>\n",
       "</div>"
      ],
      "text/plain": [
       "   iso               Country  2019  2020  2021  2022\n",
       "0  AFG           Afghanistan   0.0   0.0   4.4   4.4\n",
       "1  AGO                Angola   0.0   0.0   9.6   9.6\n",
       "2  ALB               Albania   0.0   0.0  13.4  13.4\n",
       "3  ARE  United Arab Emirates  26.8  26.8  43.4  43.4\n",
       "4  ARG             Argentina  44.6  44.6  42.4  42.4"
      ]
     },
     "execution_count": 12,
     "metadata": {},
     "output_type": "execute_result"
    }
   ],
   "source": [
    "df_wmg.head()"
   ]
  },
  {
   "cell_type": "markdown",
   "id": "97381ef5",
   "metadata": {},
   "source": [
    "# Further exploration"
   ]
  },
  {
   "cell_type": "code",
   "execution_count": 13,
   "id": "813d8244",
   "metadata": {},
   "outputs": [],
   "source": [
    "#Checking Country names\n",
    "\n",
    "unique_values = df_wmg['Country'].unique()\n"
   ]
  },
  {
   "cell_type": "code",
   "execution_count": 14,
   "id": "69d24f3b",
   "metadata": {},
   "outputs": [
    {
     "data": {
      "text/plain": [
       "array(['Afghanistan', 'Angola', 'Albania', 'United Arab Emirates',\n",
       "       'Argentina', 'Armenia', 'Antigua and Barbuda', 'Australia',\n",
       "       'Austria', 'Azerbaijan', 'Burundi', 'Belgium', 'Benin',\n",
       "       'Burkina Faso', 'Bangladesh', 'Bulgaria', 'Bahrain', 'Bahamas',\n",
       "       'Bosnia and Herzegovina', 'Belarus', 'Belize', 'Bolivia', 'Brazil',\n",
       "       'Barbados', 'Brunei Darussalam', 'Bhutan', 'Botswana',\n",
       "       'Central African Republic', 'Canada', 'Switzerland', 'Chile',\n",
       "       'China', \"Cote d'Ivoire\", 'Cameroon', 'Dem. Rep. Congo',\n",
       "       'Republic of Congo', 'Colombia', 'Comoros', 'Cabo Verde',\n",
       "       'Costa Rica', 'Cuba', 'Cyprus', 'Czech Republic', 'Germany',\n",
       "       'Djibouti', 'Dominica', 'Denmark', 'Dominican Republic', 'Algeria',\n",
       "       'Ecuador', 'Egypt', 'Eritrea', 'Spain', 'Estonia', 'Ethiopia',\n",
       "       'Finland', 'Fiji', 'France', 'Micronesia', 'Gabon',\n",
       "       'United Kingdom', 'Georgia', 'Ghana', 'Guinea', 'Gambia',\n",
       "       'Guinea-Bissau', 'Equatorial Guinea', 'Greece', 'Grenada',\n",
       "       'Guatemala', 'Guyana', 'Honduras', 'Croatia', 'Haiti', 'Hungary',\n",
       "       'Indonesia', 'India', 'Ireland', 'Iran', 'Iraq', 'Iceland',\n",
       "       'Israel', 'Italy', 'Jamaica', 'Jordan', 'Japan', 'Kazakhstan',\n",
       "       'Kenya', 'Kyrgyzstan', 'Cambodia', 'Kiribati', 'South Korea',\n",
       "       'Kuwait', 'Laos', 'Lebanon', 'Liberia', 'Saint Lucia', 'Sri Lanka',\n",
       "       'Lesotho', 'Lithuania', 'Luxembourg', 'Latvia', 'Morocco',\n",
       "       'Moldova', 'Madagascar', 'Maldives', 'Mexico', 'Marshall Islands',\n",
       "       'North Macedonia', 'Mali', 'Malta', 'Myanmar', 'Montenegro',\n",
       "       'Mongolia', 'Mozambique', 'Mauritania', 'Mauritius', 'Malawi',\n",
       "       'Malaysia', 'Namibia', 'Niger', 'Nigeria', 'Nicaragua',\n",
       "       'Netherlands', 'Norway', 'Nepal', 'New Zealand', 'Oman',\n",
       "       'Pakistan', 'Panama', 'Peru', 'Philippines', 'Papua New Guinea',\n",
       "       'Poland', 'Portugal', 'Paraguay', 'Qatar', 'Romania', 'Russia',\n",
       "       'Rwanda', 'Saudi Arabia', 'Sudan', 'Senegal', 'Singapore',\n",
       "       'Solomon Islands', 'Sierra Leone', 'El Salvador', 'Serbia',\n",
       "       'Sao Tome and Principe', 'Suriname', 'Slovakia', 'Slovenia',\n",
       "       'Sweden', 'Eswatini', 'Seychelles', 'Chad', 'Togo', 'Thailand',\n",
       "       'Tajikistan', 'Turkmenistan', 'Timor-Leste', 'Tonga',\n",
       "       'Trinidad and Tobago', 'Tunisia', 'Turkey', 'Taiwan', 'Tanzania',\n",
       "       'Uganda', 'Ukraine', 'Uruguay', 'United States of America',\n",
       "       'Uzbekistan', 'Saint Vincent and the Grenadines', 'Venezuela',\n",
       "       'Viet Nam', 'Vanuatu', 'Samoa', 'South Africa', 'Zambia',\n",
       "       'Zimbabwe'], dtype=object)"
      ]
     },
     "execution_count": 14,
     "metadata": {},
     "output_type": "execute_result"
    }
   ],
   "source": [
    "unique_values"
   ]
  },
  {
   "cell_type": "code",
   "execution_count": 15,
   "id": "84effad5",
   "metadata": {},
   "outputs": [
    {
     "data": {
      "text/plain": [
       "Afghanistan    1\n",
       "Mongolia       1\n",
       "Mauritania     1\n",
       "Mauritius      1\n",
       "Malawi         1\n",
       "              ..\n",
       "Georgia        1\n",
       "Ghana          1\n",
       "Guinea         1\n",
       "Gambia         1\n",
       "Zimbabwe       1\n",
       "Name: Country, Length: 180, dtype: int64"
      ]
     },
     "execution_count": 15,
     "metadata": {},
     "output_type": "execute_result"
    }
   ],
   "source": [
    "df_wmg['Country'].value_counts()"
   ]
  },
  {
   "cell_type": "markdown",
   "id": "73553cfa",
   "metadata": {},
   "source": [
    "# Transposing data"
   ]
  },
  {
   "cell_type": "code",
   "execution_count": 16,
   "id": "61d69e5d",
   "metadata": {},
   "outputs": [],
   "source": [
    "df_transposed = df_wmg.melt(id_vars=['iso', 'Country'], var_name=['Year'], value_name='Value')\n"
   ]
  },
  {
   "cell_type": "code",
   "execution_count": 17,
   "id": "2d5f0f4e",
   "metadata": {
    "scrolled": true
   },
   "outputs": [
    {
     "data": {
      "text/html": [
       "<div>\n",
       "<style scoped>\n",
       "    .dataframe tbody tr th:only-of-type {\n",
       "        vertical-align: middle;\n",
       "    }\n",
       "\n",
       "    .dataframe tbody tr th {\n",
       "        vertical-align: top;\n",
       "    }\n",
       "\n",
       "    .dataframe thead th {\n",
       "        text-align: right;\n",
       "    }\n",
       "</style>\n",
       "<table border=\"1\" class=\"dataframe\">\n",
       "  <thead>\n",
       "    <tr style=\"text-align: right;\">\n",
       "      <th></th>\n",
       "      <th>iso</th>\n",
       "      <th>Country</th>\n",
       "      <th>Year</th>\n",
       "      <th>Value</th>\n",
       "    </tr>\n",
       "  </thead>\n",
       "  <tbody>\n",
       "    <tr>\n",
       "      <th>0</th>\n",
       "      <td>AFG</td>\n",
       "      <td>Afghanistan</td>\n",
       "      <td>2019</td>\n",
       "      <td>0.0</td>\n",
       "    </tr>\n",
       "    <tr>\n",
       "      <th>1</th>\n",
       "      <td>AGO</td>\n",
       "      <td>Angola</td>\n",
       "      <td>2019</td>\n",
       "      <td>0.0</td>\n",
       "    </tr>\n",
       "    <tr>\n",
       "      <th>2</th>\n",
       "      <td>ALB</td>\n",
       "      <td>Albania</td>\n",
       "      <td>2019</td>\n",
       "      <td>0.0</td>\n",
       "    </tr>\n",
       "    <tr>\n",
       "      <th>3</th>\n",
       "      <td>ARE</td>\n",
       "      <td>United Arab Emirates</td>\n",
       "      <td>2019</td>\n",
       "      <td>26.8</td>\n",
       "    </tr>\n",
       "    <tr>\n",
       "      <th>4</th>\n",
       "      <td>ARG</td>\n",
       "      <td>Argentina</td>\n",
       "      <td>2019</td>\n",
       "      <td>44.6</td>\n",
       "    </tr>\n",
       "    <tr>\n",
       "      <th>...</th>\n",
       "      <td>...</td>\n",
       "      <td>...</td>\n",
       "      <td>...</td>\n",
       "      <td>...</td>\n",
       "    </tr>\n",
       "    <tr>\n",
       "      <th>715</th>\n",
       "      <td>VUT</td>\n",
       "      <td>Vanuatu</td>\n",
       "      <td>2022</td>\n",
       "      <td>36.5</td>\n",
       "    </tr>\n",
       "    <tr>\n",
       "      <th>716</th>\n",
       "      <td>WSM</td>\n",
       "      <td>Samoa</td>\n",
       "      <td>2022</td>\n",
       "      <td>51.2</td>\n",
       "    </tr>\n",
       "    <tr>\n",
       "      <th>717</th>\n",
       "      <td>ZAF</td>\n",
       "      <td>South Africa</td>\n",
       "      <td>2022</td>\n",
       "      <td>39.2</td>\n",
       "    </tr>\n",
       "    <tr>\n",
       "      <th>718</th>\n",
       "      <td>ZMB</td>\n",
       "      <td>Zambia</td>\n",
       "      <td>2022</td>\n",
       "      <td>6.9</td>\n",
       "    </tr>\n",
       "    <tr>\n",
       "      <th>719</th>\n",
       "      <td>ZWE</td>\n",
       "      <td>Zimbabwe</td>\n",
       "      <td>2022</td>\n",
       "      <td>13.3</td>\n",
       "    </tr>\n",
       "  </tbody>\n",
       "</table>\n",
       "<p>720 rows × 4 columns</p>\n",
       "</div>"
      ],
      "text/plain": [
       "     iso               Country  Year  Value\n",
       "0    AFG           Afghanistan  2019    0.0\n",
       "1    AGO                Angola  2019    0.0\n",
       "2    ALB               Albania  2019    0.0\n",
       "3    ARE  United Arab Emirates  2019   26.8\n",
       "4    ARG             Argentina  2019   44.6\n",
       "..   ...                   ...   ...    ...\n",
       "715  VUT               Vanuatu  2022   36.5\n",
       "716  WSM                 Samoa  2022   51.2\n",
       "717  ZAF          South Africa  2022   39.2\n",
       "718  ZMB                Zambia  2022    6.9\n",
       "719  ZWE              Zimbabwe  2022   13.3\n",
       "\n",
       "[720 rows x 4 columns]"
      ]
     },
     "execution_count": 17,
     "metadata": {},
     "output_type": "execute_result"
    }
   ],
   "source": [
    "df_transposed"
   ]
  },
  {
   "cell_type": "markdown",
   "id": "635d6620",
   "metadata": {},
   "source": [
    "# Deleting iso column"
   ]
  },
  {
   "cell_type": "code",
   "execution_count": 21,
   "id": "83c16dbd",
   "metadata": {},
   "outputs": [],
   "source": [
    "df_transposed= df_transposed.drop(columns=['iso'])"
   ]
  },
  {
   "cell_type": "code",
   "execution_count": 22,
   "id": "3d972538",
   "metadata": {},
   "outputs": [
    {
     "data": {
      "text/html": [
       "<div>\n",
       "<style scoped>\n",
       "    .dataframe tbody tr th:only-of-type {\n",
       "        vertical-align: middle;\n",
       "    }\n",
       "\n",
       "    .dataframe tbody tr th {\n",
       "        vertical-align: top;\n",
       "    }\n",
       "\n",
       "    .dataframe thead th {\n",
       "        text-align: right;\n",
       "    }\n",
       "</style>\n",
       "<table border=\"1\" class=\"dataframe\">\n",
       "  <thead>\n",
       "    <tr style=\"text-align: right;\">\n",
       "      <th></th>\n",
       "      <th>Country</th>\n",
       "      <th>Year</th>\n",
       "      <th>Value</th>\n",
       "    </tr>\n",
       "  </thead>\n",
       "  <tbody>\n",
       "    <tr>\n",
       "      <th>0</th>\n",
       "      <td>Afghanistan</td>\n",
       "      <td>2019</td>\n",
       "      <td>0.0</td>\n",
       "    </tr>\n",
       "    <tr>\n",
       "      <th>1</th>\n",
       "      <td>Angola</td>\n",
       "      <td>2019</td>\n",
       "      <td>0.0</td>\n",
       "    </tr>\n",
       "    <tr>\n",
       "      <th>2</th>\n",
       "      <td>Albania</td>\n",
       "      <td>2019</td>\n",
       "      <td>0.0</td>\n",
       "    </tr>\n",
       "    <tr>\n",
       "      <th>3</th>\n",
       "      <td>United Arab Emirates</td>\n",
       "      <td>2019</td>\n",
       "      <td>26.8</td>\n",
       "    </tr>\n",
       "    <tr>\n",
       "      <th>4</th>\n",
       "      <td>Argentina</td>\n",
       "      <td>2019</td>\n",
       "      <td>44.6</td>\n",
       "    </tr>\n",
       "  </tbody>\n",
       "</table>\n",
       "</div>"
      ],
      "text/plain": [
       "                Country  Year  Value\n",
       "0           Afghanistan  2019    0.0\n",
       "1                Angola  2019    0.0\n",
       "2               Albania  2019    0.0\n",
       "3  United Arab Emirates  2019   26.8\n",
       "4             Argentina  2019   44.6"
      ]
     },
     "execution_count": 22,
     "metadata": {},
     "output_type": "execute_result"
    }
   ],
   "source": [
    "df_transposed.head()"
   ]
  },
  {
   "cell_type": "markdown",
   "id": "26f0b222",
   "metadata": {},
   "source": [
    "# Exporting dataframe"
   ]
  },
  {
   "cell_type": "code",
   "execution_count": 23,
   "id": "c399816c",
   "metadata": {},
   "outputs": [],
   "source": [
    "df_transposed.to_csv(os.path.join(path, 'Prepared Data', 'WMG_wrangeled.csv'))"
   ]
  },
  {
   "cell_type": "code",
   "execution_count": null,
   "id": "af9bd067",
   "metadata": {},
   "outputs": [],
   "source": []
  }
 ],
 "metadata": {
  "kernelspec": {
   "display_name": "Python 3 (ipykernel)",
   "language": "python",
   "name": "python3"
  },
  "language_info": {
   "codemirror_mode": {
    "name": "ipython",
    "version": 3
   },
   "file_extension": ".py",
   "mimetype": "text/x-python",
   "name": "python",
   "nbconvert_exporter": "python",
   "pygments_lexer": "ipython3",
   "version": "3.10.9"
  }
 },
 "nbformat": 4,
 "nbformat_minor": 5
}
