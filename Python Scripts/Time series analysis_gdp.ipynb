{
 "cells": [
  {
   "cell_type": "markdown",
   "id": "2fcd27f0",
   "metadata": {},
   "source": [
    "# Time series analysis of the GDP data"
   ]
  },
  {
   "cell_type": "markdown",
   "id": "f1482876",
   "metadata": {},
   "source": [
    "## Importing data and libraries "
   ]
  },
  {
   "cell_type": "code",
   "execution_count": 1,
   "id": "f2310df9",
   "metadata": {},
   "outputs": [],
   "source": [
    "import quandl\n",
    "import pandas as pd\n",
    "import numpy as np\n",
    "import seaborn as sns\n",
    "import matplotlib\n",
    "import matplotlib.pyplot as plt\n",
    "import statsmodels.api as sm # Using .api imports the public access version of statsmodels, which is a library that handles \n",
    "# statistical models.\n",
    "import os\n",
    "import warnings # This is a library that handles warnings.\n",
    "\n",
    "warnings.filterwarnings(\"ignore\") # Disable deprecation warnings that could indicate, for instance, a suspended library or \n",
    "# feature. These are more relevant to developers and very seldom to analysts.\n",
    "\n",
    "plt.style.use('fivethirtyeight') # This is a styling option for how your plots will appear. More examples here:\n",
    "# https://matplotlib.org/3.2.1/tutorials/introductory/customizing.html\n",
    "# https://matplotlib.org/3.1.0/gallery/style_sheets/fivethirtyeight.html"
   ]
  },
  {
   "cell_type": "code",
   "execution_count": 2,
   "id": "88832da7",
   "metadata": {},
   "outputs": [],
   "source": [
    "path = r'/Users/alexbor/Desktop/Data Analytics/Immersion/Submissions/6. Advanced Analytics/Project_Waste in the world'"
   ]
  },
  {
   "cell_type": "code",
   "execution_count": 3,
   "id": "c1cd0dc8",
   "metadata": {},
   "outputs": [],
   "source": [
    "#Import dataframes\n",
    "\n",
    "df_all = pd.read_csv(os.path.join(path,'Prepared data','Complete_Dataset_without_0_emissions_with_extreme_outliers.csv'), index_col = False)\n"
   ]
  },
  {
   "cell_type": "markdown",
   "id": "86a24e6d",
   "metadata": {},
   "source": [
    "## Data cleaning and wrangling"
   ]
  },
  {
   "cell_type": "code",
   "execution_count": 4,
   "id": "dd020650",
   "metadata": {},
   "outputs": [
    {
     "data": {
      "text/html": [
       "<div>\n",
       "<style scoped>\n",
       "    .dataframe tbody tr th:only-of-type {\n",
       "        vertical-align: middle;\n",
       "    }\n",
       "\n",
       "    .dataframe tbody tr th {\n",
       "        vertical-align: top;\n",
       "    }\n",
       "\n",
       "    .dataframe thead th {\n",
       "        text-align: right;\n",
       "    }\n",
       "</style>\n",
       "<table border=\"1\" class=\"dataframe\">\n",
       "  <thead>\n",
       "    <tr style=\"text-align: right;\">\n",
       "      <th></th>\n",
       "      <th>Unnamed: 0.1</th>\n",
       "      <th>Unnamed: 0</th>\n",
       "      <th>Country</th>\n",
       "      <th>Year</th>\n",
       "      <th>Type of emissions</th>\n",
       "      <th>Gas type</th>\n",
       "      <th>Emissions quantity, tonnes</th>\n",
       "      <th>Total population, thousands</th>\n",
       "      <th>Population density</th>\n",
       "      <th>GDP per capita</th>\n",
       "      <th>WMG</th>\n",
       "      <th>Emissions by year &amp; country</th>\n",
       "      <th>GDP per cap. category</th>\n",
       "      <th>Country category by emissions</th>\n",
       "    </tr>\n",
       "  </thead>\n",
       "  <tbody>\n",
       "    <tr>\n",
       "      <th>0</th>\n",
       "      <td>0</td>\n",
       "      <td>0</td>\n",
       "      <td>Aruba</td>\n",
       "      <td>2017</td>\n",
       "      <td>solid-waste-disposal</td>\n",
       "      <td>ch4</td>\n",
       "      <td>487.0</td>\n",
       "      <td>105.0</td>\n",
       "      <td>585.769</td>\n",
       "      <td>29329.0</td>\n",
       "      <td>NaN</td>\n",
       "      <td>55031.0</td>\n",
       "      <td>High GDP per cap.</td>\n",
       "      <td>Low emissions country</td>\n",
       "    </tr>\n",
       "    <tr>\n",
       "      <th>1</th>\n",
       "      <td>1</td>\n",
       "      <td>1</td>\n",
       "      <td>Aruba</td>\n",
       "      <td>2017</td>\n",
       "      <td>solid-waste-disposal</td>\n",
       "      <td>co2e_100yr</td>\n",
       "      <td>13636.0</td>\n",
       "      <td>105.0</td>\n",
       "      <td>585.769</td>\n",
       "      <td>29329.0</td>\n",
       "      <td>NaN</td>\n",
       "      <td>55031.0</td>\n",
       "      <td>High GDP per cap.</td>\n",
       "      <td>Low emissions country</td>\n",
       "    </tr>\n",
       "    <tr>\n",
       "      <th>2</th>\n",
       "      <td>2</td>\n",
       "      <td>2</td>\n",
       "      <td>Aruba</td>\n",
       "      <td>2017</td>\n",
       "      <td>solid-waste-disposal</td>\n",
       "      <td>co2e_20yr</td>\n",
       "      <td>40908.0</td>\n",
       "      <td>105.0</td>\n",
       "      <td>585.769</td>\n",
       "      <td>29329.0</td>\n",
       "      <td>NaN</td>\n",
       "      <td>55031.0</td>\n",
       "      <td>High GDP per cap.</td>\n",
       "      <td>Low emissions country</td>\n",
       "    </tr>\n",
       "    <tr>\n",
       "      <th>3</th>\n",
       "      <td>3</td>\n",
       "      <td>3</td>\n",
       "      <td>Aruba</td>\n",
       "      <td>2018</td>\n",
       "      <td>solid-waste-disposal</td>\n",
       "      <td>co2e_20yr</td>\n",
       "      <td>41244.0</td>\n",
       "      <td>105.0</td>\n",
       "      <td>588.675</td>\n",
       "      <td>30220.0</td>\n",
       "      <td>NaN</td>\n",
       "      <td>55483.0</td>\n",
       "      <td>High GDP per cap.</td>\n",
       "      <td>Low emissions country</td>\n",
       "    </tr>\n",
       "    <tr>\n",
       "      <th>4</th>\n",
       "      <td>4</td>\n",
       "      <td>4</td>\n",
       "      <td>Afganistan</td>\n",
       "      <td>2015</td>\n",
       "      <td>solid-waste-disposal</td>\n",
       "      <td>ch4</td>\n",
       "      <td>21000.0</td>\n",
       "      <td>NaN</td>\n",
       "      <td>NaN</td>\n",
       "      <td>NaN</td>\n",
       "      <td>NaN</td>\n",
       "      <td>2373000.0</td>\n",
       "      <td>NaN</td>\n",
       "      <td>Insignificant emissions country</td>\n",
       "    </tr>\n",
       "  </tbody>\n",
       "</table>\n",
       "</div>"
      ],
      "text/plain": [
       "   Unnamed: 0.1  Unnamed: 0     Country  Year     Type of emissions  \\\n",
       "0             0           0       Aruba  2017  solid-waste-disposal   \n",
       "1             1           1       Aruba  2017  solid-waste-disposal   \n",
       "2             2           2       Aruba  2017  solid-waste-disposal   \n",
       "3             3           3       Aruba  2018  solid-waste-disposal   \n",
       "4             4           4  Afganistan  2015  solid-waste-disposal   \n",
       "\n",
       "     Gas type  Emissions quantity, tonnes  Total population, thousands  \\\n",
       "0         ch4                       487.0                        105.0   \n",
       "1  co2e_100yr                     13636.0                        105.0   \n",
       "2   co2e_20yr                     40908.0                        105.0   \n",
       "3   co2e_20yr                     41244.0                        105.0   \n",
       "4         ch4                     21000.0                          NaN   \n",
       "\n",
       "   Population density  GDP per capita  WMG  Emissions by year & country  \\\n",
       "0             585.769         29329.0  NaN                      55031.0   \n",
       "1             585.769         29329.0  NaN                      55031.0   \n",
       "2             585.769         29329.0  NaN                      55031.0   \n",
       "3             588.675         30220.0  NaN                      55483.0   \n",
       "4                 NaN             NaN  NaN                    2373000.0   \n",
       "\n",
       "  GDP per cap. category    Country category by emissions  \n",
       "0     High GDP per cap.            Low emissions country  \n",
       "1     High GDP per cap.            Low emissions country  \n",
       "2     High GDP per cap.            Low emissions country  \n",
       "3     High GDP per cap.            Low emissions country  \n",
       "4                   NaN  Insignificant emissions country  "
      ]
     },
     "execution_count": 4,
     "metadata": {},
     "output_type": "execute_result"
    }
   ],
   "source": [
    "df_all.head()"
   ]
  },
  {
   "cell_type": "code",
   "execution_count": 5,
   "id": "b1b89615",
   "metadata": {},
   "outputs": [],
   "source": [
    "#Creating a subset with necessary columns\n",
    "\n",
    "df_all_sub = df_all[['Country','Year', 'GDP per capita']]\n"
   ]
  },
  {
   "cell_type": "code",
   "execution_count": 6,
   "id": "faf49ad1",
   "metadata": {
    "scrolled": true
   },
   "outputs": [
    {
     "data": {
      "text/html": [
       "<div>\n",
       "<style scoped>\n",
       "    .dataframe tbody tr th:only-of-type {\n",
       "        vertical-align: middle;\n",
       "    }\n",
       "\n",
       "    .dataframe tbody tr th {\n",
       "        vertical-align: top;\n",
       "    }\n",
       "\n",
       "    .dataframe thead th {\n",
       "        text-align: right;\n",
       "    }\n",
       "</style>\n",
       "<table border=\"1\" class=\"dataframe\">\n",
       "  <thead>\n",
       "    <tr style=\"text-align: right;\">\n",
       "      <th></th>\n",
       "      <th>Country</th>\n",
       "      <th>Year</th>\n",
       "      <th>GDP per capita</th>\n",
       "    </tr>\n",
       "  </thead>\n",
       "  <tbody>\n",
       "    <tr>\n",
       "      <th>0</th>\n",
       "      <td>Aruba</td>\n",
       "      <td>2017</td>\n",
       "      <td>29329.0</td>\n",
       "    </tr>\n",
       "    <tr>\n",
       "      <th>1</th>\n",
       "      <td>Aruba</td>\n",
       "      <td>2017</td>\n",
       "      <td>29329.0</td>\n",
       "    </tr>\n",
       "    <tr>\n",
       "      <th>2</th>\n",
       "      <td>Aruba</td>\n",
       "      <td>2017</td>\n",
       "      <td>29329.0</td>\n",
       "    </tr>\n",
       "    <tr>\n",
       "      <th>3</th>\n",
       "      <td>Aruba</td>\n",
       "      <td>2018</td>\n",
       "      <td>30220.0</td>\n",
       "    </tr>\n",
       "    <tr>\n",
       "      <th>4</th>\n",
       "      <td>Afganistan</td>\n",
       "      <td>2015</td>\n",
       "      <td>NaN</td>\n",
       "    </tr>\n",
       "  </tbody>\n",
       "</table>\n",
       "</div>"
      ],
      "text/plain": [
       "      Country  Year  GDP per capita\n",
       "0       Aruba  2017         29329.0\n",
       "1       Aruba  2017         29329.0\n",
       "2       Aruba  2017         29329.0\n",
       "3       Aruba  2018         30220.0\n",
       "4  Afganistan  2015             NaN"
      ]
     },
     "execution_count": 6,
     "metadata": {},
     "output_type": "execute_result"
    }
   ],
   "source": [
    "df_all_sub.head()"
   ]
  },
  {
   "cell_type": "code",
   "execution_count": 7,
   "id": "7d54ab6d",
   "metadata": {},
   "outputs": [],
   "source": [
    "#Replacing the \"Year\" data values to the necessary format\n",
    "\n",
    "df_all_sub['Year'] = df_all_sub['Year'].replace(2015, '2015-01-01')\n"
   ]
  },
  {
   "cell_type": "code",
   "execution_count": 8,
   "id": "e6c0c94c",
   "metadata": {},
   "outputs": [],
   "source": [
    "df_all_sub['Year'] = df_all_sub['Year'].replace(2016, '2016-01-01')\n"
   ]
  },
  {
   "cell_type": "code",
   "execution_count": 9,
   "id": "6ce3eb6e",
   "metadata": {},
   "outputs": [],
   "source": [
    "df_all_sub['Year'] = df_all_sub['Year'].replace(2017, '2017-01-01')\n"
   ]
  },
  {
   "cell_type": "code",
   "execution_count": 10,
   "id": "a584e02f",
   "metadata": {},
   "outputs": [],
   "source": [
    "df_all_sub['Year'] = df_all_sub['Year'].replace(2018, '2018-01-01')\n"
   ]
  },
  {
   "cell_type": "code",
   "execution_count": 11,
   "id": "57e40167",
   "metadata": {},
   "outputs": [],
   "source": [
    "df_all_sub['Year'] = df_all_sub['Year'].replace(2019, '2019-01-01')\n"
   ]
  },
  {
   "cell_type": "code",
   "execution_count": 12,
   "id": "91b7fefa",
   "metadata": {},
   "outputs": [],
   "source": [
    "df_all_sub['Year'] = df_all_sub['Year'].replace(2020, '2020-01-01')\n"
   ]
  },
  {
   "cell_type": "code",
   "execution_count": 13,
   "id": "9473e8cc",
   "metadata": {},
   "outputs": [],
   "source": [
    "df_all_sub['Year'] = df_all_sub['Year'].replace(2021, '2021-01-01')\n"
   ]
  },
  {
   "cell_type": "code",
   "execution_count": 14,
   "id": "c6614ced",
   "metadata": {
    "scrolled": true
   },
   "outputs": [
    {
     "data": {
      "text/html": [
       "<div>\n",
       "<style scoped>\n",
       "    .dataframe tbody tr th:only-of-type {\n",
       "        vertical-align: middle;\n",
       "    }\n",
       "\n",
       "    .dataframe tbody tr th {\n",
       "        vertical-align: top;\n",
       "    }\n",
       "\n",
       "    .dataframe thead th {\n",
       "        text-align: right;\n",
       "    }\n",
       "</style>\n",
       "<table border=\"1\" class=\"dataframe\">\n",
       "  <thead>\n",
       "    <tr style=\"text-align: right;\">\n",
       "      <th></th>\n",
       "      <th>Country</th>\n",
       "      <th>Year</th>\n",
       "      <th>GDP per capita</th>\n",
       "    </tr>\n",
       "  </thead>\n",
       "  <tbody>\n",
       "    <tr>\n",
       "      <th>0</th>\n",
       "      <td>Aruba</td>\n",
       "      <td>2017-01-01</td>\n",
       "      <td>29329.0</td>\n",
       "    </tr>\n",
       "    <tr>\n",
       "      <th>1</th>\n",
       "      <td>Aruba</td>\n",
       "      <td>2017-01-01</td>\n",
       "      <td>29329.0</td>\n",
       "    </tr>\n",
       "    <tr>\n",
       "      <th>2</th>\n",
       "      <td>Aruba</td>\n",
       "      <td>2017-01-01</td>\n",
       "      <td>29329.0</td>\n",
       "    </tr>\n",
       "    <tr>\n",
       "      <th>3</th>\n",
       "      <td>Aruba</td>\n",
       "      <td>2018-01-01</td>\n",
       "      <td>30220.0</td>\n",
       "    </tr>\n",
       "    <tr>\n",
       "      <th>4</th>\n",
       "      <td>Afganistan</td>\n",
       "      <td>2015-01-01</td>\n",
       "      <td>NaN</td>\n",
       "    </tr>\n",
       "  </tbody>\n",
       "</table>\n",
       "</div>"
      ],
      "text/plain": [
       "      Country        Year  GDP per capita\n",
       "0       Aruba  2017-01-01         29329.0\n",
       "1       Aruba  2017-01-01         29329.0\n",
       "2       Aruba  2017-01-01         29329.0\n",
       "3       Aruba  2018-01-01         30220.0\n",
       "4  Afganistan  2015-01-01             NaN"
      ]
     },
     "execution_count": 14,
     "metadata": {},
     "output_type": "execute_result"
    }
   ],
   "source": [
    "df_all_sub.head()"
   ]
  },
  {
   "cell_type": "code",
   "execution_count": 15,
   "id": "794d55f1",
   "metadata": {},
   "outputs": [
    {
     "name": "stdout",
     "output_type": "stream",
     "text": [
      "<class 'pandas.core.frame.DataFrame'>\n",
      "RangeIndex: 4536 entries, 0 to 4535\n",
      "Data columns (total 3 columns):\n",
      " #   Column          Non-Null Count  Dtype  \n",
      "---  ------          --------------  -----  \n",
      " 0   Country         4536 non-null   object \n",
      " 1   Year            4536 non-null   object \n",
      " 2   GDP per capita  4116 non-null   float64\n",
      "dtypes: float64(1), object(2)\n",
      "memory usage: 106.4+ KB\n"
     ]
    }
   ],
   "source": [
    "df_all_sub.info()"
   ]
  },
  {
   "cell_type": "code",
   "execution_count": 16,
   "id": "d8e6fb8d",
   "metadata": {},
   "outputs": [],
   "source": [
    "#Changing the data type of the Year column to 'datetime'\n",
    "df_all_sub['Year'] = pd.to_datetime(df_all_sub['Year'])\n"
   ]
  },
  {
   "cell_type": "code",
   "execution_count": 17,
   "id": "3296a81f",
   "metadata": {},
   "outputs": [],
   "source": [
    "#Grouping the data on Emissions by Year and Country\n",
    "grouped_by_year_1 = df_all_sub.groupby(['Country', 'Year'])['GDP per capita'].sum()\n"
   ]
  },
  {
   "cell_type": "code",
   "execution_count": 18,
   "id": "9820c4cc",
   "metadata": {},
   "outputs": [],
   "source": [
    "#Reseting index \n",
    "grouped_by_year_1 = grouped_by_year_1.reset_index()"
   ]
  },
  {
   "cell_type": "code",
   "execution_count": 19,
   "id": "6868cef5",
   "metadata": {},
   "outputs": [
    {
     "data": {
      "text/html": [
       "<div>\n",
       "<style scoped>\n",
       "    .dataframe tbody tr th:only-of-type {\n",
       "        vertical-align: middle;\n",
       "    }\n",
       "\n",
       "    .dataframe tbody tr th {\n",
       "        vertical-align: top;\n",
       "    }\n",
       "\n",
       "    .dataframe thead th {\n",
       "        text-align: right;\n",
       "    }\n",
       "</style>\n",
       "<table border=\"1\" class=\"dataframe\">\n",
       "  <thead>\n",
       "    <tr style=\"text-align: right;\">\n",
       "      <th></th>\n",
       "      <th>Country</th>\n",
       "      <th>Year</th>\n",
       "      <th>GDP per capita</th>\n",
       "    </tr>\n",
       "  </thead>\n",
       "  <tbody>\n",
       "    <tr>\n",
       "      <th>0</th>\n",
       "      <td>Afganistan</td>\n",
       "      <td>2015-01-01</td>\n",
       "      <td>0.0</td>\n",
       "    </tr>\n",
       "    <tr>\n",
       "      <th>1</th>\n",
       "      <td>Afganistan</td>\n",
       "      <td>2016-01-01</td>\n",
       "      <td>0.0</td>\n",
       "    </tr>\n",
       "    <tr>\n",
       "      <th>2</th>\n",
       "      <td>Afganistan</td>\n",
       "      <td>2017-01-01</td>\n",
       "      <td>0.0</td>\n",
       "    </tr>\n",
       "    <tr>\n",
       "      <th>3</th>\n",
       "      <td>Afganistan</td>\n",
       "      <td>2018-01-01</td>\n",
       "      <td>0.0</td>\n",
       "    </tr>\n",
       "    <tr>\n",
       "      <th>4</th>\n",
       "      <td>Afganistan</td>\n",
       "      <td>2019-01-01</td>\n",
       "      <td>0.0</td>\n",
       "    </tr>\n",
       "    <tr>\n",
       "      <th>...</th>\n",
       "      <td>...</td>\n",
       "      <td>...</td>\n",
       "      <td>...</td>\n",
       "    </tr>\n",
       "    <tr>\n",
       "      <th>1507</th>\n",
       "      <td>Zimbabwe</td>\n",
       "      <td>2017-01-01</td>\n",
       "      <td>4482.0</td>\n",
       "    </tr>\n",
       "    <tr>\n",
       "      <th>1508</th>\n",
       "      <td>Zimbabwe</td>\n",
       "      <td>2018-01-01</td>\n",
       "      <td>4710.0</td>\n",
       "    </tr>\n",
       "    <tr>\n",
       "      <th>1509</th>\n",
       "      <td>Zimbabwe</td>\n",
       "      <td>2019-01-01</td>\n",
       "      <td>4413.0</td>\n",
       "    </tr>\n",
       "    <tr>\n",
       "      <th>1510</th>\n",
       "      <td>Zimbabwe</td>\n",
       "      <td>2020-01-01</td>\n",
       "      <td>4146.0</td>\n",
       "    </tr>\n",
       "    <tr>\n",
       "      <th>1511</th>\n",
       "      <td>Zimbabwe</td>\n",
       "      <td>2021-01-01</td>\n",
       "      <td>4521.0</td>\n",
       "    </tr>\n",
       "  </tbody>\n",
       "</table>\n",
       "<p>1512 rows × 3 columns</p>\n",
       "</div>"
      ],
      "text/plain": [
       "         Country       Year  GDP per capita\n",
       "0     Afganistan 2015-01-01             0.0\n",
       "1     Afganistan 2016-01-01             0.0\n",
       "2     Afganistan 2017-01-01             0.0\n",
       "3     Afganistan 2018-01-01             0.0\n",
       "4     Afganistan 2019-01-01             0.0\n",
       "...          ...        ...             ...\n",
       "1507    Zimbabwe 2017-01-01          4482.0\n",
       "1508    Zimbabwe 2018-01-01          4710.0\n",
       "1509    Zimbabwe 2019-01-01          4413.0\n",
       "1510    Zimbabwe 2020-01-01          4146.0\n",
       "1511    Zimbabwe 2021-01-01          4521.0\n",
       "\n",
       "[1512 rows x 3 columns]"
      ]
     },
     "execution_count": 19,
     "metadata": {},
     "output_type": "execute_result"
    }
   ],
   "source": [
    "grouped_by_year_1"
   ]
  },
  {
   "cell_type": "code",
   "execution_count": 20,
   "id": "59d05d7a",
   "metadata": {},
   "outputs": [],
   "source": [
    "#Deleting the unnecessary column \"Country\" from the subset\n",
    "grouped_by_year_1 = grouped_by_year_1.drop(columns=['Country'])\n"
   ]
  },
  {
   "cell_type": "code",
   "execution_count": 21,
   "id": "aa9792a2",
   "metadata": {},
   "outputs": [],
   "source": [
    "#Grouping the data on Emissions by Year \n",
    "grouped_by_year_1 = grouped_by_year_1.groupby(['Year'])['GDP per capita'].sum()"
   ]
  },
  {
   "cell_type": "code",
   "execution_count": 22,
   "id": "a77b49da",
   "metadata": {},
   "outputs": [],
   "source": [
    "#Reseting the index\n",
    "grouped_by_year_1 = grouped_by_year_1.reset_index()"
   ]
  },
  {
   "cell_type": "code",
   "execution_count": 23,
   "id": "d319f970",
   "metadata": {},
   "outputs": [
    {
     "data": {
      "text/html": [
       "<div>\n",
       "<style scoped>\n",
       "    .dataframe tbody tr th:only-of-type {\n",
       "        vertical-align: middle;\n",
       "    }\n",
       "\n",
       "    .dataframe tbody tr th {\n",
       "        vertical-align: top;\n",
       "    }\n",
       "\n",
       "    .dataframe thead th {\n",
       "        text-align: right;\n",
       "    }\n",
       "</style>\n",
       "<table border=\"1\" class=\"dataframe\">\n",
       "  <thead>\n",
       "    <tr style=\"text-align: right;\">\n",
       "      <th></th>\n",
       "      <th>Year</th>\n",
       "      <th>GDP per capita</th>\n",
       "    </tr>\n",
       "  </thead>\n",
       "  <tbody>\n",
       "    <tr>\n",
       "      <th>0</th>\n",
       "      <td>2015-01-01</td>\n",
       "      <td>8284542.0</td>\n",
       "    </tr>\n",
       "    <tr>\n",
       "      <th>1</th>\n",
       "      <td>2016-01-01</td>\n",
       "      <td>8332722.0</td>\n",
       "    </tr>\n",
       "    <tr>\n",
       "      <th>2</th>\n",
       "      <td>2017-01-01</td>\n",
       "      <td>8816331.0</td>\n",
       "    </tr>\n",
       "    <tr>\n",
       "      <th>3</th>\n",
       "      <td>2018-01-01</td>\n",
       "      <td>9354603.0</td>\n",
       "    </tr>\n",
       "    <tr>\n",
       "      <th>4</th>\n",
       "      <td>2019-01-01</td>\n",
       "      <td>9278541.0</td>\n",
       "    </tr>\n",
       "    <tr>\n",
       "      <th>5</th>\n",
       "      <td>2020-01-01</td>\n",
       "      <td>8549835.0</td>\n",
       "    </tr>\n",
       "    <tr>\n",
       "      <th>6</th>\n",
       "      <td>2021-01-01</td>\n",
       "      <td>9636129.0</td>\n",
       "    </tr>\n",
       "  </tbody>\n",
       "</table>\n",
       "</div>"
      ],
      "text/plain": [
       "        Year  GDP per capita\n",
       "0 2015-01-01       8284542.0\n",
       "1 2016-01-01       8332722.0\n",
       "2 2017-01-01       8816331.0\n",
       "3 2018-01-01       9354603.0\n",
       "4 2019-01-01       9278541.0\n",
       "5 2020-01-01       8549835.0\n",
       "6 2021-01-01       9636129.0"
      ]
     },
     "execution_count": 23,
     "metadata": {},
     "output_type": "execute_result"
    }
   ],
   "source": [
    "grouped_by_year_1"
   ]
  },
  {
   "cell_type": "code",
   "execution_count": 24,
   "id": "eaa8e8be",
   "metadata": {},
   "outputs": [],
   "source": [
    "#Converting the column \"Year\" into index \n",
    "grouped_by_year_1.set_index('Year', inplace=True)\n"
   ]
  },
  {
   "cell_type": "code",
   "execution_count": 25,
   "id": "b1a26e81",
   "metadata": {},
   "outputs": [
    {
     "data": {
      "text/html": [
       "<div>\n",
       "<style scoped>\n",
       "    .dataframe tbody tr th:only-of-type {\n",
       "        vertical-align: middle;\n",
       "    }\n",
       "\n",
       "    .dataframe tbody tr th {\n",
       "        vertical-align: top;\n",
       "    }\n",
       "\n",
       "    .dataframe thead th {\n",
       "        text-align: right;\n",
       "    }\n",
       "</style>\n",
       "<table border=\"1\" class=\"dataframe\">\n",
       "  <thead>\n",
       "    <tr style=\"text-align: right;\">\n",
       "      <th></th>\n",
       "      <th>GDP per capita</th>\n",
       "    </tr>\n",
       "    <tr>\n",
       "      <th>Year</th>\n",
       "      <th></th>\n",
       "    </tr>\n",
       "  </thead>\n",
       "  <tbody>\n",
       "    <tr>\n",
       "      <th>2015-01-01</th>\n",
       "      <td>8284542.0</td>\n",
       "    </tr>\n",
       "    <tr>\n",
       "      <th>2016-01-01</th>\n",
       "      <td>8332722.0</td>\n",
       "    </tr>\n",
       "    <tr>\n",
       "      <th>2017-01-01</th>\n",
       "      <td>8816331.0</td>\n",
       "    </tr>\n",
       "    <tr>\n",
       "      <th>2018-01-01</th>\n",
       "      <td>9354603.0</td>\n",
       "    </tr>\n",
       "    <tr>\n",
       "      <th>2019-01-01</th>\n",
       "      <td>9278541.0</td>\n",
       "    </tr>\n",
       "    <tr>\n",
       "      <th>2020-01-01</th>\n",
       "      <td>8549835.0</td>\n",
       "    </tr>\n",
       "    <tr>\n",
       "      <th>2021-01-01</th>\n",
       "      <td>9636129.0</td>\n",
       "    </tr>\n",
       "  </tbody>\n",
       "</table>\n",
       "</div>"
      ],
      "text/plain": [
       "            GDP per capita\n",
       "Year                      \n",
       "2015-01-01       8284542.0\n",
       "2016-01-01       8332722.0\n",
       "2017-01-01       8816331.0\n",
       "2018-01-01       9354603.0\n",
       "2019-01-01       9278541.0\n",
       "2020-01-01       8549835.0\n",
       "2021-01-01       9636129.0"
      ]
     },
     "execution_count": 25,
     "metadata": {},
     "output_type": "execute_result"
    }
   ],
   "source": [
    "grouped_by_year_1"
   ]
  },
  {
   "cell_type": "markdown",
   "id": "e1cbbc85",
   "metadata": {},
   "source": [
    "## Plotting the time series line"
   ]
  },
  {
   "cell_type": "code",
   "execution_count": 26,
   "id": "e699243f",
   "metadata": {},
   "outputs": [
    {
     "data": {
      "text/plain": [
       "[<matplotlib.lines.Line2D at 0x7fba78c03dc0>]"
      ]
     },
     "execution_count": 26,
     "metadata": {},
     "output_type": "execute_result"
    },
    {
     "data": {
      "image/png": "[encoded data removed]",
      "text/plain": [
       "<Figure size 1500x500 with 1 Axes>"
      ]
     },
     "metadata": {},
     "output_type": "display_data"
    }
   ],
   "source": [
    "# Plot the data using matplotlib.\n",
    "\n",
    "plt.figure(figsize=(15,5), dpi=100) \n",
    "plt.plot(grouped_by_year_1)"
   ]
  },
  {
   "cell_type": "code",
   "execution_count": 27,
   "id": "0eb658b6",
   "metadata": {},
   "outputs": [
    {
     "data": {
      "text/plain": [
       "GDP per capita    0\n",
       "dtype: int64"
      ]
     },
     "execution_count": 27,
     "metadata": {},
     "output_type": "execute_result"
    }
   ],
   "source": [
    "# Check for missing values (you shouldn't have any)\n",
    "\n",
    "grouped_by_year_1.isnull().sum() "
   ]
  },
  {
   "cell_type": "markdown",
   "id": "57a61d8b",
   "metadata": {},
   "source": [
    "## 3. Time-series analysis: decomposition\n"
   ]
  },
  {
   "cell_type": "code",
   "execution_count": 28,
   "id": "f4edf3e7",
   "metadata": {},
   "outputs": [],
   "source": [
    "#Creating a decomposition\n",
    "decomposition = sm.tsa.seasonal_decompose(grouped_by_year_1, model='additive')"
   ]
  },
  {
   "cell_type": "code",
   "execution_count": 29,
   "id": "62d6a7b0",
   "metadata": {},
   "outputs": [],
   "source": [
    "from pylab import rcParams # This will define a fixed size for all special charts.\n",
    "\n",
    "rcParams['figure.figsize'] = 18, 7"
   ]
  },
  {
   "cell_type": "code",
   "execution_count": 30,
   "id": "f0d4a8c5",
   "metadata": {
    "scrolled": false
   },
   "outputs": [
    {
     "data": {
      "image/png": "[encoded data removed]",
      "text/plain": [
       "<Figure size 1800x700 with 4 Axes>"
      ]
     },
     "metadata": {},
     "output_type": "display_data"
    }
   ],
   "source": [
    "# Plot the separate components\n",
    "\n",
    "decomposition.plot()\n",
    "plt.show()"
   ]
  },
  {
   "cell_type": "markdown",
   "id": "1f71900e",
   "metadata": {},
   "source": [
    "**There is neither trend, nor seasonality or noise in the data.**"
   ]
  },
  {
   "cell_type": "markdown",
   "id": "f9281ed1",
   "metadata": {},
   "source": [
    "## Testing for stationarity"
   ]
  },
  {
   "cell_type": "code",
   "execution_count": 32,
   "id": "a0de00f7",
   "metadata": {},
   "outputs": [
    {
     "name": "stdout",
     "output_type": "stream",
     "text": [
      "Dickey-Fuller Stationarity test:\n",
      "Test Statistic                -1.489511\n",
      "p-value                        0.538694\n",
      "Number of Lags Used            0.000000\n",
      "Number of Observations Used    6.000000\n",
      "Critical Value (1%)           -5.354256\n",
      "Critical Value (5%)           -3.646238\n",
      "Critical Value (10%)          -2.901198\n",
      "dtype: float64\n"
     ]
    }
   ],
   "source": [
    "from statsmodels.tsa.stattools import adfuller # Import the adfuller() function\n",
    "\n",
    "def dickey_fuller(timeseries): # Define the function\n",
    "    # Perform the Dickey-Fuller test:\n",
    "    print ('Dickey-Fuller Stationarity test:')\n",
    "    test = adfuller(timeseries, autolag='AIC')\n",
    "    result = pd.Series(test[0:4], index=['Test Statistic','p-value','Number of Lags Used','Number of Observations Used'])\n",
    "    for key,value in test[4].items():\n",
    "       result['Critical Value (%s)'%key] = value\n",
    "    print (result)\n",
    "\n",
    "# Apply the test using the function on the time series\n",
    "dickey_fuller(grouped_by_year_1['GDP per capita'])\n"
   ]
  },
  {
   "cell_type": "code",
   "execution_count": 33,
   "id": "ef3adbb8",
   "metadata": {
    "scrolled": true
   },
   "outputs": [
    {
     "data": {
      "image/png": "[encoded data removed]",
      "text/plain": [
       "<Figure size 1800x700 with 1 Axes>"
      ]
     },
     "metadata": {},
     "output_type": "display_data"
    }
   ],
   "source": [
    "# Check out a plot of autocorrelations\n",
    "\n",
    "from statsmodels.graphics.tsaplots import plot_acf, plot_pacf # Here, you import the autocorrelation and partial correlation plots\n",
    "\n",
    "plot_acf(grouped_by_year_1)\n",
    "plt.show()"
   ]
  },
  {
   "cell_type": "markdown",
   "id": "172c0bc5",
   "metadata": {},
   "source": [
    "**Autocorrelation suggests that the data is quite stationary, as only one lag doesn't fit into the blue area**"
   ]
  },
  {
   "cell_type": "markdown",
   "id": "0e0c3667",
   "metadata": {},
   "source": [
    "## Stationarizing the GDP data"
   ]
  },
  {
   "cell_type": "code",
   "execution_count": 38,
   "id": "ec7205ae",
   "metadata": {},
   "outputs": [],
   "source": [
    "#Using log transformation for stationarizing data\n",
    "data_diff = grouped_by_year_1 - grouped_by_year_1.shift(1)"
   ]
  },
  {
   "cell_type": "code",
   "execution_count": 42,
   "id": "4da32616",
   "metadata": {},
   "outputs": [],
   "source": [
    "data_diff.dropna(inplace = True)"
   ]
  },
  {
   "cell_type": "code",
   "execution_count": 43,
   "id": "1289649c",
   "metadata": {},
   "outputs": [
    {
     "data": {
      "text/html": [
       "<div>\n",
       "<style scoped>\n",
       "    .dataframe tbody tr th:only-of-type {\n",
       "        vertical-align: middle;\n",
       "    }\n",
       "\n",
       "    .dataframe tbody tr th {\n",
       "        vertical-align: top;\n",
       "    }\n",
       "\n",
       "    .dataframe thead th {\n",
       "        text-align: right;\n",
       "    }\n",
       "</style>\n",
       "<table border=\"1\" class=\"dataframe\">\n",
       "  <thead>\n",
       "    <tr style=\"text-align: right;\">\n",
       "      <th></th>\n",
       "      <th>GDP per capita</th>\n",
       "    </tr>\n",
       "    <tr>\n",
       "      <th>Year</th>\n",
       "      <th></th>\n",
       "    </tr>\n",
       "  </thead>\n",
       "  <tbody>\n",
       "    <tr>\n",
       "      <th>2016-01-01</th>\n",
       "      <td>48180.0</td>\n",
       "    </tr>\n",
       "    <tr>\n",
       "      <th>2017-01-01</th>\n",
       "      <td>483609.0</td>\n",
       "    </tr>\n",
       "    <tr>\n",
       "      <th>2018-01-01</th>\n",
       "      <td>538272.0</td>\n",
       "    </tr>\n",
       "    <tr>\n",
       "      <th>2019-01-01</th>\n",
       "      <td>-76062.0</td>\n",
       "    </tr>\n",
       "    <tr>\n",
       "      <th>2020-01-01</th>\n",
       "      <td>-728706.0</td>\n",
       "    </tr>\n",
       "    <tr>\n",
       "      <th>2021-01-01</th>\n",
       "      <td>1086294.0</td>\n",
       "    </tr>\n",
       "  </tbody>\n",
       "</table>\n",
       "</div>"
      ],
      "text/plain": [
       "            GDP per capita\n",
       "Year                      \n",
       "2016-01-01         48180.0\n",
       "2017-01-01        483609.0\n",
       "2018-01-01        538272.0\n",
       "2019-01-01        -76062.0\n",
       "2020-01-01       -728706.0\n",
       "2021-01-01       1086294.0"
      ]
     },
     "execution_count": 43,
     "metadata": {},
     "output_type": "execute_result"
    }
   ],
   "source": [
    "#Result\n",
    "data_diff"
   ]
  },
  {
   "cell_type": "code",
   "execution_count": 44,
   "id": "ef8ba994",
   "metadata": {},
   "outputs": [
    {
     "data": {
      "text/plain": [
       "[<matplotlib.lines.Line2D at 0x7fba79807a60>]"
      ]
     },
     "execution_count": 44,
     "metadata": {},
     "output_type": "execute_result"
    },
    {
     "data": {
      "image/png": "[encoded data removed]",
      "text/plain": [
       "<Figure size 1500x500 with 1 Axes>"
      ]
     },
     "metadata": {},
     "output_type": "display_data"
    }
   ],
   "source": [
    "# Check out what the differencing did to the time-series curve\n",
    "\n",
    "plt.figure(figsize=(15,5), dpi=100)\n",
    "plt.plot(data_diff)"
   ]
  },
  {
   "cell_type": "code",
   "execution_count": 46,
   "id": "e5fb3c0f",
   "metadata": {
    "scrolled": false
   },
   "outputs": [
    {
     "name": "stdout",
     "output_type": "stream",
     "text": [
      "Dickey-Fuller Stationarity test:\n",
      "Test Statistic                -4.432360\n",
      "p-value                        0.000260\n",
      "Number of Lags Used            1.000000\n",
      "Number of Observations Used    4.000000\n",
      "Critical Value (1%)           -7.355441\n",
      "Critical Value (5%)           -4.474365\n",
      "Critical Value (10%)          -3.126933\n",
      "dtype: float64\n"
     ]
    }
   ],
   "source": [
    "dickey_fuller(data_diff)"
   ]
  },
  {
   "cell_type": "markdown",
   "id": "4f68de47",
   "metadata": {},
   "source": [
    "**The test statistic got a bit closer to the critical value of 5%. Therefore, I can reject the null hypothesis and, as a result, consider my series stationary**"
   ]
  }
 ],
 "metadata": {
  "kernelspec": {
   "display_name": "Python 3 (ipykernel)",
   "language": "python",
   "name": "python3"
  },
  "language_info": {
   "codemirror_mode": {
    "name": "ipython",
    "version": 3
   },
   "file_extension": ".py",
   "mimetype": "text/x-python",
   "name": "python",
   "nbconvert_exporter": "python",
   "pygments_lexer": "ipython3",
   "version": "3.10.9"
  }
 },
 "nbformat": 4,
 "nbformat_minor": 5
}
