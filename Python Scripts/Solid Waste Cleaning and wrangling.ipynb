{
 "cells": [
  {
   "cell_type": "markdown",
   "id": "23307f22",
   "metadata": {},
   "source": [
    "# Emissions data: cleaning "
   ]
  },
  {
   "cell_type": "code",
   "execution_count": 1,
   "id": "1cdcab5e",
   "metadata": {},
   "outputs": [],
   "source": [
    "#Importing libraries\n",
    "import pandas as pd\n",
    "import numpy as np\n",
    "import os"
   ]
  },
  {
   "cell_type": "code",
   "execution_count": 2,
   "id": "f453ebd0",
   "metadata": {},
   "outputs": [],
   "source": [
    "path = r'/Users/alexbor/Desktop/Data Analytics/Immersion/Submissions/6. Advanced Analytics/Project_Waste in the world'"
   ]
  },
  {
   "cell_type": "code",
   "execution_count": 3,
   "id": "1fc2dc5e",
   "metadata": {},
   "outputs": [],
   "source": [
    "#Import dataframe \n",
    "\n",
    "df_waste = pd.read_csv(os.path.join(path,'Original data','country_solid-waste-disposal_emissions_original_set.csv'), index_col = False)\n"
   ]
  },
  {
   "cell_type": "markdown",
   "id": "f5407e1b",
   "metadata": {},
   "source": [
    "# Exploring data"
   ]
  },
  {
   "cell_type": "code",
   "execution_count": 4,
   "id": "f2069534",
   "metadata": {},
   "outputs": [
    {
     "data": {
      "text/html": [
       "<div>\n",
       "<style scoped>\n",
       "    .dataframe tbody tr th:only-of-type {\n",
       "        vertical-align: middle;\n",
       "    }\n",
       "\n",
       "    .dataframe tbody tr th {\n",
       "        vertical-align: top;\n",
       "    }\n",
       "\n",
       "    .dataframe thead th {\n",
       "        text-align: right;\n",
       "    }\n",
       "</style>\n",
       "<table border=\"1\" class=\"dataframe\">\n",
       "  <thead>\n",
       "    <tr style=\"text-align: right;\">\n",
       "      <th></th>\n",
       "      <th>iso3_country</th>\n",
       "      <th>start_time</th>\n",
       "      <th>end_time</th>\n",
       "      <th>original_inventory_sector</th>\n",
       "      <th>gas</th>\n",
       "      <th>emissions_quantity</th>\n",
       "      <th>emissions_quantity_units</th>\n",
       "      <th>temporal_granularity</th>\n",
       "      <th>created_date</th>\n",
       "      <th>modified_date</th>\n",
       "    </tr>\n",
       "  </thead>\n",
       "  <tbody>\n",
       "    <tr>\n",
       "      <th>0</th>\n",
       "      <td>ABW</td>\n",
       "      <td>2017-01-01 00:00:00</td>\n",
       "      <td>2017-12-31 00:00:00</td>\n",
       "      <td>solid-waste-disposal</td>\n",
       "      <td>ch4</td>\n",
       "      <td>487.0</td>\n",
       "      <td>tonnes</td>\n",
       "      <td>annual</td>\n",
       "      <td>2022-09-06 12:39:52.76017</td>\n",
       "      <td>2022-10-20 18:29:56.869095</td>\n",
       "    </tr>\n",
       "    <tr>\n",
       "      <th>1</th>\n",
       "      <td>ABW</td>\n",
       "      <td>2017-01-01 00:00:00</td>\n",
       "      <td>2017-12-31 00:00:00</td>\n",
       "      <td>solid-waste-disposal</td>\n",
       "      <td>co2e_100yr</td>\n",
       "      <td>13636.0</td>\n",
       "      <td>tonnes</td>\n",
       "      <td>annual</td>\n",
       "      <td>2022-09-06 12:39:52.76017</td>\n",
       "      <td>2022-10-20 18:29:56.869095</td>\n",
       "    </tr>\n",
       "    <tr>\n",
       "      <th>2</th>\n",
       "      <td>ABW</td>\n",
       "      <td>2017-01-01 00:00:00</td>\n",
       "      <td>2017-12-31 00:00:00</td>\n",
       "      <td>solid-waste-disposal</td>\n",
       "      <td>co2e_20yr</td>\n",
       "      <td>40908.0</td>\n",
       "      <td>tonnes</td>\n",
       "      <td>annual</td>\n",
       "      <td>2022-09-06 12:39:52.76017</td>\n",
       "      <td>2022-10-20 18:29:56.869095</td>\n",
       "    </tr>\n",
       "    <tr>\n",
       "      <th>3</th>\n",
       "      <td>ABW</td>\n",
       "      <td>2018-01-01 00:00:00</td>\n",
       "      <td>2018-12-31 00:00:00</td>\n",
       "      <td>solid-waste-disposal</td>\n",
       "      <td>co2e_20yr</td>\n",
       "      <td>41244.0</td>\n",
       "      <td>tonnes</td>\n",
       "      <td>annual</td>\n",
       "      <td>2022-09-06 12:39:52.76017</td>\n",
       "      <td>2022-10-20 18:29:56.869095</td>\n",
       "    </tr>\n",
       "    <tr>\n",
       "      <th>4</th>\n",
       "      <td>AFG</td>\n",
       "      <td>2015-01-01 00:00:00</td>\n",
       "      <td>2015-12-31 00:00:00</td>\n",
       "      <td>solid-waste-disposal</td>\n",
       "      <td>ch4</td>\n",
       "      <td>21000.0</td>\n",
       "      <td>tonnes</td>\n",
       "      <td>annual</td>\n",
       "      <td>2022-09-06 12:39:52.76017</td>\n",
       "      <td>2022-10-20 18:29:56.869095</td>\n",
       "    </tr>\n",
       "  </tbody>\n",
       "</table>\n",
       "</div>"
      ],
      "text/plain": [
       "  iso3_country           start_time             end_time  \\\n",
       "0          ABW  2017-01-01 00:00:00  2017-12-31 00:00:00   \n",
       "1          ABW  2017-01-01 00:00:00  2017-12-31 00:00:00   \n",
       "2          ABW  2017-01-01 00:00:00  2017-12-31 00:00:00   \n",
       "3          ABW  2018-01-01 00:00:00  2018-12-31 00:00:00   \n",
       "4          AFG  2015-01-01 00:00:00  2015-12-31 00:00:00   \n",
       "\n",
       "  original_inventory_sector         gas  emissions_quantity  \\\n",
       "0      solid-waste-disposal         ch4               487.0   \n",
       "1      solid-waste-disposal  co2e_100yr             13636.0   \n",
       "2      solid-waste-disposal   co2e_20yr             40908.0   \n",
       "3      solid-waste-disposal   co2e_20yr             41244.0   \n",
       "4      solid-waste-disposal         ch4             21000.0   \n",
       "\n",
       "  emissions_quantity_units temporal_granularity               created_date  \\\n",
       "0                   tonnes               annual  2022-09-06 12:39:52.76017   \n",
       "1                   tonnes               annual  2022-09-06 12:39:52.76017   \n",
       "2                   tonnes               annual  2022-09-06 12:39:52.76017   \n",
       "3                   tonnes               annual  2022-09-06 12:39:52.76017   \n",
       "4                   tonnes               annual  2022-09-06 12:39:52.76017   \n",
       "\n",
       "                modified_date  \n",
       "0  2022-10-20 18:29:56.869095  \n",
       "1  2022-10-20 18:29:56.869095  \n",
       "2  2022-10-20 18:29:56.869095  \n",
       "3  2022-10-20 18:29:56.869095  \n",
       "4  2022-10-20 18:29:56.869095  "
      ]
     },
     "execution_count": 4,
     "metadata": {},
     "output_type": "execute_result"
    }
   ],
   "source": [
    "df_waste.head()"
   ]
  },
  {
   "cell_type": "code",
   "execution_count": 5,
   "id": "1e3a8167",
   "metadata": {},
   "outputs": [
    {
     "data": {
      "text/html": [
       "<div>\n",
       "<style scoped>\n",
       "    .dataframe tbody tr th:only-of-type {\n",
       "        vertical-align: middle;\n",
       "    }\n",
       "\n",
       "    .dataframe tbody tr th {\n",
       "        vertical-align: top;\n",
       "    }\n",
       "\n",
       "    .dataframe thead th {\n",
       "        text-align: right;\n",
       "    }\n",
       "</style>\n",
       "<table border=\"1\" class=\"dataframe\">\n",
       "  <thead>\n",
       "    <tr style=\"text-align: right;\">\n",
       "      <th></th>\n",
       "      <th>iso3_country</th>\n",
       "      <th>start_time</th>\n",
       "      <th>end_time</th>\n",
       "      <th>original_inventory_sector</th>\n",
       "      <th>gas</th>\n",
       "      <th>emissions_quantity</th>\n",
       "      <th>emissions_quantity_units</th>\n",
       "      <th>temporal_granularity</th>\n",
       "      <th>created_date</th>\n",
       "      <th>modified_date</th>\n",
       "    </tr>\n",
       "  </thead>\n",
       "  <tbody>\n",
       "    <tr>\n",
       "      <th>8780</th>\n",
       "      <td>GBR</td>\n",
       "      <td>2017-01-01 00:00:00</td>\n",
       "      <td>2017-12-31 00:00:00</td>\n",
       "      <td>solid-waste-disposal</td>\n",
       "      <td>co2e_100yr</td>\n",
       "      <td>7934724.0</td>\n",
       "      <td>tonnes</td>\n",
       "      <td>annual</td>\n",
       "      <td>2022-09-06 12:39:52.76017</td>\n",
       "      <td>2022-10-20 18:29:59.847007</td>\n",
       "    </tr>\n",
       "    <tr>\n",
       "      <th>8781</th>\n",
       "      <td>GBR</td>\n",
       "      <td>2017-01-01 00:00:00</td>\n",
       "      <td>2017-12-31 00:00:00</td>\n",
       "      <td>solid-waste-disposal</td>\n",
       "      <td>co2e_20yr</td>\n",
       "      <td>23804172.0</td>\n",
       "      <td>tonnes</td>\n",
       "      <td>annual</td>\n",
       "      <td>2022-09-06 12:39:52.76017</td>\n",
       "      <td>2022-10-20 18:29:59.847007</td>\n",
       "    </tr>\n",
       "    <tr>\n",
       "      <th>8782</th>\n",
       "      <td>IND</td>\n",
       "      <td>2016-01-01 00:00:00</td>\n",
       "      <td>2016-12-31 00:00:00</td>\n",
       "      <td>solid-waste-disposal</td>\n",
       "      <td>ch4</td>\n",
       "      <td>940047.0</td>\n",
       "      <td>tonnes</td>\n",
       "      <td>annual</td>\n",
       "      <td>2022-09-06 12:39:52.76017</td>\n",
       "      <td>2022-10-20 18:30:00.440111</td>\n",
       "    </tr>\n",
       "    <tr>\n",
       "      <th>8783</th>\n",
       "      <td>IND</td>\n",
       "      <td>2016-01-01 00:00:00</td>\n",
       "      <td>2016-12-31 00:00:00</td>\n",
       "      <td>solid-waste-disposal</td>\n",
       "      <td>co2e_20yr</td>\n",
       "      <td>78963948.0</td>\n",
       "      <td>tonnes</td>\n",
       "      <td>annual</td>\n",
       "      <td>2022-09-06 12:39:52.76017</td>\n",
       "      <td>2022-10-20 18:30:00.440111</td>\n",
       "    </tr>\n",
       "    <tr>\n",
       "      <th>8784</th>\n",
       "      <td>SRB</td>\n",
       "      <td>2016-01-01 00:00:00</td>\n",
       "      <td>2016-12-31 00:00:00</td>\n",
       "      <td>solid-waste-disposal</td>\n",
       "      <td>co2e_20yr</td>\n",
       "      <td>3123540.0</td>\n",
       "      <td>tonnes</td>\n",
       "      <td>annual</td>\n",
       "      <td>2022-09-06 12:39:52.76017</td>\n",
       "      <td>2022-10-20 18:30:02.745647</td>\n",
       "    </tr>\n",
       "  </tbody>\n",
       "</table>\n",
       "</div>"
      ],
      "text/plain": [
       "     iso3_country           start_time             end_time  \\\n",
       "8780          GBR  2017-01-01 00:00:00  2017-12-31 00:00:00   \n",
       "8781          GBR  2017-01-01 00:00:00  2017-12-31 00:00:00   \n",
       "8782          IND  2016-01-01 00:00:00  2016-12-31 00:00:00   \n",
       "8783          IND  2016-01-01 00:00:00  2016-12-31 00:00:00   \n",
       "8784          SRB  2016-01-01 00:00:00  2016-12-31 00:00:00   \n",
       "\n",
       "     original_inventory_sector         gas  emissions_quantity  \\\n",
       "8780      solid-waste-disposal  co2e_100yr           7934724.0   \n",
       "8781      solid-waste-disposal   co2e_20yr          23804172.0   \n",
       "8782      solid-waste-disposal         ch4            940047.0   \n",
       "8783      solid-waste-disposal   co2e_20yr          78963948.0   \n",
       "8784      solid-waste-disposal   co2e_20yr           3123540.0   \n",
       "\n",
       "     emissions_quantity_units temporal_granularity               created_date  \\\n",
       "8780                   tonnes               annual  2022-09-06 12:39:52.76017   \n",
       "8781                   tonnes               annual  2022-09-06 12:39:52.76017   \n",
       "8782                   tonnes               annual  2022-09-06 12:39:52.76017   \n",
       "8783                   tonnes               annual  2022-09-06 12:39:52.76017   \n",
       "8784                   tonnes               annual  2022-09-06 12:39:52.76017   \n",
       "\n",
       "                   modified_date  \n",
       "8780  2022-10-20 18:29:59.847007  \n",
       "8781  2022-10-20 18:29:59.847007  \n",
       "8782  2022-10-20 18:30:00.440111  \n",
       "8783  2022-10-20 18:30:00.440111  \n",
       "8784  2022-10-20 18:30:02.745647  "
      ]
     },
     "execution_count": 5,
     "metadata": {},
     "output_type": "execute_result"
    }
   ],
   "source": [
    "df_waste.tail()"
   ]
  },
  {
   "cell_type": "code",
   "execution_count": 6,
   "id": "5113343f",
   "metadata": {},
   "outputs": [
    {
     "data": {
      "text/plain": [
       "(8785, 10)"
      ]
     },
     "execution_count": 6,
     "metadata": {},
     "output_type": "execute_result"
    }
   ],
   "source": [
    "df_waste.shape"
   ]
  },
  {
   "cell_type": "code",
   "execution_count": 7,
   "id": "878cb1ae",
   "metadata": {},
   "outputs": [
    {
     "name": "stdout",
     "output_type": "stream",
     "text": [
      "<class 'pandas.core.frame.DataFrame'>\n",
      "RangeIndex: 8785 entries, 0 to 8784\n",
      "Data columns (total 10 columns):\n",
      " #   Column                     Non-Null Count  Dtype  \n",
      "---  ------                     --------------  -----  \n",
      " 0   iso3_country               8785 non-null   object \n",
      " 1   start_time                 8785 non-null   object \n",
      " 2   end_time                   8785 non-null   object \n",
      " 3   original_inventory_sector  8785 non-null   object \n",
      " 4   gas                        8785 non-null   object \n",
      " 5   emissions_quantity         8785 non-null   float64\n",
      " 6   emissions_quantity_units   8785 non-null   object \n",
      " 7   temporal_granularity       5820 non-null   object \n",
      " 8   created_date               8785 non-null   object \n",
      " 9   modified_date              5820 non-null   object \n",
      "dtypes: float64(1), object(9)\n",
      "memory usage: 686.5+ KB\n"
     ]
    }
   ],
   "source": [
    "df_waste.info()"
   ]
  },
  {
   "cell_type": "code",
   "execution_count": 8,
   "id": "1f94ba2a",
   "metadata": {},
   "outputs": [
    {
     "data": {
      "text/plain": [
       "Index(['iso3_country', 'start_time', 'end_time', 'original_inventory_sector',\n",
       "       'gas', 'emissions_quantity', 'emissions_quantity_units',\n",
       "       'temporal_granularity', 'created_date', 'modified_date'],\n",
       "      dtype='object')"
      ]
     },
     "execution_count": 8,
     "metadata": {},
     "output_type": "execute_result"
    }
   ],
   "source": [
    "df_waste.columns"
   ]
  },
  {
   "cell_type": "markdown",
   "id": "825a8c12",
   "metadata": {},
   "source": [
    "# Describing data "
   ]
  },
  {
   "cell_type": "code",
   "execution_count": 9,
   "id": "f5734f96",
   "metadata": {},
   "outputs": [
    {
     "data": {
      "text/html": [
       "<div>\n",
       "<style scoped>\n",
       "    .dataframe tbody tr th:only-of-type {\n",
       "        vertical-align: middle;\n",
       "    }\n",
       "\n",
       "    .dataframe tbody tr th {\n",
       "        vertical-align: top;\n",
       "    }\n",
       "\n",
       "    .dataframe thead th {\n",
       "        text-align: right;\n",
       "    }\n",
       "</style>\n",
       "<table border=\"1\" class=\"dataframe\">\n",
       "  <thead>\n",
       "    <tr style=\"text-align: right;\">\n",
       "      <th></th>\n",
       "      <th>emissions_quantity</th>\n",
       "    </tr>\n",
       "  </thead>\n",
       "  <tbody>\n",
       "    <tr>\n",
       "      <th>count</th>\n",
       "      <td>8.785000e+03</td>\n",
       "    </tr>\n",
       "    <tr>\n",
       "      <th>mean</th>\n",
       "      <td>3.328792e+06</td>\n",
       "    </tr>\n",
       "    <tr>\n",
       "      <th>std</th>\n",
       "      <td>2.224526e+07</td>\n",
       "    </tr>\n",
       "    <tr>\n",
       "      <th>min</th>\n",
       "      <td>0.000000e+00</td>\n",
       "    </tr>\n",
       "    <tr>\n",
       "      <th>25%</th>\n",
       "      <td>0.000000e+00</td>\n",
       "    </tr>\n",
       "    <tr>\n",
       "      <th>50%</th>\n",
       "      <td>5.550000e+02</td>\n",
       "    </tr>\n",
       "    <tr>\n",
       "      <th>75%</th>\n",
       "      <td>3.416000e+05</td>\n",
       "    </tr>\n",
       "    <tr>\n",
       "      <th>max</th>\n",
       "      <td>4.665535e+08</td>\n",
       "    </tr>\n",
       "  </tbody>\n",
       "</table>\n",
       "</div>"
      ],
      "text/plain": [
       "       emissions_quantity\n",
       "count        8.785000e+03\n",
       "mean         3.328792e+06\n",
       "std          2.224526e+07\n",
       "min          0.000000e+00\n",
       "25%          0.000000e+00\n",
       "50%          5.550000e+02\n",
       "75%          3.416000e+05\n",
       "max          4.665535e+08"
      ]
     },
     "execution_count": 9,
     "metadata": {},
     "output_type": "execute_result"
    }
   ],
   "source": [
    "df_waste.describe()"
   ]
  },
  {
   "cell_type": "code",
   "execution_count": 10,
   "id": "8e4a0717",
   "metadata": {},
   "outputs": [],
   "source": [
    "# Calculating quartiles\n",
    "q1 = df_waste['emissions_quantity'].quantile(0.25)\n",
    "q2 = df_waste['emissions_quantity'].quantile(0.50)\n",
    "q3 = df_waste['emissions_quantity'].quantile(0.75)"
   ]
  },
  {
   "cell_type": "code",
   "execution_count": 11,
   "id": "5db805bf",
   "metadata": {},
   "outputs": [
    {
     "name": "stdout",
     "output_type": "stream",
     "text": [
      "Q1: 0.0\n"
     ]
    }
   ],
   "source": [
    "print(\"Q1:\", q1)"
   ]
  },
  {
   "cell_type": "code",
   "execution_count": 12,
   "id": "34c12d70",
   "metadata": {},
   "outputs": [
    {
     "data": {
      "text/plain": [
       "555.0"
      ]
     },
     "execution_count": 12,
     "metadata": {},
     "output_type": "execute_result"
    }
   ],
   "source": [
    "q2"
   ]
  },
  {
   "cell_type": "code",
   "execution_count": 13,
   "id": "97f267fa",
   "metadata": {},
   "outputs": [
    {
     "data": {
      "text/plain": [
       "341600.0"
      ]
     },
     "execution_count": 13,
     "metadata": {},
     "output_type": "execute_result"
    }
   ],
   "source": [
    "q3"
   ]
  },
  {
   "cell_type": "code",
   "execution_count": 14,
   "id": "dea82145",
   "metadata": {},
   "outputs": [],
   "source": [
    "std_dev = df_waste['emissions_quantity'].std()"
   ]
  },
  {
   "cell_type": "code",
   "execution_count": 15,
   "id": "475785fd",
   "metadata": {},
   "outputs": [
    {
     "data": {
      "text/plain": [
       "22245259.298153087"
      ]
     },
     "execution_count": 15,
     "metadata": {},
     "output_type": "execute_result"
    }
   ],
   "source": [
    "std_dev"
   ]
  },
  {
   "cell_type": "code",
   "execution_count": 16,
   "id": "ef03cda0",
   "metadata": {},
   "outputs": [],
   "source": [
    "mean = df_waste['emissions_quantity'].mean()"
   ]
  },
  {
   "cell_type": "code",
   "execution_count": 17,
   "id": "a920366d",
   "metadata": {},
   "outputs": [
    {
     "data": {
      "text/plain": [
       "3328791.5494433693"
      ]
     },
     "execution_count": 17,
     "metadata": {},
     "output_type": "execute_result"
    }
   ],
   "source": [
    "mean"
   ]
  },
  {
   "cell_type": "code",
   "execution_count": 18,
   "id": "c518c49e",
   "metadata": {},
   "outputs": [],
   "source": [
    "two_std_devs_away = mean + (2 * std_dev)"
   ]
  },
  {
   "cell_type": "code",
   "execution_count": 19,
   "id": "b0e8c5aa",
   "metadata": {},
   "outputs": [
    {
     "data": {
      "text/plain": [
       "47819310.14574955"
      ]
     },
     "execution_count": 19,
     "metadata": {},
     "output_type": "execute_result"
    }
   ],
   "source": [
    "two_std_devs_away"
   ]
  },
  {
   "cell_type": "code",
   "execution_count": 20,
   "id": "0224a7c4",
   "metadata": {},
   "outputs": [],
   "source": [
    "two_std_devs_away_1 = mean - (2 * std_dev)"
   ]
  },
  {
   "cell_type": "code",
   "execution_count": 21,
   "id": "6de3f785",
   "metadata": {},
   "outputs": [
    {
     "data": {
      "text/plain": [
       "-41161727.0468628"
      ]
     },
     "execution_count": 21,
     "metadata": {},
     "output_type": "execute_result"
    }
   ],
   "source": [
    "two_std_devs_away_1"
   ]
  },
  {
   "cell_type": "code",
   "execution_count": 22,
   "id": "c1f9cd4d",
   "metadata": {},
   "outputs": [],
   "source": [
    "lower_bound = mean - (2 * std_dev)\n"
   ]
  },
  {
   "cell_type": "code",
   "execution_count": 23,
   "id": "dd2023c3",
   "metadata": {
    "scrolled": true
   },
   "outputs": [
    {
     "data": {
      "text/plain": [
       "-41161727.0468628"
      ]
     },
     "execution_count": 23,
     "metadata": {},
     "output_type": "execute_result"
    }
   ],
   "source": [
    "lower_bound\n"
   ]
  },
  {
   "cell_type": "code",
   "execution_count": 24,
   "id": "7e7f24b1",
   "metadata": {},
   "outputs": [],
   "source": [
    "upper_bound = mean + (2 * std_dev)"
   ]
  },
  {
   "cell_type": "code",
   "execution_count": 25,
   "id": "ee5c83f0",
   "metadata": {},
   "outputs": [
    {
     "data": {
      "text/plain": [
       "47819310.14574955"
      ]
     },
     "execution_count": 25,
     "metadata": {},
     "output_type": "execute_result"
    }
   ],
   "source": [
    "upper_bound"
   ]
  },
  {
   "cell_type": "code",
   "execution_count": 26,
   "id": "896313ca",
   "metadata": {},
   "outputs": [],
   "source": [
    "#Defining outliers \n",
    "outliers = df_waste[(df_waste['emissions_quantity'] < lower_bound) | (df_waste['emissions_quantity'] > upper_bound)]\n"
   ]
  },
  {
   "cell_type": "code",
   "execution_count": 27,
   "id": "dfd143dd",
   "metadata": {},
   "outputs": [
    {
     "data": {
      "text/html": [
       "<div>\n",
       "<style scoped>\n",
       "    .dataframe tbody tr th:only-of-type {\n",
       "        vertical-align: middle;\n",
       "    }\n",
       "\n",
       "    .dataframe tbody tr th {\n",
       "        vertical-align: top;\n",
       "    }\n",
       "\n",
       "    .dataframe thead th {\n",
       "        text-align: right;\n",
       "    }\n",
       "</style>\n",
       "<table border=\"1\" class=\"dataframe\">\n",
       "  <thead>\n",
       "    <tr style=\"text-align: right;\">\n",
       "      <th></th>\n",
       "      <th>iso3_country</th>\n",
       "      <th>start_time</th>\n",
       "      <th>end_time</th>\n",
       "      <th>original_inventory_sector</th>\n",
       "      <th>gas</th>\n",
       "      <th>emissions_quantity</th>\n",
       "      <th>emissions_quantity_units</th>\n",
       "      <th>temporal_granularity</th>\n",
       "      <th>created_date</th>\n",
       "      <th>modified_date</th>\n",
       "    </tr>\n",
       "  </thead>\n",
       "  <tbody>\n",
       "    <tr>\n",
       "      <th>457</th>\n",
       "      <td>BRA</td>\n",
       "      <td>2021-01-01 00:00:00</td>\n",
       "      <td>2021-12-31 00:00:00</td>\n",
       "      <td>solid-waste-disposal</td>\n",
       "      <td>co2e_100yr</td>\n",
       "      <td>59360000.0</td>\n",
       "      <td>tonnes</td>\n",
       "      <td>annual</td>\n",
       "      <td>2022-09-07 09:56:37.90632</td>\n",
       "      <td>2022-10-20 18:29:59.248878</td>\n",
       "    </tr>\n",
       "    <tr>\n",
       "      <th>458</th>\n",
       "      <td>BRA</td>\n",
       "      <td>2021-01-01 00:00:00</td>\n",
       "      <td>2021-12-31 00:00:00</td>\n",
       "      <td>solid-waste-disposal</td>\n",
       "      <td>co2e_20yr</td>\n",
       "      <td>178080000.0</td>\n",
       "      <td>tonnes</td>\n",
       "      <td>annual</td>\n",
       "      <td>2022-09-07 09:56:37.90632</td>\n",
       "      <td>2022-10-20 18:29:59.248878</td>\n",
       "    </tr>\n",
       "    <tr>\n",
       "      <th>459</th>\n",
       "      <td>BRA</td>\n",
       "      <td>2015-01-01 00:00:00</td>\n",
       "      <td>2015-12-31 00:00:00</td>\n",
       "      <td>solid-waste-disposal</td>\n",
       "      <td>co2e_100yr</td>\n",
       "      <td>57960000.0</td>\n",
       "      <td>tonnes</td>\n",
       "      <td>annual</td>\n",
       "      <td>2022-09-06 12:39:52.76017</td>\n",
       "      <td>2022-10-20 18:29:59.248878</td>\n",
       "    </tr>\n",
       "    <tr>\n",
       "      <th>460</th>\n",
       "      <td>BRA</td>\n",
       "      <td>2016-01-01 00:00:00</td>\n",
       "      <td>2016-12-31 00:00:00</td>\n",
       "      <td>solid-waste-disposal</td>\n",
       "      <td>co2e_100yr</td>\n",
       "      <td>58240000.0</td>\n",
       "      <td>tonnes</td>\n",
       "      <td>annual</td>\n",
       "      <td>2022-09-06 12:39:52.76017</td>\n",
       "      <td>2022-10-20 18:29:59.248878</td>\n",
       "    </tr>\n",
       "    <tr>\n",
       "      <th>461</th>\n",
       "      <td>BRA</td>\n",
       "      <td>2016-01-01 00:00:00</td>\n",
       "      <td>2016-12-31 00:00:00</td>\n",
       "      <td>solid-waste-disposal</td>\n",
       "      <td>co2e_20yr</td>\n",
       "      <td>174720000.0</td>\n",
       "      <td>tonnes</td>\n",
       "      <td>annual</td>\n",
       "      <td>2022-09-06 12:39:52.76017</td>\n",
       "      <td>2022-10-20 18:29:59.248878</td>\n",
       "    </tr>\n",
       "    <tr>\n",
       "      <th>...</th>\n",
       "      <td>...</td>\n",
       "      <td>...</td>\n",
       "      <td>...</td>\n",
       "      <td>...</td>\n",
       "      <td>...</td>\n",
       "      <td>...</td>\n",
       "      <td>...</td>\n",
       "      <td>...</td>\n",
       "      <td>...</td>\n",
       "      <td>...</td>\n",
       "    </tr>\n",
       "    <tr>\n",
       "      <th>8246</th>\n",
       "      <td>TUR</td>\n",
       "      <td>2017-01-01 00:00:00</td>\n",
       "      <td>2017-12-31 00:00:00</td>\n",
       "      <td>solid-waste-disposal</td>\n",
       "      <td>co2e_20yr</td>\n",
       "      <td>136920000.0</td>\n",
       "      <td>tonnes</td>\n",
       "      <td>annual</td>\n",
       "      <td>2022-09-06 12:39:52.76017</td>\n",
       "      <td>2022-10-20 18:30:02.745647</td>\n",
       "    </tr>\n",
       "    <tr>\n",
       "      <th>8264</th>\n",
       "      <td>USA</td>\n",
       "      <td>2017-01-01 00:00:00</td>\n",
       "      <td>2017-12-31 00:00:00</td>\n",
       "      <td>solid-waste-disposal</td>\n",
       "      <td>co2e_100yr</td>\n",
       "      <td>155517824.0</td>\n",
       "      <td>tonnes</td>\n",
       "      <td>annual</td>\n",
       "      <td>2022-09-06 12:39:52.76017</td>\n",
       "      <td>2022-10-20 18:30:03.339359</td>\n",
       "    </tr>\n",
       "    <tr>\n",
       "      <th>8265</th>\n",
       "      <td>USA</td>\n",
       "      <td>2017-01-01 00:00:00</td>\n",
       "      <td>2017-12-31 00:00:00</td>\n",
       "      <td>solid-waste-disposal</td>\n",
       "      <td>co2e_20yr</td>\n",
       "      <td>466553472.0</td>\n",
       "      <td>tonnes</td>\n",
       "      <td>annual</td>\n",
       "      <td>2022-09-06 12:39:52.76017</td>\n",
       "      <td>2022-10-20 18:30:03.339359</td>\n",
       "    </tr>\n",
       "    <tr>\n",
       "      <th>8705</th>\n",
       "      <td>IND</td>\n",
       "      <td>2021-01-01 00:00:00</td>\n",
       "      <td>2021-12-31 00:00:00</td>\n",
       "      <td>solid-waste-disposal</td>\n",
       "      <td>co2e_20yr</td>\n",
       "      <td>78963948.0</td>\n",
       "      <td>tonnes</td>\n",
       "      <td>annual</td>\n",
       "      <td>2022-09-07 09:56:37.90632</td>\n",
       "      <td>2022-10-20 18:30:00.440111</td>\n",
       "    </tr>\n",
       "    <tr>\n",
       "      <th>8783</th>\n",
       "      <td>IND</td>\n",
       "      <td>2016-01-01 00:00:00</td>\n",
       "      <td>2016-12-31 00:00:00</td>\n",
       "      <td>solid-waste-disposal</td>\n",
       "      <td>co2e_20yr</td>\n",
       "      <td>78963948.0</td>\n",
       "      <td>tonnes</td>\n",
       "      <td>annual</td>\n",
       "      <td>2022-09-06 12:39:52.76017</td>\n",
       "      <td>2022-10-20 18:30:00.440111</td>\n",
       "    </tr>\n",
       "  </tbody>\n",
       "</table>\n",
       "<p>92 rows × 10 columns</p>\n",
       "</div>"
      ],
      "text/plain": [
       "     iso3_country           start_time             end_time  \\\n",
       "457           BRA  2021-01-01 00:00:00  2021-12-31 00:00:00   \n",
       "458           BRA  2021-01-01 00:00:00  2021-12-31 00:00:00   \n",
       "459           BRA  2015-01-01 00:00:00  2015-12-31 00:00:00   \n",
       "460           BRA  2016-01-01 00:00:00  2016-12-31 00:00:00   \n",
       "461           BRA  2016-01-01 00:00:00  2016-12-31 00:00:00   \n",
       "...           ...                  ...                  ...   \n",
       "8246          TUR  2017-01-01 00:00:00  2017-12-31 00:00:00   \n",
       "8264          USA  2017-01-01 00:00:00  2017-12-31 00:00:00   \n",
       "8265          USA  2017-01-01 00:00:00  2017-12-31 00:00:00   \n",
       "8705          IND  2021-01-01 00:00:00  2021-12-31 00:00:00   \n",
       "8783          IND  2016-01-01 00:00:00  2016-12-31 00:00:00   \n",
       "\n",
       "     original_inventory_sector         gas  emissions_quantity  \\\n",
       "457       solid-waste-disposal  co2e_100yr          59360000.0   \n",
       "458       solid-waste-disposal   co2e_20yr         178080000.0   \n",
       "459       solid-waste-disposal  co2e_100yr          57960000.0   \n",
       "460       solid-waste-disposal  co2e_100yr          58240000.0   \n",
       "461       solid-waste-disposal   co2e_20yr         174720000.0   \n",
       "...                        ...         ...                 ...   \n",
       "8246      solid-waste-disposal   co2e_20yr         136920000.0   \n",
       "8264      solid-waste-disposal  co2e_100yr         155517824.0   \n",
       "8265      solid-waste-disposal   co2e_20yr         466553472.0   \n",
       "8705      solid-waste-disposal   co2e_20yr          78963948.0   \n",
       "8783      solid-waste-disposal   co2e_20yr          78963948.0   \n",
       "\n",
       "     emissions_quantity_units temporal_granularity               created_date  \\\n",
       "457                    tonnes               annual  2022-09-07 09:56:37.90632   \n",
       "458                    tonnes               annual  2022-09-07 09:56:37.90632   \n",
       "459                    tonnes               annual  2022-09-06 12:39:52.76017   \n",
       "460                    tonnes               annual  2022-09-06 12:39:52.76017   \n",
       "461                    tonnes               annual  2022-09-06 12:39:52.76017   \n",
       "...                       ...                  ...                        ...   \n",
       "8246                   tonnes               annual  2022-09-06 12:39:52.76017   \n",
       "8264                   tonnes               annual  2022-09-06 12:39:52.76017   \n",
       "8265                   tonnes               annual  2022-09-06 12:39:52.76017   \n",
       "8705                   tonnes               annual  2022-09-07 09:56:37.90632   \n",
       "8783                   tonnes               annual  2022-09-06 12:39:52.76017   \n",
       "\n",
       "                   modified_date  \n",
       "457   2022-10-20 18:29:59.248878  \n",
       "458   2022-10-20 18:29:59.248878  \n",
       "459   2022-10-20 18:29:59.248878  \n",
       "460   2022-10-20 18:29:59.248878  \n",
       "461   2022-10-20 18:29:59.248878  \n",
       "...                          ...  \n",
       "8246  2022-10-20 18:30:02.745647  \n",
       "8264  2022-10-20 18:30:03.339359  \n",
       "8265  2022-10-20 18:30:03.339359  \n",
       "8705  2022-10-20 18:30:00.440111  \n",
       "8783  2022-10-20 18:30:00.440111  \n",
       "\n",
       "[92 rows x 10 columns]"
      ]
     },
     "execution_count": 27,
     "metadata": {},
     "output_type": "execute_result"
    }
   ],
   "source": [
    "outliers\n"
   ]
  },
  {
   "cell_type": "code",
   "execution_count": 28,
   "id": "5e501b2a",
   "metadata": {},
   "outputs": [],
   "source": [
    "#calculate data values of 0,00 \n",
    "zero_count = (df_waste['emissions_quantity'] == 0.00).sum()"
   ]
  },
  {
   "cell_type": "code",
   "execution_count": 29,
   "id": "a7a7ee99",
   "metadata": {},
   "outputs": [
    {
     "data": {
      "text/plain": [
       "4249"
      ]
     },
     "execution_count": 29,
     "metadata": {},
     "output_type": "execute_result"
    }
   ],
   "source": [
    "zero_count"
   ]
  },
  {
   "cell_type": "markdown",
   "id": "e727c6e0",
   "metadata": {},
   "source": [
    "# Missing values "
   ]
  },
  {
   "cell_type": "code",
   "execution_count": 30,
   "id": "588360a8",
   "metadata": {},
   "outputs": [
    {
     "data": {
      "text/plain": [
       "iso3_country                    0\n",
       "start_time                      0\n",
       "end_time                        0\n",
       "original_inventory_sector       0\n",
       "gas                             0\n",
       "emissions_quantity              0\n",
       "emissions_quantity_units        0\n",
       "temporal_granularity         2965\n",
       "created_date                    0\n",
       "modified_date                2965\n",
       "dtype: int64"
      ]
     },
     "execution_count": 30,
     "metadata": {},
     "output_type": "execute_result"
    }
   ],
   "source": [
    "df_waste.isnull().sum()"
   ]
  },
  {
   "cell_type": "code",
   "execution_count": 31,
   "id": "c501ada2",
   "metadata": {},
   "outputs": [],
   "source": [
    "#Deleting the columns with the missing values since I don't need them. Also I delete the column 'created_date' for the same reason\n",
    "\n",
    "df_waste = df_waste.drop(columns=['temporal_granularity', 'modified_date', 'created_date'])"
   ]
  },
  {
   "cell_type": "markdown",
   "id": "65cd2e98",
   "metadata": {},
   "source": [
    "# Checking for duplicates"
   ]
  },
  {
   "cell_type": "code",
   "execution_count": 32,
   "id": "794f5c94",
   "metadata": {},
   "outputs": [],
   "source": [
    "df_dups = df_waste[df_waste.duplicated()]"
   ]
  },
  {
   "cell_type": "code",
   "execution_count": 33,
   "id": "10562293",
   "metadata": {},
   "outputs": [
    {
     "data": {
      "text/html": [
       "<div>\n",
       "<style scoped>\n",
       "    .dataframe tbody tr th:only-of-type {\n",
       "        vertical-align: middle;\n",
       "    }\n",
       "\n",
       "    .dataframe tbody tr th {\n",
       "        vertical-align: top;\n",
       "    }\n",
       "\n",
       "    .dataframe thead th {\n",
       "        text-align: right;\n",
       "    }\n",
       "</style>\n",
       "<table border=\"1\" class=\"dataframe\">\n",
       "  <thead>\n",
       "    <tr style=\"text-align: right;\">\n",
       "      <th></th>\n",
       "      <th>iso3_country</th>\n",
       "      <th>start_time</th>\n",
       "      <th>end_time</th>\n",
       "      <th>original_inventory_sector</th>\n",
       "      <th>gas</th>\n",
       "      <th>emissions_quantity</th>\n",
       "      <th>emissions_quantity_units</th>\n",
       "    </tr>\n",
       "  </thead>\n",
       "  <tbody>\n",
       "  </tbody>\n",
       "</table>\n",
       "</div>"
      ],
      "text/plain": [
       "Empty DataFrame\n",
       "Columns: [iso3_country, start_time, end_time, original_inventory_sector, gas, emissions_quantity, emissions_quantity_units]\n",
       "Index: []"
      ]
     },
     "execution_count": 33,
     "metadata": {},
     "output_type": "execute_result"
    }
   ],
   "source": [
    "df_dups"
   ]
  },
  {
   "cell_type": "markdown",
   "id": "5af13df5",
   "metadata": {},
   "source": [
    "**No duplicates were found**"
   ]
  },
  {
   "cell_type": "markdown",
   "id": "2096acd5",
   "metadata": {},
   "source": [
    "# Changing names of the columns"
   ]
  },
  {
   "cell_type": "code",
   "execution_count": 34,
   "id": "e9aaa41b",
   "metadata": {},
   "outputs": [],
   "source": [
    "df_waste = df_waste.rename(columns={'iso3_country':'Country', 'start_time':'Year', 'original_inventory_sector':'Type of emissions', 'gas':'Gas type', 'emissions_quantity':'Emissions quantity', 'emissions_quantity': 'Emissions quantity', 'emissions_quantity_units': 'Emissions quantity units'})"
   ]
  },
  {
   "cell_type": "code",
   "execution_count": 35,
   "id": "acdbeb57",
   "metadata": {},
   "outputs": [],
   "source": [
    "#Deleting the columm 'end_time'\n",
    "df_waste = df_waste.drop(columns=['end_time'])"
   ]
  },
  {
   "cell_type": "code",
   "execution_count": 36,
   "id": "4ef8906d",
   "metadata": {},
   "outputs": [
    {
     "data": {
      "text/plain": [
       "Index(['Country', 'Year', 'Type of emissions', 'Gas type',\n",
       "       'Emissions quantity', 'Emissions quantity units'],\n",
       "      dtype='object')"
      ]
     },
     "execution_count": 36,
     "metadata": {},
     "output_type": "execute_result"
    }
   ],
   "source": [
    "df_waste.columns"
   ]
  },
  {
   "cell_type": "markdown",
   "id": "c68733d6",
   "metadata": {},
   "source": [
    "# Changing names of values in some columns"
   ]
  },
  {
   "cell_type": "code",
   "execution_count": 37,
   "id": "dce85f26",
   "metadata": {},
   "outputs": [],
   "source": [
    "#Changing names of values in the column \"Year\"\n",
    "\n",
    "name_mapping_Year = {'2015-01-01 00:00:00': '2015', '2016-01-01 00:00:00': '2016', '2017-01-01 00:00:00': '2017', '2018-01-01 00:00:00':'2018', '2019-01-01 00:00:00':'2019', '2020-01-01 00:00:00':'2020', '2021-01-01 00:00:00':'2021'}\n"
   ]
  },
  {
   "cell_type": "code",
   "execution_count": 38,
   "id": "dd6af545",
   "metadata": {},
   "outputs": [],
   "source": [
    "df_waste['Year'] = df_waste['Year'].replace(name_mapping_Year)\n"
   ]
  },
  {
   "cell_type": "code",
   "execution_count": 39,
   "id": "82e6b902",
   "metadata": {},
   "outputs": [
    {
     "data": {
      "text/plain": [
       "2017    1255\n",
       "2018    1255\n",
       "2015    1255\n",
       "2016    1255\n",
       "2020    1255\n",
       "2019    1255\n",
       "2021    1255\n",
       "Name: Year, dtype: int64"
      ]
     },
     "execution_count": 39,
     "metadata": {},
     "output_type": "execute_result"
    }
   ],
   "source": [
    "df_waste['Year'].value_counts()"
   ]
  },
  {
   "cell_type": "code",
   "execution_count": 40,
   "id": "177c5489",
   "metadata": {},
   "outputs": [],
   "source": [
    "#Changing names of the countries starting with A\n",
    "\n",
    "name_mapping_A = {'ABW': 'Aruba', 'AFG': 'Afganistan', 'AGO': 'Angola', 'AIA': 'Anguilla', 'ALA': 'Åland Islands', 'ALB':'Albania', 'AND':'Andorra', 'ARE': 'United Arab Emirates', 'ARG': 'Argentina', 'ARM':'Armenia', 'ASM': 'American Samoa', 'ATA': 'Antarctica', 'ATF': 'French Southern Territories', 'ATG': 'Antigua and Barbuda', 'AUS': 'Australia', 'AUT': 'Austria', 'AZE': 'Azerbaijan'}\n",
    "\n"
   ]
  },
  {
   "cell_type": "code",
   "execution_count": 41,
   "id": "c43ee4e8",
   "metadata": {},
   "outputs": [],
   "source": [
    "df_waste['Country'] = df_waste['Country'].replace(name_mapping_A)"
   ]
  },
  {
   "cell_type": "code",
   "execution_count": 42,
   "id": "cd71a26f",
   "metadata": {},
   "outputs": [],
   "source": [
    "#Changing names of the countries starting with B\n",
    "\n",
    "name_mapping_B = {'BDI': 'Burundi', 'BEL': 'Belgium', 'BEN': 'Benin', 'BES': 'Bonaire, Sint Eustatius and Saba', 'BFA': 'Burkina Faso', 'BGD': 'Bangladesh', 'BGR': 'Bulgaria', 'BHR': 'Bahrain', 'BHS': 'Bahamas', 'BIH': 'Bosnia and Herzegovina', 'BLM': 'Saint Barthélemy', 'BLR': 'Belarus', 'BLZ': 'Belize', 'BMU': 'Bermuda', 'BOL': 'Bolivia', 'BRA': 'Brazil', 'BRB': 'Barbados', 'BRN': 'Brunei Darussalam', 'BTN': 'Bhutan', 'BVT': 'Bouvet Island', 'BWA': 'Botswana'}"
   ]
  },
  {
   "cell_type": "code",
   "execution_count": 43,
   "id": "714ffa4d",
   "metadata": {},
   "outputs": [],
   "source": [
    "df_waste['Country'] = df_waste['Country'].replace(name_mapping_B)"
   ]
  },
  {
   "cell_type": "code",
   "execution_count": 44,
   "id": "fad08448",
   "metadata": {},
   "outputs": [],
   "source": [
    "#Changing names of the countries starting with C\n",
    "\n",
    "name_mapping_C = {'CAF': 'Central African Republic', 'CAN': 'Canada', 'CCK': 'Cocos (Keeling) Islands', 'CHE': 'Switzerland', 'CHL': 'Chile', 'CHN': 'China', 'CIV': 'Côte dIvoire', 'CMR': 'Cameroon', 'COD': 'Congo, Democratic Republic of the', 'COG': 'Congo', 'COK': 'Cook Islands', 'COL': 'Colombia', 'COM': 'Comoros', 'CPV': 'Cabo Verde', 'CRI': 'Costa Rica', 'CUB': 'Cuba', 'CUW': 'Curaçao', 'CXR': 'Christmas Island', 'CYM': 'Cayman Islands', 'CYP': 'Cyprus', 'CZE': 'Czechia'}"
   ]
  },
  {
   "cell_type": "code",
   "execution_count": 45,
   "id": "38a24c09",
   "metadata": {},
   "outputs": [],
   "source": [
    "df_waste['Country'] = df_waste['Country'].replace(name_mapping_C)"
   ]
  },
  {
   "cell_type": "code",
   "execution_count": 46,
   "id": "98da9d51",
   "metadata": {},
   "outputs": [],
   "source": [
    "#Changing names of the countries starting with D\n",
    "\n",
    "name_mapping_D = {'DEU': 'Germany', 'DJI': 'Djibouti', 'DMA': 'Dominica', 'DNK': 'Denmark', 'DOM': 'Dominican Republic', 'DZA': 'Algeria'}"
   ]
  },
  {
   "cell_type": "code",
   "execution_count": 47,
   "id": "bf5d03a5",
   "metadata": {},
   "outputs": [],
   "source": [
    "df_waste['Country'] = df_waste['Country'].replace(name_mapping_D)"
   ]
  },
  {
   "cell_type": "code",
   "execution_count": 48,
   "id": "538906cd",
   "metadata": {},
   "outputs": [],
   "source": [
    "#Changing names of the countries starting with E\n",
    "\n",
    "name_mapping_E = {'ECU': 'Ecuador', 'EGY': 'Egypt', 'ERI': 'Eritrea', 'ESH': 'Western Sahara', 'ESP': 'Spain', 'EST': 'Estonia', 'ETH': 'Ethiopia'}"
   ]
  },
  {
   "cell_type": "code",
   "execution_count": 49,
   "id": "f4a55330",
   "metadata": {},
   "outputs": [],
   "source": [
    "df_waste['Country'] = df_waste['Country'].replace(name_mapping_E)"
   ]
  },
  {
   "cell_type": "code",
   "execution_count": 50,
   "id": "20e446ce",
   "metadata": {},
   "outputs": [],
   "source": [
    "#Changing names of the countries starting with F\n",
    "\n",
    "name_mapping_F = {'FIN': 'Finland', 'FJI': 'Fiji', 'FLK': 'Falkland Islands', 'FRA': 'France', 'FRO': 'Faroe Islands', 'FSM': 'Micronesia'}"
   ]
  },
  {
   "cell_type": "code",
   "execution_count": 51,
   "id": "18847035",
   "metadata": {},
   "outputs": [],
   "source": [
    "df_waste['Country'] = df_waste['Country'].replace(name_mapping_F)"
   ]
  },
  {
   "cell_type": "code",
   "execution_count": 52,
   "id": "4f9074ca",
   "metadata": {},
   "outputs": [],
   "source": [
    "#Changing names of the countries starting with G\n",
    "\n",
    "name_mapping_G = {'GAB': 'Gabon', 'GBR': 'United Kingdom of Great Britain and Northern Ireland', 'GEO': 'Georgia', 'GGY': 'Guernsey', 'GHA': 'Ghana', 'GIB': 'Gibraltar', 'GIN': 'Guinea', 'GLP': 'Guadeloupe', 'GMB': 'Gambia', 'GNB': 'Guinea-Bissau', 'GNQ': 'Equatorial Guinea', 'GRC': 'Greece', 'GRD': 'Grenada', 'GRL': 'Greenland', 'GTM': 'Guatemala', 'GUF': 'French Guiana', 'GUM': 'Guam', 'GUY': 'Guyana'}\n",
    "                  "
   ]
  },
  {
   "cell_type": "code",
   "execution_count": 53,
   "id": "41cfbcee",
   "metadata": {},
   "outputs": [],
   "source": [
    "df_waste['Country'] = df_waste['Country'].replace(name_mapping_G)"
   ]
  },
  {
   "cell_type": "code",
   "execution_count": 54,
   "id": "0c596c09",
   "metadata": {},
   "outputs": [],
   "source": [
    "#Changing names of the countries starting with H\n",
    "\n",
    "name_mapping_H = {'HKG': 'Hong Kong', 'HMD': 'Heard Island and McDonald Islands', 'HND': 'Honduras', 'HRV': 'Croatia', 'HTI': 'Haiti', 'HUN': 'Hungary'}\n",
    "                  "
   ]
  },
  {
   "cell_type": "code",
   "execution_count": 55,
   "id": "bdee224b",
   "metadata": {},
   "outputs": [],
   "source": [
    "df_waste['Country'] = df_waste['Country'].replace(name_mapping_H)"
   ]
  },
  {
   "cell_type": "code",
   "execution_count": 56,
   "id": "27ee3345",
   "metadata": {},
   "outputs": [],
   "source": [
    "#Changing names of the countries starting with I\n",
    "\n",
    "name_mapping_I = {'IDN': 'Indonesia', 'IMN': 'Isle of Man', 'IND': 'India', 'IOT': 'British Indian Ocean Territory', 'IRL': 'Ireland', 'IRN': 'Iran', 'IRQ': 'Iraq', 'ISL': 'Iceland', 'ISR': 'Israel', 'ITA': 'Italy'}\n",
    "                  "
   ]
  },
  {
   "cell_type": "code",
   "execution_count": 57,
   "id": "bb9e75df",
   "metadata": {},
   "outputs": [],
   "source": [
    "df_waste['Country'] = df_waste['Country'].replace(name_mapping_I)"
   ]
  },
  {
   "cell_type": "code",
   "execution_count": 58,
   "id": "eb2c70d5",
   "metadata": {},
   "outputs": [],
   "source": [
    "#Changing names of the countries starting with J\n",
    "\n",
    "name_mapping_J = {'JAM': 'Jamaica', 'JEY': 'Jersey', 'JOR': 'Jordan', 'JPN': 'Japan'}"
   ]
  },
  {
   "cell_type": "code",
   "execution_count": 59,
   "id": "160a84bc",
   "metadata": {},
   "outputs": [],
   "source": [
    "df_waste['Country'] = df_waste['Country'].replace(name_mapping_J)"
   ]
  },
  {
   "cell_type": "code",
   "execution_count": 60,
   "id": "1a8f2ec1",
   "metadata": {},
   "outputs": [],
   "source": [
    "#Changing names of the countries starting with K\n",
    "\n",
    "name_mapping_K = {'KAZ': 'Kazakhstan', 'KEN': 'Kenya', 'KGZ': 'Kyrgyzstan', 'KHM': 'Cambodia', 'KIR': 'Kiribati', 'KNA': 'Saint Kitts and Nevis', 'KOR': 'Korea, the Republic of', 'KWT': 'Kuwait'}"
   ]
  },
  {
   "cell_type": "code",
   "execution_count": 61,
   "id": "23577e52",
   "metadata": {},
   "outputs": [],
   "source": [
    "df_waste['Country'] = df_waste['Country'].replace(name_mapping_K)"
   ]
  },
  {
   "cell_type": "code",
   "execution_count": 62,
   "id": "2c3240db",
   "metadata": {},
   "outputs": [],
   "source": [
    "#Changing names of the countries starting with L\n",
    "\n",
    "name_mapping_L = {'LAO': 'Lao Peoples Democratic Republic', 'LBN': 'Lebanon', 'LBR': 'Liberia', 'LBY': 'Libya', 'LCA': 'Saint Lucia', 'LIE': 'Liechtenstein', 'LKA': 'Sri Lanka', 'LSO': 'Lesotho', 'LTU': 'Lithuania', 'LUX': 'Luxembourg', 'LVA': 'Latvia'} \n",
    "                  "
   ]
  },
  {
   "cell_type": "code",
   "execution_count": 63,
   "id": "162cdcd9",
   "metadata": {},
   "outputs": [],
   "source": [
    "df_waste['Country'] = df_waste['Country'].replace(name_mapping_L)"
   ]
  },
  {
   "cell_type": "code",
   "execution_count": 64,
   "id": "cb43caa5",
   "metadata": {},
   "outputs": [],
   "source": [
    "#Changing names of the countries starting with M\n",
    "\n",
    "name_mapping_M = {'MAC': 'Macao', 'MAF': 'Saint Martin, French part', 'MAR': 'Morocco', 'MCO': 'Monaco', 'MDA': 'Moldova', 'MDG': 'Madagascar', 'MDV': 'Maldives', 'MEX': 'Mexico', 'MHL': 'Marshall Islands', 'MKD': 'Republic of North Macedonia', 'MLI': 'Mali', 'MLT': 'Malta', 'MMR': 'Myanmar', 'MNE': 'Montenegro', 'MNG': 'Mongolia','MNP': 'Northern Mariana Islands', 'MOZ':'Mozambique', 'MRT': 'Mauritania', 'MSR': 'Montserrat', 'MTQ': 'Martinique', 'MUS': 'Mauritius', 'MWI': 'Malawi', 'MYS': 'Malaysia', 'MYT': 'Mayotte'}\n",
    "                  "
   ]
  },
  {
   "cell_type": "code",
   "execution_count": 65,
   "id": "58a1f148",
   "metadata": {},
   "outputs": [],
   "source": [
    "df_waste['Country'] = df_waste['Country'].replace(name_mapping_M)"
   ]
  },
  {
   "cell_type": "code",
   "execution_count": 66,
   "id": "bb47af93",
   "metadata": {},
   "outputs": [],
   "source": [
    "#Changing names of the countries starting with N\n",
    "\n",
    "name_mapping_N = {'NAM': 'Namibia', 'NCL': 'New Caledonia', 'NER': 'Niger', 'NFK': 'Norfolk Island', 'NGA': 'Nigeria', 'NIC': 'Nicaragua','NIU': 'Niue', 'NLD': 'Netherlands', 'NOR': 'Norway', 'NPL': 'Nepal', 'NRU': 'Nauru', 'NZL':'New Zealand'}\n",
    "        \n",
    "                  "
   ]
  },
  {
   "cell_type": "code",
   "execution_count": 67,
   "id": "92be6b7e",
   "metadata": {},
   "outputs": [],
   "source": [
    "df_waste['Country'] = df_waste['Country'].replace(name_mapping_N)"
   ]
  },
  {
   "cell_type": "code",
   "execution_count": 68,
   "id": "1f5aa1d1",
   "metadata": {},
   "outputs": [],
   "source": [
    "#Changing names of the countries starting with O\n",
    "\n",
    "name_mapping_O = {'OMN': 'Oman'}"
   ]
  },
  {
   "cell_type": "code",
   "execution_count": 69,
   "id": "81487f6f",
   "metadata": {},
   "outputs": [],
   "source": [
    "df_waste['Country'] = df_waste['Country'].replace(name_mapping_O)"
   ]
  },
  {
   "cell_type": "code",
   "execution_count": 70,
   "id": "bab0d930",
   "metadata": {},
   "outputs": [],
   "source": [
    "#Changing names of the countries starting with P\n",
    "\n",
    "name_mapping_P = {'PAK': 'Pakistan', 'PAN': 'Panama', 'PCN': 'Pitcairn', 'PER': 'Peru', 'PHL': 'Philippines', 'PLW': 'Palau', 'PNG': 'Papua New Guinea', 'POL': 'Poland', 'PRI': 'Puerto Rico','PRK':'Korea, the Democratic Peoples Republic of', 'PRT': 'Portugal', 'PRY': 'Paraguay', 'PSE': 'Palestine', 'PYF': 'French Polynesia'}\n",
    "                  "
   ]
  },
  {
   "cell_type": "code",
   "execution_count": 71,
   "id": "6df1b3de",
   "metadata": {},
   "outputs": [],
   "source": [
    "df_waste['Country'] = df_waste['Country'].replace(name_mapping_P)"
   ]
  },
  {
   "cell_type": "code",
   "execution_count": 72,
   "id": "fa558271",
   "metadata": {},
   "outputs": [],
   "source": [
    "#Changing names of the countries starting with Q\n",
    "\n",
    "name_mapping_Q = {'QAT': 'Qatar'}"
   ]
  },
  {
   "cell_type": "code",
   "execution_count": 73,
   "id": "31b3a903",
   "metadata": {},
   "outputs": [],
   "source": [
    "df_waste['Country'] = df_waste['Country'].replace(name_mapping_Q)"
   ]
  },
  {
   "cell_type": "code",
   "execution_count": 74,
   "id": "d4977d2b",
   "metadata": {},
   "outputs": [],
   "source": [
    "#Changing names of the countries starting with R\n",
    "\n",
    "name_mapping_R = {'REU': 'Réunion', 'ROU': 'Romania', 'RUS': 'Russian Federation', 'RWA': 'Rwanda'}"
   ]
  },
  {
   "cell_type": "code",
   "execution_count": 75,
   "id": "b6c4ce9a",
   "metadata": {},
   "outputs": [],
   "source": [
    "df_waste['Country'] = df_waste['Country'].replace(name_mapping_R)"
   ]
  },
  {
   "cell_type": "code",
   "execution_count": 76,
   "id": "b9931089",
   "metadata": {},
   "outputs": [],
   "source": [
    "#Changing names of the countries starting with S\n",
    "\n",
    "name_mapping_S = {'SAU': 'Saudi Arabia', 'SDN': 'Sudan', 'SEN': 'Senegal', 'SGP': 'Singapore', 'SGS': 'South Georgia and the South Sandwich Islands', 'SHN': 'Saint Helena, Ascension and Tristan da Cunha', 'SJM': 'Svalbard and Jan Mayen', 'SLB': 'Solomon Islands', 'SLE': 'Sierra Leone', 'SLV': 'El Salvador', 'SMR':'San Marino', 'SOM': 'Somalia', 'SPM': 'Saint Pierre and Miquelon', 'SRB': 'Serbia', 'SSD': 'South Sudan', 'STP': 'Sao Tome and Principe', 'SUR': 'Suriname', 'SVK': 'Slovakia', 'SVN': 'Slovenia', 'SWE': 'Sweden', 'SWZ': 'Eswatini', 'SXM': 'Sint Maarten, Dutch part', 'SYC': 'Seychelles', 'SYR': 'Syrian Arab Republic'}\n"
   ]
  },
  {
   "cell_type": "code",
   "execution_count": 77,
   "id": "0be263bd",
   "metadata": {},
   "outputs": [],
   "source": [
    "df_waste['Country'] = df_waste['Country'].replace(name_mapping_S)"
   ]
  },
  {
   "cell_type": "code",
   "execution_count": 78,
   "id": "9f3f2090",
   "metadata": {},
   "outputs": [],
   "source": [
    "#Changing names of the countries starting with T\n",
    "\n",
    "name_mapping_T = {'TCA': 'Turks and Caicos Islands', 'TCD': 'Chad', 'TGO': 'Togo', 'THA': 'Thailand', 'TJK': 'Tajikistan', 'TKL': 'Tokelau', 'TKM': 'Turkmenistan', 'TLS': 'Timor-Leste', 'TON': 'Tonga', 'TTO': 'Trinidad and Tobago', 'TUN': 'Tunisia', 'TUR': 'Turkey', 'TUV': 'Tuvalu', 'TWN': 'Taiwan', 'TZA': 'Tanzania'}"
   ]
  },
  {
   "cell_type": "code",
   "execution_count": 79,
   "id": "62239b3c",
   "metadata": {},
   "outputs": [],
   "source": [
    "df_waste['Country'] = df_waste['Country'].replace(name_mapping_T)"
   ]
  },
  {
   "cell_type": "code",
   "execution_count": 80,
   "id": "690de436",
   "metadata": {},
   "outputs": [],
   "source": [
    "#Changing names of the countries starting with U\n",
    "\n",
    "name_mapping_U = {'UGA': 'Uganda', 'UKR': 'Ukraine', 'UMI': 'United States Minor Outlying Islands', 'URY': 'Uruguay', 'USA': 'United States of America', 'UZB': 'Uzbekistan'}"
   ]
  },
  {
   "cell_type": "code",
   "execution_count": 81,
   "id": "6f560084",
   "metadata": {},
   "outputs": [],
   "source": [
    "df_waste['Country'] = df_waste['Country'].replace(name_mapping_U)"
   ]
  },
  {
   "cell_type": "code",
   "execution_count": 82,
   "id": "9aa3a23e",
   "metadata": {},
   "outputs": [],
   "source": [
    "#Changing names of the countries starting with V\n",
    "\n",
    "name_mapping_V = {'VAT': 'Holy See', 'VCT': 'Saint Vincent and the Grenadines', 'VEN': 'Venezuela', 'VGB': 'Virgin Islands, British', 'VIR': 'Virgin Islands, US', 'VNM': 'Viet Nam', 'VUT': 'Vanuatu'}\n",
    "                  "
   ]
  },
  {
   "cell_type": "code",
   "execution_count": 83,
   "id": "7c2e8a67",
   "metadata": {},
   "outputs": [],
   "source": [
    "df_waste['Country'] = df_waste['Country'].replace(name_mapping_V)"
   ]
  },
  {
   "cell_type": "code",
   "execution_count": 84,
   "id": "25f12355",
   "metadata": {},
   "outputs": [],
   "source": [
    "#Changing names of the countries starting with W\n",
    "\n",
    "name_mapping_W = {'WLF': 'Wallis and Futuna', 'WSM': 'Samoa'}"
   ]
  },
  {
   "cell_type": "code",
   "execution_count": 85,
   "id": "b2b3e5e0",
   "metadata": {},
   "outputs": [],
   "source": [
    "df_waste['Country'] = df_waste['Country'].replace(name_mapping_W)"
   ]
  },
  {
   "cell_type": "code",
   "execution_count": 86,
   "id": "886d00c7",
   "metadata": {},
   "outputs": [],
   "source": [
    "#Changing names of the countries starting with X\n",
    "\n",
    "name_mapping_X = {'XKX': 'Kosovo'}"
   ]
  },
  {
   "cell_type": "code",
   "execution_count": 87,
   "id": "2527692a",
   "metadata": {},
   "outputs": [],
   "source": [
    "df_waste['Country'] = df_waste['Country'].replace(name_mapping_X)"
   ]
  },
  {
   "cell_type": "code",
   "execution_count": 88,
   "id": "9846d22a",
   "metadata": {},
   "outputs": [],
   "source": [
    "#Changing names of the countries starting with Y\n",
    "\n",
    "name_mapping_Y = {'YEM': 'Yemen'}"
   ]
  },
  {
   "cell_type": "code",
   "execution_count": 89,
   "id": "7830c334",
   "metadata": {},
   "outputs": [],
   "source": [
    "df_waste['Country'] = df_waste['Country'].replace(name_mapping_Y)"
   ]
  },
  {
   "cell_type": "code",
   "execution_count": 90,
   "id": "8b34a6b4",
   "metadata": {},
   "outputs": [],
   "source": [
    "#Changing names of the countries starting with Z\n",
    "\n",
    "name_mapping_Z = {'ZAF': 'South Africa', 'ZMB': 'Zambia', 'ZWE': 'Zimbabwe'}"
   ]
  },
  {
   "cell_type": "code",
   "execution_count": 91,
   "id": "dd2de2c2",
   "metadata": {},
   "outputs": [],
   "source": [
    "df_waste['Country'] = df_waste['Country'].replace(name_mapping_Z)"
   ]
  },
  {
   "cell_type": "code",
   "execution_count": 92,
   "id": "a0fc2760",
   "metadata": {},
   "outputs": [],
   "source": [
    "#Checking unique values in the column 'Country'\n",
    "unique_values = df_waste['Country'].unique()\n"
   ]
  },
  {
   "cell_type": "code",
   "execution_count": 93,
   "id": "769bce6a",
   "metadata": {},
   "outputs": [
    {
     "data": {
      "text/plain": [
       "array(['Aruba', 'Afganistan', 'Angola', 'Anguilla', 'Åland Islands',\n",
       "       'Albania', 'Andorra', 'United Arab Emirates', 'Argentina',\n",
       "       'Armenia', 'American Samoa', 'Antarctica',\n",
       "       'French Southern Territories', 'Antigua and Barbuda', 'Australia',\n",
       "       'Austria', 'Azerbaijan', 'Burundi', 'Belgium', 'Benin',\n",
       "       'Bonaire, Sint Eustatius and Saba', 'Burkina Faso', 'Bangladesh',\n",
       "       'Bulgaria', 'Bahrain', 'Bahamas', 'Bosnia and Herzegovina',\n",
       "       'Saint Barthélemy', 'Belarus', 'Belize', 'Bermuda', 'Bolivia',\n",
       "       'Brazil', 'Barbados', 'Brunei Darussalam', 'Bhutan',\n",
       "       'Bouvet Island', 'Botswana', 'Central African Republic', 'Canada',\n",
       "       'Cocos (Keeling) Islands', 'Chile', 'China', 'Côte dIvoire',\n",
       "       'Cameroon', 'Congo, Democratic Republic of the', 'Congo',\n",
       "       'Cook Islands', 'Colombia', 'Comoros', 'Cabo Verde', 'Costa Rica',\n",
       "       'Curaçao', 'Republic of North Macedonia', 'Egypt', 'Eritrea',\n",
       "       'Western Sahara', 'France', 'Faroe Islands', 'Micronesia', 'Gabon',\n",
       "       'United Kingdom of Great Britain and Northern Ireland', 'Guernsey',\n",
       "       'Ghana', 'Gibraltar', 'Guinea', 'Guadeloupe', 'Guinea-Bissau',\n",
       "       'Equatorial Guinea', 'Grenada', 'Greenland', 'Guatemala', 'Guam',\n",
       "       'Hong Kong', 'Heard Island and McDonald Islands', 'Honduras',\n",
       "       'Haiti', 'Isle of Man', 'British Indian Ocean Territory',\n",
       "       'Ireland', 'Iran', 'Iraq', 'Jamaica', 'Jersey', 'Jordan',\n",
       "       'Kazakhstan', 'Kenya', 'Kyrgyzstan', 'Cambodia', 'Kiribati',\n",
       "       'Saint Kitts and Nevis', 'Kuwait',\n",
       "       'Lao Peoples Democratic Republic', 'Lebanon', 'Liberia', 'Libya',\n",
       "       'Saint Lucia', 'Liechtenstein', 'Lesotho',\n",
       "       'Saint Martin, French part', 'Morocco', 'Monaco', 'Moldova',\n",
       "       'Madagascar', 'Mexico', 'Marshall Islands', 'Myanmar',\n",
       "       'Montenegro', 'Mongolia', 'Northern Mariana Islands', 'Mozambique',\n",
       "       'Mauritania', 'Montserrat', 'Martinique', 'Mauritius', 'Malawi',\n",
       "       'Mayotte', 'Niger', 'Norfolk Island', 'Nigeria', 'Nicaragua',\n",
       "       'Niue', 'Nepal', 'Nauru', 'New Zealand', 'Oman', 'Pakistan',\n",
       "       'Panama', 'Pitcairn', 'Palau', 'Poland', 'Puerto Rico',\n",
       "       'Korea, the Democratic Peoples Republic of', 'Portugal',\n",
       "       'Paraguay', 'Palestine', 'French Polynesia', 'Qatar', 'Réunion',\n",
       "       'Russian Federation', 'Rwanda', 'SCG', 'Sudan', 'Singapore',\n",
       "       'South Georgia and the South Sandwich Islands',\n",
       "       'Saint Helena, Ascension and Tristan da Cunha',\n",
       "       'Svalbard and Jan Mayen', 'Solomon Islands', 'Sierra Leone',\n",
       "       'El Salvador', 'San Marino', 'Somalia', 'Serbia', 'South Sudan',\n",
       "       'Sao Tome and Principe', 'Suriname', 'Sweden', 'Eswatini',\n",
       "       'Sint Maarten, Dutch part', 'Seychelles', 'Syrian Arab Republic',\n",
       "       'Chad', 'Togo', 'Thailand', 'Tajikistan', 'Tokelau',\n",
       "       'Turkmenistan', 'Tonga', 'Trinidad and Tobago', 'Tunisia',\n",
       "       'Tuvalu', 'Tanzania', 'United States Minor Outlying Islands',\n",
       "       'Uruguay', 'Uzbekistan', 'Holy See', 'Venezuela',\n",
       "       'Virgin Islands, British', 'Virgin Islands, US',\n",
       "       'Wallis and Futuna', 'Samoa', 'Kosovo', 'Yemen', 'South Africa',\n",
       "       'Zambia', 'Christmas Island', 'Cayman Islands',\n",
       "       'Dominican Republic', 'Algeria', 'Ecuador', 'Switzerland', 'Cuba',\n",
       "       'Cyprus', 'Czechia', 'Germany', 'Djibouti', 'Dominica', 'Denmark',\n",
       "       'Spain', 'Estonia', 'Ethiopia', 'Finland', 'Fiji',\n",
       "       'Falkland Islands', 'Georgia', 'Gambia', 'Greece', 'French Guiana',\n",
       "       'Guyana', 'Croatia', 'Hungary', 'Indonesia', 'India', 'Iceland',\n",
       "       'Israel', 'Italy', 'Japan', 'Korea, the Republic of', 'Sri Lanka',\n",
       "       'Lithuania', 'Luxembourg', 'Latvia', 'Macao', 'Maldives',\n",
       "       'Saint Pierre and Miquelon', 'Slovakia', 'Slovenia',\n",
       "       'Turks and Caicos Islands', 'Timor-Leste', 'Turkey', 'Taiwan',\n",
       "       'Uganda', 'Ukraine', 'United States of America',\n",
       "       'Saint Vincent and the Grenadines', 'Viet Nam', 'Vanuatu',\n",
       "       'Zimbabwe', 'Mali', 'Malta', 'Malaysia', 'Namibia',\n",
       "       'New Caledonia', 'Netherlands', 'Norway', 'Peru', 'Philippines',\n",
       "       'Papua New Guinea', 'Romania', 'Saudi Arabia', 'Senegal'],\n",
       "      dtype=object)"
      ]
     },
     "execution_count": 93,
     "metadata": {},
     "output_type": "execute_result"
    }
   ],
   "source": [
    "unique_values"
   ]
  },
  {
   "cell_type": "code",
   "execution_count": 94,
   "id": "5aec4e53",
   "metadata": {},
   "outputs": [
    {
     "data": {
      "text/plain": [
       "Aruba                                   35\n",
       "United States Minor Outlying Islands    35\n",
       "Seychelles                              35\n",
       "Syrian Arab Republic                    35\n",
       "Chad                                    35\n",
       "                                        ..\n",
       "Cambodia                                35\n",
       "Kiribati                                35\n",
       "Saint Kitts and Nevis                   35\n",
       "Kuwait                                  35\n",
       "Senegal                                 35\n",
       "Name: Country, Length: 251, dtype: int64"
      ]
     },
     "execution_count": 94,
     "metadata": {},
     "output_type": "execute_result"
    }
   ],
   "source": [
    "df_waste['Country'].value_counts()"
   ]
  },
  {
   "cell_type": "code",
   "execution_count": 95,
   "id": "29b0a96e",
   "metadata": {},
   "outputs": [
    {
     "data": {
      "text/html": [
       "<div>\n",
       "<style scoped>\n",
       "    .dataframe tbody tr th:only-of-type {\n",
       "        vertical-align: middle;\n",
       "    }\n",
       "\n",
       "    .dataframe tbody tr th {\n",
       "        vertical-align: top;\n",
       "    }\n",
       "\n",
       "    .dataframe thead th {\n",
       "        text-align: right;\n",
       "    }\n",
       "</style>\n",
       "<table border=\"1\" class=\"dataframe\">\n",
       "  <thead>\n",
       "    <tr style=\"text-align: right;\">\n",
       "      <th></th>\n",
       "      <th>Country</th>\n",
       "      <th>Year</th>\n",
       "      <th>Type of emissions</th>\n",
       "      <th>Gas type</th>\n",
       "      <th>Emissions quantity</th>\n",
       "      <th>Emissions quantity units</th>\n",
       "    </tr>\n",
       "  </thead>\n",
       "  <tbody>\n",
       "    <tr>\n",
       "      <th>0</th>\n",
       "      <td>Aruba</td>\n",
       "      <td>2017</td>\n",
       "      <td>solid-waste-disposal</td>\n",
       "      <td>ch4</td>\n",
       "      <td>487.0</td>\n",
       "      <td>tonnes</td>\n",
       "    </tr>\n",
       "    <tr>\n",
       "      <th>1</th>\n",
       "      <td>Aruba</td>\n",
       "      <td>2017</td>\n",
       "      <td>solid-waste-disposal</td>\n",
       "      <td>co2e_100yr</td>\n",
       "      <td>13636.0</td>\n",
       "      <td>tonnes</td>\n",
       "    </tr>\n",
       "    <tr>\n",
       "      <th>2</th>\n",
       "      <td>Aruba</td>\n",
       "      <td>2017</td>\n",
       "      <td>solid-waste-disposal</td>\n",
       "      <td>co2e_20yr</td>\n",
       "      <td>40908.0</td>\n",
       "      <td>tonnes</td>\n",
       "    </tr>\n",
       "    <tr>\n",
       "      <th>3</th>\n",
       "      <td>Aruba</td>\n",
       "      <td>2018</td>\n",
       "      <td>solid-waste-disposal</td>\n",
       "      <td>co2e_20yr</td>\n",
       "      <td>41244.0</td>\n",
       "      <td>tonnes</td>\n",
       "    </tr>\n",
       "    <tr>\n",
       "      <th>4</th>\n",
       "      <td>Afganistan</td>\n",
       "      <td>2015</td>\n",
       "      <td>solid-waste-disposal</td>\n",
       "      <td>ch4</td>\n",
       "      <td>21000.0</td>\n",
       "      <td>tonnes</td>\n",
       "    </tr>\n",
       "  </tbody>\n",
       "</table>\n",
       "</div>"
      ],
      "text/plain": [
       "      Country  Year     Type of emissions    Gas type  Emissions quantity  \\\n",
       "0       Aruba  2017  solid-waste-disposal         ch4               487.0   \n",
       "1       Aruba  2017  solid-waste-disposal  co2e_100yr             13636.0   \n",
       "2       Aruba  2017  solid-waste-disposal   co2e_20yr             40908.0   \n",
       "3       Aruba  2018  solid-waste-disposal   co2e_20yr             41244.0   \n",
       "4  Afganistan  2015  solid-waste-disposal         ch4             21000.0   \n",
       "\n",
       "  Emissions quantity units  \n",
       "0                   tonnes  \n",
       "1                   tonnes  \n",
       "2                   tonnes  \n",
       "3                   tonnes  \n",
       "4                   tonnes  "
      ]
     },
     "execution_count": 95,
     "metadata": {},
     "output_type": "execute_result"
    }
   ],
   "source": [
    "df_waste.head()"
   ]
  },
  {
   "cell_type": "markdown",
   "id": "82586424",
   "metadata": {},
   "source": [
    "# Exporting the dataframe"
   ]
  },
  {
   "cell_type": "code",
   "execution_count": 96,
   "id": "3dca07cf",
   "metadata": {},
   "outputs": [],
   "source": [
    "df_waste.to_csv(os.path.join(path, 'Prepared Data', 'Solid_waste_wrangeled.csv'))"
   ]
  }
 ],
 "metadata": {
  "kernelspec": {
   "display_name": "Python 3 (ipykernel)",
   "language": "python",
   "name": "python3"
  },
  "language_info": {
   "codemirror_mode": {
    "name": "ipython",
    "version": 3
   },
   "file_extension": ".py",
   "mimetype": "text/x-python",
   "name": "python",
   "nbconvert_exporter": "python",
   "pygments_lexer": "ipython3",
   "version": "3.10.9"
  }
 },
 "nbformat": 4,
 "nbformat_minor": 5
}
