{
 "cells": [
  {
   "cell_type": "markdown",
   "id": "f1482876",
   "metadata": {},
   "source": [
    "## Importing data and libraries "
   ]
  },
  {
   "cell_type": "code",
   "execution_count": 1,
   "id": "f2310df9",
   "metadata": {},
   "outputs": [],
   "source": [
    "import quandl\n",
    "import pandas as pd\n",
    "import numpy as np\n",
    "import seaborn as sns\n",
    "import matplotlib\n",
    "import matplotlib.pyplot as plt\n",
    "import statsmodels.api as sm # Using .api imports the public access version of statsmodels, which is a library that handles \n",
    "# statistical models.\n",
    "import os\n",
    "import warnings # This is a library that handles warnings.\n",
    "\n",
    "warnings.filterwarnings(\"ignore\") # Disable deprecation warnings that could indicate, for instance, a suspended library or \n",
    "# feature. These are more relevant to developers and very seldom to analysts.\n",
    "\n",
    "plt.style.use('fivethirtyeight') # This is a styling option for how your plots will appear. More examples here:\n",
    "# https://matplotlib.org/3.2.1/tutorials/introductory/customizing.html\n",
    "# https://matplotlib.org/3.1.0/gallery/style_sheets/fivethirtyeight.html"
   ]
  },
  {
   "cell_type": "code",
   "execution_count": 2,
   "id": "88832da7",
   "metadata": {},
   "outputs": [],
   "source": [
    "path = r'/Users/alexbor/Desktop/Data Analytics/Immersion/Submissions/6. Advanced Analytics/Project_Waste in the world'"
   ]
  },
  {
   "cell_type": "code",
   "execution_count": 3,
   "id": "c1cd0dc8",
   "metadata": {},
   "outputs": [],
   "source": [
    "#Import dataframes\n",
    "\n",
    "df_all = pd.read_csv(os.path.join(path,'Prepared data','Complete_Dataset_without_0_emissions_with_extreme_outliers.csv'), index_col = False)\n"
   ]
  },
  {
   "cell_type": "markdown",
   "id": "86a24e6d",
   "metadata": {},
   "source": [
    "## Data cleaning and wrangling"
   ]
  },
  {
   "cell_type": "code",
   "execution_count": 4,
   "id": "dd020650",
   "metadata": {
    "scrolled": true
   },
   "outputs": [
    {
     "data": {
      "text/html": [
       "<div>\n",
       "<style scoped>\n",
       "    .dataframe tbody tr th:only-of-type {\n",
       "        vertical-align: middle;\n",
       "    }\n",
       "\n",
       "    .dataframe tbody tr th {\n",
       "        vertical-align: top;\n",
       "    }\n",
       "\n",
       "    .dataframe thead th {\n",
       "        text-align: right;\n",
       "    }\n",
       "</style>\n",
       "<table border=\"1\" class=\"dataframe\">\n",
       "  <thead>\n",
       "    <tr style=\"text-align: right;\">\n",
       "      <th></th>\n",
       "      <th>Unnamed: 0.1</th>\n",
       "      <th>Unnamed: 0</th>\n",
       "      <th>Country</th>\n",
       "      <th>Year</th>\n",
       "      <th>Type of emissions</th>\n",
       "      <th>Gas type</th>\n",
       "      <th>Emissions quantity, tonnes</th>\n",
       "      <th>Total population, thousands</th>\n",
       "      <th>Population density</th>\n",
       "      <th>GDP per capita</th>\n",
       "      <th>WMG</th>\n",
       "      <th>Emissions by year &amp; country</th>\n",
       "      <th>GDP per cap. category</th>\n",
       "      <th>Country category by emissions</th>\n",
       "    </tr>\n",
       "  </thead>\n",
       "  <tbody>\n",
       "    <tr>\n",
       "      <th>0</th>\n",
       "      <td>0</td>\n",
       "      <td>0</td>\n",
       "      <td>Aruba</td>\n",
       "      <td>2017</td>\n",
       "      <td>solid-waste-disposal</td>\n",
       "      <td>ch4</td>\n",
       "      <td>487.0</td>\n",
       "      <td>105.0</td>\n",
       "      <td>585.769</td>\n",
       "      <td>29329.0</td>\n",
       "      <td>NaN</td>\n",
       "      <td>55031.0</td>\n",
       "      <td>High GDP per cap.</td>\n",
       "      <td>Low emissions country</td>\n",
       "    </tr>\n",
       "    <tr>\n",
       "      <th>1</th>\n",
       "      <td>1</td>\n",
       "      <td>1</td>\n",
       "      <td>Aruba</td>\n",
       "      <td>2017</td>\n",
       "      <td>solid-waste-disposal</td>\n",
       "      <td>co2e_100yr</td>\n",
       "      <td>13636.0</td>\n",
       "      <td>105.0</td>\n",
       "      <td>585.769</td>\n",
       "      <td>29329.0</td>\n",
       "      <td>NaN</td>\n",
       "      <td>55031.0</td>\n",
       "      <td>High GDP per cap.</td>\n",
       "      <td>Low emissions country</td>\n",
       "    </tr>\n",
       "    <tr>\n",
       "      <th>2</th>\n",
       "      <td>2</td>\n",
       "      <td>2</td>\n",
       "      <td>Aruba</td>\n",
       "      <td>2017</td>\n",
       "      <td>solid-waste-disposal</td>\n",
       "      <td>co2e_20yr</td>\n",
       "      <td>40908.0</td>\n",
       "      <td>105.0</td>\n",
       "      <td>585.769</td>\n",
       "      <td>29329.0</td>\n",
       "      <td>NaN</td>\n",
       "      <td>55031.0</td>\n",
       "      <td>High GDP per cap.</td>\n",
       "      <td>Low emissions country</td>\n",
       "    </tr>\n",
       "    <tr>\n",
       "      <th>3</th>\n",
       "      <td>3</td>\n",
       "      <td>3</td>\n",
       "      <td>Aruba</td>\n",
       "      <td>2018</td>\n",
       "      <td>solid-waste-disposal</td>\n",
       "      <td>co2e_20yr</td>\n",
       "      <td>41244.0</td>\n",
       "      <td>105.0</td>\n",
       "      <td>588.675</td>\n",
       "      <td>30220.0</td>\n",
       "      <td>NaN</td>\n",
       "      <td>55483.0</td>\n",
       "      <td>High GDP per cap.</td>\n",
       "      <td>Low emissions country</td>\n",
       "    </tr>\n",
       "    <tr>\n",
       "      <th>4</th>\n",
       "      <td>4</td>\n",
       "      <td>4</td>\n",
       "      <td>Afganistan</td>\n",
       "      <td>2015</td>\n",
       "      <td>solid-waste-disposal</td>\n",
       "      <td>ch4</td>\n",
       "      <td>21000.0</td>\n",
       "      <td>NaN</td>\n",
       "      <td>NaN</td>\n",
       "      <td>NaN</td>\n",
       "      <td>NaN</td>\n",
       "      <td>2373000.0</td>\n",
       "      <td>NaN</td>\n",
       "      <td>Insignificant emissions country</td>\n",
       "    </tr>\n",
       "  </tbody>\n",
       "</table>\n",
       "</div>"
      ],
      "text/plain": [
       "   Unnamed: 0.1  Unnamed: 0     Country  Year     Type of emissions  \\\n",
       "0             0           0       Aruba  2017  solid-waste-disposal   \n",
       "1             1           1       Aruba  2017  solid-waste-disposal   \n",
       "2             2           2       Aruba  2017  solid-waste-disposal   \n",
       "3             3           3       Aruba  2018  solid-waste-disposal   \n",
       "4             4           4  Afganistan  2015  solid-waste-disposal   \n",
       "\n",
       "     Gas type  Emissions quantity, tonnes  Total population, thousands  \\\n",
       "0         ch4                       487.0                        105.0   \n",
       "1  co2e_100yr                     13636.0                        105.0   \n",
       "2   co2e_20yr                     40908.0                        105.0   \n",
       "3   co2e_20yr                     41244.0                        105.0   \n",
       "4         ch4                     21000.0                          NaN   \n",
       "\n",
       "   Population density  GDP per capita  WMG  Emissions by year & country  \\\n",
       "0             585.769         29329.0  NaN                      55031.0   \n",
       "1             585.769         29329.0  NaN                      55031.0   \n",
       "2             585.769         29329.0  NaN                      55031.0   \n",
       "3             588.675         30220.0  NaN                      55483.0   \n",
       "4                 NaN             NaN  NaN                    2373000.0   \n",
       "\n",
       "  GDP per cap. category    Country category by emissions  \n",
       "0     High GDP per cap.            Low emissions country  \n",
       "1     High GDP per cap.            Low emissions country  \n",
       "2     High GDP per cap.            Low emissions country  \n",
       "3     High GDP per cap.            Low emissions country  \n",
       "4                   NaN  Insignificant emissions country  "
      ]
     },
     "execution_count": 4,
     "metadata": {},
     "output_type": "execute_result"
    }
   ],
   "source": [
    "df_all.head()"
   ]
  },
  {
   "cell_type": "code",
   "execution_count": 5,
   "id": "3a940b87",
   "metadata": {
    "scrolled": true
   },
   "outputs": [
    {
     "data": {
      "image/png": "[encoded data removed]",
      "text/plain": [
       "<Figure size 640x480 with 1 Axes>"
      ]
     },
     "metadata": {},
     "output_type": "display_data"
    }
   ],
   "source": [
    "sns.scatterplot(data=df_all, x='WMG', y='GDP per capita')\n",
    "plt.xscale('log')\n",
    "plt.yscale('log')"
   ]
  },
  {
   "cell_type": "code",
   "execution_count": 6,
   "id": "fd5cbdf5",
   "metadata": {},
   "outputs": [],
   "source": [
    "df_all_sub_types = df_all[['Country','Year', 'Gas type', 'Emissions quantity, tonnes', 'Total population, thousands']]"
   ]
  },
  {
   "cell_type": "code",
   "execution_count": 8,
   "id": "ec37b60c",
   "metadata": {},
   "outputs": [],
   "source": [
    "df_all_sub_types['Emissions per capita'] = df_all_sub_types['Emissions quantity, tonnes'] / df_all_sub_types['Total population, thousands']\n"
   ]
  },
  {
   "cell_type": "code",
   "execution_count": 10,
   "id": "0948e888",
   "metadata": {},
   "outputs": [],
   "source": [
    "grouped_by_country_types = df_all_sub_types.groupby(['Country', 'Year', 'Gas type'])['Emissions quantity, tonnes','Emissions per capita'].sum()\n"
   ]
  },
  {
   "cell_type": "code",
   "execution_count": 12,
   "id": "87dff4bb",
   "metadata": {},
   "outputs": [],
   "source": [
    "grouped_by_country_types = grouped_by_country_types.reset_index()"
   ]
  },
  {
   "cell_type": "code",
   "execution_count": 13,
   "id": "bfef3add",
   "metadata": {},
   "outputs": [
    {
     "data": {
      "text/html": [
       "<div>\n",
       "<style scoped>\n",
       "    .dataframe tbody tr th:only-of-type {\n",
       "        vertical-align: middle;\n",
       "    }\n",
       "\n",
       "    .dataframe tbody tr th {\n",
       "        vertical-align: top;\n",
       "    }\n",
       "\n",
       "    .dataframe thead th {\n",
       "        text-align: right;\n",
       "    }\n",
       "</style>\n",
       "<table border=\"1\" class=\"dataframe\">\n",
       "  <thead>\n",
       "    <tr style=\"text-align: right;\">\n",
       "      <th></th>\n",
       "      <th>Country</th>\n",
       "      <th>Year</th>\n",
       "      <th>Gas type</th>\n",
       "      <th>Emissions quantity, tonnes</th>\n",
       "      <th>Emissions per capita</th>\n",
       "    </tr>\n",
       "  </thead>\n",
       "  <tbody>\n",
       "    <tr>\n",
       "      <th>0</th>\n",
       "      <td>Afganistan</td>\n",
       "      <td>2015</td>\n",
       "      <td>ch4</td>\n",
       "      <td>21000.0</td>\n",
       "      <td>0.0</td>\n",
       "    </tr>\n",
       "    <tr>\n",
       "      <th>1</th>\n",
       "      <td>Afganistan</td>\n",
       "      <td>2015</td>\n",
       "      <td>co2e_100yr</td>\n",
       "      <td>588000.0</td>\n",
       "      <td>0.0</td>\n",
       "    </tr>\n",
       "    <tr>\n",
       "      <th>2</th>\n",
       "      <td>Afganistan</td>\n",
       "      <td>2015</td>\n",
       "      <td>co2e_20yr</td>\n",
       "      <td>1764000.0</td>\n",
       "      <td>0.0</td>\n",
       "    </tr>\n",
       "    <tr>\n",
       "      <th>3</th>\n",
       "      <td>Afganistan</td>\n",
       "      <td>2016</td>\n",
       "      <td>ch4</td>\n",
       "      <td>21800.0</td>\n",
       "      <td>0.0</td>\n",
       "    </tr>\n",
       "    <tr>\n",
       "      <th>4</th>\n",
       "      <td>Afganistan</td>\n",
       "      <td>2016</td>\n",
       "      <td>co2e_100yr</td>\n",
       "      <td>610400.0</td>\n",
       "      <td>0.0</td>\n",
       "    </tr>\n",
       "  </tbody>\n",
       "</table>\n",
       "</div>"
      ],
      "text/plain": [
       "      Country  Year    Gas type  Emissions quantity, tonnes  \\\n",
       "0  Afganistan  2015         ch4                     21000.0   \n",
       "1  Afganistan  2015  co2e_100yr                    588000.0   \n",
       "2  Afganistan  2015   co2e_20yr                   1764000.0   \n",
       "3  Afganistan  2016         ch4                     21800.0   \n",
       "4  Afganistan  2016  co2e_100yr                    610400.0   \n",
       "\n",
       "   Emissions per capita  \n",
       "0                   0.0  \n",
       "1                   0.0  \n",
       "2                   0.0  \n",
       "3                   0.0  \n",
       "4                   0.0  "
      ]
     },
     "execution_count": 13,
     "metadata": {},
     "output_type": "execute_result"
    }
   ],
   "source": [
    "grouped_by_country_types.head()"
   ]
  },
  {
   "cell_type": "code",
   "execution_count": 14,
   "id": "f188b287",
   "metadata": {},
   "outputs": [],
   "source": [
    "max_em_types = grouped_by_country_types.sort_values(by='Emissions per capita', ascending=False)\n"
   ]
  },
  {
   "cell_type": "code",
   "execution_count": 16,
   "id": "b1b89615",
   "metadata": {},
   "outputs": [],
   "source": [
    "specific_values = ['Kuwait', 'Trinidad and Tobago', 'Saint Pierre and Miquelon', 'Finland', 'Greenland', 'New Zealand', 'Hong Kong', 'Iceland', 'Bahamas', 'Israel']\n"
   ]
  },
  {
   "cell_type": "code",
   "execution_count": 17,
   "id": "bba122f1",
   "metadata": {},
   "outputs": [],
   "source": [
    "subset_top_10 = grouped_by_country_types[grouped_by_country_types['Country'].isin(specific_values)]\n"
   ]
  },
  {
   "cell_type": "code",
   "execution_count": 20,
   "id": "ef6d56e0",
   "metadata": {},
   "outputs": [],
   "source": [
    "subset_top_10.to_csv(os.path.join(path, 'Prepared Data', 'top 10_types.csv'))"
   ]
  },
  {
   "cell_type": "code",
   "execution_count": null,
   "id": "faf49ad1",
   "metadata": {
    "scrolled": false
   },
   "outputs": [],
   "source": [
    "df_all_sub.head()"
   ]
  },
  {
   "cell_type": "code",
   "execution_count": null,
   "id": "b8821447",
   "metadata": {},
   "outputs": [],
   "source": [
    "df_all_sub['Emissions per capita'] = df_all_sub['Emissions quantity, tonnes'] / df_all_sub['Total population, thousands']\n"
   ]
  },
  {
   "cell_type": "code",
   "execution_count": null,
   "id": "f1f4bf14",
   "metadata": {},
   "outputs": [],
   "source": [
    "df_all_sub.head()"
   ]
  },
  {
   "cell_type": "code",
   "execution_count": null,
   "id": "aa9792a2",
   "metadata": {},
   "outputs": [],
   "source": [
    "#Grouping the data on Emissions by country \n",
    "grouped_by_country = df_all_sub.groupby(['Country', 'Year'])['Emissions quantity, tonnes','Emissions per capita'].sum()"
   ]
  },
  {
   "cell_type": "code",
   "execution_count": null,
   "id": "01700451",
   "metadata": {},
   "outputs": [],
   "source": [
    "grouped_by_country"
   ]
  },
  {
   "cell_type": "code",
   "execution_count": null,
   "id": "a77b49da",
   "metadata": {},
   "outputs": [],
   "source": [
    "#Reseting the index\n",
    "grouped_by_country = grouped_by_country.reset_index()"
   ]
  },
  {
   "cell_type": "code",
   "execution_count": null,
   "id": "d319f970",
   "metadata": {},
   "outputs": [],
   "source": [
    "grouped_by_country"
   ]
  },
  {
   "cell_type": "code",
   "execution_count": null,
   "id": "0eb658b6",
   "metadata": {
    "scrolled": true
   },
   "outputs": [],
   "source": [
    "# Check for missing values (you shouldn't have any)\n",
    "\n",
    "grouped_by_country.isnull().sum() "
   ]
  },
  {
   "cell_type": "code",
   "execution_count": null,
   "id": "85a1320b",
   "metadata": {},
   "outputs": [],
   "source": [
    "grouped_by_country.to_csv(os.path.join(path, 'Prepared Data', 'grouped_by_country_6.7.csv'))"
   ]
  },
  {
   "cell_type": "code",
   "execution_count": null,
   "id": "57cd1b33",
   "metadata": {},
   "outputs": [],
   "source": [
    "top_10_countries = grouped_by_country.nlargest(10, 'Emissions quantity, tonnes')\n"
   ]
  },
  {
   "cell_type": "code",
   "execution_count": null,
   "id": "ee613d83",
   "metadata": {},
   "outputs": [],
   "source": [
    "df_sorted = grouped_by_country.sort_values(by='Emissions per capita', ascending=False)\n"
   ]
  },
  {
   "cell_type": "code",
   "execution_count": null,
   "id": "2c86358b",
   "metadata": {},
   "outputs": [],
   "source": [
    "grouped_by_country_emissions = grouped_by_country.groupby(['Country'])['Emissions per capita'].sum()"
   ]
  },
  {
   "cell_type": "code",
   "execution_count": null,
   "id": "d783f45d",
   "metadata": {},
   "outputs": [],
   "source": [
    "grouped_by_country_emissions"
   ]
  },
  {
   "cell_type": "code",
   "execution_count": null,
   "id": "ac99ebbf",
   "metadata": {},
   "outputs": [],
   "source": [
    "grouped_by_country_emissions = grouped_by_country_emissions.reset_index()"
   ]
  },
  {
   "cell_type": "code",
   "execution_count": null,
   "id": "0a38d0b8",
   "metadata": {},
   "outputs": [],
   "source": [
    "grouped_by_country_emissions"
   ]
  },
  {
   "cell_type": "code",
   "execution_count": null,
   "id": "25e00edb",
   "metadata": {},
   "outputs": [],
   "source": [
    "df_sorted_1 = grouped_by_country_emissions.sort_values(by='Emissions per capita', ascending=False)\n"
   ]
  },
  {
   "cell_type": "code",
   "execution_count": null,
   "id": "90dc65eb",
   "metadata": {},
   "outputs": [],
   "source": [
    "df_sorted_1"
   ]
  },
  {
   "cell_type": "code",
   "execution_count": null,
   "id": "52f59f01",
   "metadata": {},
   "outputs": [],
   "source": [
    "top_10_values = df_sorted_1.nlargest(10, 'Emissions per capita')\n"
   ]
  },
  {
   "cell_type": "code",
   "execution_count": null,
   "id": "624ac2fe",
   "metadata": {},
   "outputs": [],
   "source": [
    "top_10_values"
   ]
  },
  {
   "cell_type": "code",
   "execution_count": null,
   "id": "e76dde8b",
   "metadata": {},
   "outputs": [],
   "source": [
    "top_10_values.to_csv(os.path.join(path, 'Prepared Data', 'top_10_emissions_per_capita_6.7.csv'))"
   ]
  },
  {
   "cell_type": "code",
   "execution_count": null,
   "id": "958868b6",
   "metadata": {},
   "outputs": [],
   "source": [
    "total_sum = grouped_by_country['Emissions quantity, tonnes'].sum()\n"
   ]
  },
  {
   "cell_type": "code",
   "execution_count": null,
   "id": "db8576b7",
   "metadata": {},
   "outputs": [],
   "source": [
    "grouped_by_country['% of total emissions'] = (grouped_by_country['Emissions quantity, tonnes'] / total_sum) * 100\n"
   ]
  },
  {
   "cell_type": "code",
   "execution_count": null,
   "id": "7d966083",
   "metadata": {},
   "outputs": [],
   "source": [
    "grouped_by_country"
   ]
  },
  {
   "cell_type": "code",
   "execution_count": null,
   "id": "fae496b2",
   "metadata": {},
   "outputs": [],
   "source": [
    "grouped_by_country_percentage = grouped_by_country.groupby(['Country', 'Year'])['Emissions quantity, tonnes', 'Emissions per capita', '% of total emissions'].sum()"
   ]
  },
  {
   "cell_type": "code",
   "execution_count": null,
   "id": "5d70f25b",
   "metadata": {},
   "outputs": [],
   "source": [
    "grouped_by_country_percentage = grouped_by_country_percentage.reset_index()"
   ]
  },
  {
   "cell_type": "code",
   "execution_count": null,
   "id": "d0996367",
   "metadata": {},
   "outputs": [],
   "source": [
    "grouped_by_country_percentage"
   ]
  },
  {
   "cell_type": "code",
   "execution_count": null,
   "id": "33ab6499",
   "metadata": {},
   "outputs": [],
   "source": [
    "grouped_by_country_percentage.to_csv(os.path.join(path, 'Prepared Data', 'percentage of all emissions_6.7.csv'))"
   ]
  },
  {
   "cell_type": "code",
   "execution_count": null,
   "id": "3f6b793f",
   "metadata": {},
   "outputs": [],
   "source": []
  }
 ],
 "metadata": {
  "kernelspec": {
   "display_name": "Python 3 (ipykernel)",
   "language": "python",
   "name": "python3"
  },
  "language_info": {
   "codemirror_mode": {
    "name": "ipython",
    "version": 3
   },
   "file_extension": ".py",
   "mimetype": "text/x-python",
   "name": "python",
   "nbconvert_exporter": "python",
   "pygments_lexer": "ipython3",
   "version": "3.10.9"
  }
 },
 "nbformat": 4,
 "nbformat_minor": 5
}
