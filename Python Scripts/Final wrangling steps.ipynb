{
 "cells": [
  {
   "cell_type": "markdown",
   "id": "afc2be15",
   "metadata": {},
   "source": [
    "# Some final wrangling (working with the titles of countries) "
   ]
  },
  {
   "cell_type": "code",
   "execution_count": 1,
   "id": "ae629446",
   "metadata": {},
   "outputs": [],
   "source": [
    "#Importing libraries\n",
    "import pandas as pd\n",
    "import numpy as np\n",
    "import os"
   ]
  },
  {
   "cell_type": "code",
   "execution_count": 2,
   "id": "6123f9a6",
   "metadata": {},
   "outputs": [],
   "source": [
    "path = r'/Users/alexbor/Desktop/Data Analytics/Immersion/Submissions/6. Advanced Analytics/Project_Waste in the world'"
   ]
  },
  {
   "cell_type": "code",
   "execution_count": 3,
   "id": "361c64ab",
   "metadata": {},
   "outputs": [],
   "source": [
    "#Import dataframe \"Solid_waste_wrangeled\"\n",
    "\n",
    "df_waste = pd.read_csv(os.path.join(path,'Prepared data','Solid_waste_wrangeled.csv'), index_col = False)\n"
   ]
  },
  {
   "cell_type": "code",
   "execution_count": 4,
   "id": "a26f3842",
   "metadata": {},
   "outputs": [],
   "source": [
    "#Checking unique values in the column 'Country'\n",
    "unique_values = df_waste['Country'].unique()"
   ]
  },
  {
   "cell_type": "code",
   "execution_count": 5,
   "id": "390f0278",
   "metadata": {},
   "outputs": [
    {
     "data": {
      "text/plain": [
       "array(['Aruba', 'Afganistan', 'Angola', 'Anguilla', 'Åland Islands',\n",
       "       'Albania', 'Andorra', 'United Arab Emirates', 'Argentina',\n",
       "       'Armenia', 'American Samoa', 'Antarctica',\n",
       "       'French Southern Territories', 'Antigua and Barbuda', 'Australia',\n",
       "       'Austria', 'Azerbaijan', 'Burundi', 'Belgium', 'Benin',\n",
       "       'Bonaire, Sint Eustatius and Saba', 'Burkina Faso', 'Bangladesh',\n",
       "       'Bulgaria', 'Bahrain', 'Bahamas', 'Bosnia and Herzegovina',\n",
       "       'Saint Barthélemy', 'Belarus', 'Belize', 'Bermuda', 'Bolivia',\n",
       "       'Brazil', 'Barbados', 'Brunei Darussalam', 'Bhutan',\n",
       "       'Bouvet Island', 'Botswana', 'Central African Republic', 'Canada',\n",
       "       'Cocos (Keeling) Islands', 'Chile', 'China', 'Côte dIvoire',\n",
       "       'Cameroon', 'Congo, Democratic Republic of the', 'Congo',\n",
       "       'Cook Islands', 'Colombia', 'Comoros', 'Cabo Verde', 'Costa Rica',\n",
       "       'Curaçao', 'Republic of North Macedonia', 'Egypt', 'Eritrea',\n",
       "       'Western Sahara', 'France', 'Faroe Islands', 'Micronesia', 'Gabon',\n",
       "       'United Kingdom of Great Britain and Northern Ireland', 'Guernsey',\n",
       "       'Ghana', 'Gibraltar', 'Guinea', 'Guadeloupe', 'Guinea-Bissau',\n",
       "       'Equatorial Guinea', 'Grenada', 'Greenland', 'Guatemala', 'Guam',\n",
       "       'Hong Kong', 'Heard Island and McDonald Islands', 'Honduras',\n",
       "       'Haiti', 'Isle of Man', 'British Indian Ocean Territory',\n",
       "       'Ireland', 'Iran', 'Iraq', 'Jamaica', 'Jersey', 'Jordan',\n",
       "       'Kazakhstan', 'Kenya', 'Kyrgyzstan', 'Cambodia', 'Kiribati',\n",
       "       'Saint Kitts and Nevis', 'Kuwait',\n",
       "       'Lao Peoples Democratic Republic', 'Lebanon', 'Liberia', 'Libya',\n",
       "       'Saint Lucia', 'Liechtenstein', 'Lesotho',\n",
       "       'Saint Martin, French part', 'Morocco', 'Monaco', 'Moldova',\n",
       "       'Madagascar', 'Mexico', 'Marshall Islands', 'Myanmar',\n",
       "       'Montenegro', 'Mongolia', 'Northern Mariana Islands', 'Mozambique',\n",
       "       'Mauritania', 'Montserrat', 'Martinique', 'Mauritius', 'Malawi',\n",
       "       'Mayotte', 'Niger', 'Norfolk Island', 'Nigeria', 'Nicaragua',\n",
       "       'Niue', 'Nepal', 'Nauru', 'New Zealand', 'Oman', 'Pakistan',\n",
       "       'Panama', 'Pitcairn', 'Palau', 'Poland', 'Puerto Rico',\n",
       "       'Korea, the Democratic Peoples Republic of', 'Portugal',\n",
       "       'Paraguay', 'Palestine', 'French Polynesia', 'Qatar', 'Réunion',\n",
       "       'Russian Federation', 'Rwanda', 'SCG', 'Sudan', 'Singapore',\n",
       "       'South Georgia and the South Sandwich Islands',\n",
       "       'Saint Helena, Ascension and Tristan da Cunha',\n",
       "       'Svalbard and Jan Mayen', 'Solomon Islands', 'Sierra Leone',\n",
       "       'El Salvador', 'San Marino', 'Somalia', 'Serbia', 'South Sudan',\n",
       "       'Sao Tome and Principe', 'Suriname', 'Sweden', 'Eswatini',\n",
       "       'Sint Maarten, Dutch part', 'Seychelles', 'Syrian Arab Republic',\n",
       "       'Chad', 'Togo', 'Thailand', 'Tajikistan', 'Tokelau',\n",
       "       'Turkmenistan', 'Tonga', 'Trinidad and Tobago', 'Tunisia',\n",
       "       'Tuvalu', 'Tanzania', 'United States Minor Outlying Islands',\n",
       "       'Uruguay', 'Uzbekistan', 'Holy See', 'Venezuela',\n",
       "       'Virgin Islands, British', 'Virgin Islands, US',\n",
       "       'Wallis and Futuna', 'Samoa', 'Kosovo', 'Yemen', 'South Africa',\n",
       "       'Zambia', 'Christmas Island', 'Cayman Islands',\n",
       "       'Dominican Republic', 'Algeria', 'Ecuador', 'Switzerland', 'Cuba',\n",
       "       'Cyprus', 'Czechia', 'Germany', 'Djibouti', 'Dominica', 'Denmark',\n",
       "       'Spain', 'Estonia', 'Ethiopia', 'Finland', 'Fiji',\n",
       "       'Falkland Islands', 'Georgia', 'Gambia', 'Greece', 'French Guiana',\n",
       "       'Guyana', 'Croatia', 'Hungary', 'Indonesia', 'India', 'Iceland',\n",
       "       'Israel', 'Italy', 'Japan', 'Korea, the Republic of', 'Sri Lanka',\n",
       "       'Lithuania', 'Luxembourg', 'Latvia', 'Macao', 'Maldives',\n",
       "       'Saint Pierre and Miquelon', 'Slovakia', 'Slovenia',\n",
       "       'Turks and Caicos Islands', 'Timor-Leste', 'Turkey', 'Taiwan',\n",
       "       'Uganda', 'Ukraine', 'United States of America',\n",
       "       'Saint Vincent and the Grenadines', 'Viet Nam', 'Vanuatu',\n",
       "       'Zimbabwe', 'Mali', 'Malta', 'Malaysia', 'Namibia',\n",
       "       'New Caledonia', 'Netherlands', 'Norway', 'Peru', 'Philippines',\n",
       "       'Papua New Guinea', 'Romania', 'Saudi Arabia', 'Senegal'],\n",
       "      dtype=object)"
      ]
     },
     "execution_count": 5,
     "metadata": {},
     "output_type": "execute_result"
    }
   ],
   "source": [
    "unique_values"
   ]
  },
  {
   "cell_type": "code",
   "execution_count": 6,
   "id": "c087508d",
   "metadata": {},
   "outputs": [],
   "source": [
    "#Import dataframe \"Population_wrangeled\"\n",
    "\n",
    "df_pop = pd.read_csv(os.path.join(path,'Prepared data','Population_wrangeled.csv'), index_col = False)\n"
   ]
  },
  {
   "cell_type": "code",
   "execution_count": 7,
   "id": "7730009b",
   "metadata": {},
   "outputs": [],
   "source": [
    "#Checking unique values in the column 'Country'\n",
    "unique_values_2 = df_pop['Country'].unique()"
   ]
  },
  {
   "cell_type": "code",
   "execution_count": 8,
   "id": "38c2ec4b",
   "metadata": {},
   "outputs": [
    {
     "data": {
      "text/plain": [
       "array(['Burundi', 'Comoros', 'Djibouti', 'Eritrea', 'Ethiopia', 'Kenya',\n",
       "       'Madagascar', 'Malawi', 'Mauritius', 'Mayotte', 'Mozambique',\n",
       "       'Réunion', 'Rwanda', 'Seychelles', 'Somalia', 'South Sudan',\n",
       "       'Uganda', 'United Republic of Tanzania', 'Zambia', 'Zimbabwe',\n",
       "       'Middle Africa', 'Angola', 'Cameroon', 'Central African Republic',\n",
       "       'Chad', 'Congo', 'Democratic Republic of the Congo',\n",
       "       'Equatorial Guinea', 'Gabon', 'Sao Tome and Principe',\n",
       "       'Northern Africa', 'Algeria', 'Egypt', 'Libya', 'Morocco', 'Sudan',\n",
       "       'Tunisia', 'Western Sahara', 'Southern Africa', 'Botswana',\n",
       "       'Eswatini', 'Lesotho', 'Namibia', 'South Africa', 'Western Africa',\n",
       "       'Benin', 'Burkina Faso', 'Cabo Verde', \"Côte d'Ivoire\", 'Gambia',\n",
       "       'Ghana', 'Guinea', 'Guinea-Bissau', 'Liberia', 'Mali',\n",
       "       'Mauritania', 'Niger', 'Nigeria', 'Saint Helena', 'Senegal',\n",
       "       'Sierra Leone', 'Togo', 'Asia', 'Central Asia', 'Kazakhstan',\n",
       "       'Kyrgyzstan', 'Tajikistan', 'Turkmenistan', 'Uzbekistan',\n",
       "       'Eastern Asia', 'China', 'China, Hong Kong SAR',\n",
       "       'China, Macao SAR', 'China, Taiwan Province of China',\n",
       "       \"Dem. People's Republic of Korea\", 'Japan', 'Mongolia',\n",
       "       'Republic of Korea', 'Southern Asia', 'Afghanistan', 'Bangladesh',\n",
       "       'Bhutan', 'India', 'Iran (Islamic Republic of)', 'Maldives',\n",
       "       'Nepal', 'Pakistan', 'Sri Lanka', 'South-Eastern Asia',\n",
       "       'Brunei Darussalam', 'Cambodia', 'Indonesia',\n",
       "       \"Lao People's Democratic Republic\", 'Malaysia', 'Myanmar',\n",
       "       'Philippines', 'Singapore', 'Thailand', 'Timor-Leste', 'Viet Nam',\n",
       "       'Western Asia', 'Armenia', 'Azerbaijan', 'Bahrain', 'Cyprus',\n",
       "       'Georgia', 'Iraq', 'Israel', 'Jordan', 'Kuwait', 'Lebanon', 'Oman',\n",
       "       'Qatar', 'Saudi Arabia', 'State of Palestine',\n",
       "       'Syrian Arab Republic', 'Türkiye', 'United Arab Emirates', 'Yemen',\n",
       "       'Europe', 'Eastern Europe', 'Belarus', 'Bulgaria', 'Czechia',\n",
       "       'Hungary', 'Poland', 'Republic of Moldova', 'Romania',\n",
       "       'Russian Federation', 'Slovakia', 'Ukraine', 'Northern Europe',\n",
       "       'Denmark', 'Estonia', 'Faroe Islands', 'Finland', 'Guernsey',\n",
       "       'Iceland', 'Ireland', 'Isle of Man', 'Jersey', 'Latvia',\n",
       "       'Lithuania', 'Norway', 'Sweden', 'United Kingdom',\n",
       "       'Southern Europe', 'Albania', 'Andorra', 'Bosnia and Herzegovina',\n",
       "       'Croatia', 'Gibraltar', 'Greece', 'Holy See', 'Italy',\n",
       "       'Kosovo (under UNSC res. 1244)', 'Malta', 'Montenegro',\n",
       "       'North Macedonia', 'Portugal', 'San Marino', 'Serbia', 'Slovenia',\n",
       "       'Spain', 'Western Europe', 'Austria', 'Belgium', 'France',\n",
       "       'Germany', 'Liechtenstein', 'Luxembourg', 'Monaco', 'Netherlands',\n",
       "       'Switzerland', 'Caribbean', 'Anguilla', 'Antigua and Barbuda',\n",
       "       'Aruba', 'Bahamas', 'Barbados', 'Bonaire, Sint Eustatius and Saba',\n",
       "       'British Virgin Islands', 'Cayman Islands', 'Cuba', 'Curaçao',\n",
       "       'Dominica', 'Dominican Republic', 'Grenada', 'Guadeloupe', 'Haiti',\n",
       "       'Jamaica', 'Martinique', 'Montserrat', 'Puerto Rico',\n",
       "       'Saint Barthélemy', 'Saint Kitts and Nevis', 'Saint Lucia',\n",
       "       'Saint Martin (French part)', 'Saint Vincent and the Grenadines',\n",
       "       'Sint Maarten (Dutch part)', 'Trinidad and Tobago',\n",
       "       'Turks and Caicos Islands', 'United States Virgin Islands',\n",
       "       'Central America', 'Belize', 'Costa Rica', 'El Salvador',\n",
       "       'Guatemala', 'Honduras', 'Mexico', 'Nicaragua', 'Panama',\n",
       "       'South America', 'Argentina', 'Bolivia (Plurinational State of)',\n",
       "       'Brazil', 'Chile', 'Colombia', 'Ecuador',\n",
       "       'Falkland Islands (Malvinas)', 'French Guiana', 'Guyana',\n",
       "       'Paraguay', 'Peru', 'Suriname', 'Uruguay',\n",
       "       'Venezuela (Bolivarian Republic of)', 'Northern America',\n",
       "       'Bermuda', 'Canada', 'Greenland', 'Saint Pierre and Miquelon',\n",
       "       'United States of America', 'Oceania', 'Australia', 'New Zealand',\n",
       "       'Melanesia', 'Fiji', 'New Caledonia', 'Papua New Guinea',\n",
       "       'Solomon Islands', 'Vanuatu', 'Micronesia', 'Guam', 'Kiribati',\n",
       "       'Marshall Islands', 'Micronesia (Fed. States of)', 'Nauru',\n",
       "       'Northern Mariana Islands', 'Palau', 'Polynesia', 'American Samoa',\n",
       "       'Cook Islands', 'French Polynesia', 'Niue', 'Samoa', 'Tokelau',\n",
       "       'Tonga', 'Tuvalu', 'Wallis and Futuna Islands'], dtype=object)"
      ]
     },
     "execution_count": 8,
     "metadata": {},
     "output_type": "execute_result"
    }
   ],
   "source": [
    "unique_values_2"
   ]
  },
  {
   "cell_type": "code",
   "execution_count": 9,
   "id": "b7146315",
   "metadata": {},
   "outputs": [],
   "source": [
    "#Renaming values in the dataframe 'Population', column 'Country'\n",
    "\n",
    "name_mapping_1 = {'China, Taiwan Province of China': 'Taiwan', 'Iran (Islamic Republic of)': 'Iran', 'Bolivia (Plurinational State of)': 'Bolivia', 'Kosovo (under UNSC res. 1244)': 'Kosovo', 'China, Hong Kong SAR': 'Hong Kong', 'United Kingdom': 'United Kingdom of Great Britain and Northern Ireland', 'China, Macao SAR': 'Macao', 'Republic of Korea': 'South Korea', 'Falkland Islands (Malvinas)': 'Falkland Islands', 'Republic of Moldova': 'Moldova', 'Saint Martin (French part)': 'Saint Martin, French part', 'Sint Maarten (Dutch part)': 'Sint Maarten, Dutch part', 'State of Palestine': 'Palestine', 'Türkiye': 'Turkey', 'United Republic of Tanzania': 'Tanzania', 'Venezuela (Bolivarian Republic of)': 'Venezuela', 'British Virgin Islands': 'Virgin Islands, British', 'United States Virgin Islands': 'Virgin Islands, US', 'Wallis and Futuna Islands': 'Wallis and Futuna'}   \n"
   ]
  },
  {
   "cell_type": "code",
   "execution_count": 10,
   "id": "c0477c9b",
   "metadata": {},
   "outputs": [],
   "source": [
    "df_pop['Country'] = df_pop['Country'].replace(name_mapping_1)"
   ]
  },
  {
   "cell_type": "code",
   "execution_count": 11,
   "id": "a21eb1b0",
   "metadata": {},
   "outputs": [],
   "source": [
    "#Exporting the Population dataframe\n",
    "df_pop.to_csv(os.path.join(path, 'Prepared Data', 'Population_wrangeled_2.csv'))"
   ]
  },
  {
   "cell_type": "code",
   "execution_count": 12,
   "id": "e4c38263",
   "metadata": {},
   "outputs": [],
   "source": [
    "#Import dataframe \"GDP_wrangeled\"\n",
    "\n",
    "df_dgp = pd.read_csv(os.path.join(path,'Prepared data','GDP_wrangeled.csv'), index_col = False)\n"
   ]
  },
  {
   "cell_type": "code",
   "execution_count": 13,
   "id": "60664561",
   "metadata": {},
   "outputs": [],
   "source": [
    "#Renaming values in the dataframe 'GDP', column 'Country'\n",
    "\n",
    "name_mapping_2 = {'Bolivia (Plurinational State of)': 'Bolivia', 'China (mainland)': 'China', 'China, Hong Kong SAR': 'Hong Kong', 'China, Macao Special Administrative Region': 'Macao', 'Iran, Islamic Republic of': 'Iran', 'Kingdom of Eswatini': 'Eswatini', 'Micronesia (Federated States of)': 'Micronesia', 'Republic of Korea': 'South Korea', 'Republic of Moldova': 'Moldova', 'Republic of North Macedonia': 'North Macedonia', 'Sint Maarten (Dutch part)': 'Sint Maarten, Dutch part', 'State of Palestine': 'Palestine', 'Türkiye': 'Turkey', 'United Republic of Tanzania: Mainland': 'Tanzania', 'United States': 'United States of America', 'Venezuela (Bolivarian Republic of)': 'Venezuela'}\n",
    "                  "
   ]
  },
  {
   "cell_type": "code",
   "execution_count": 14,
   "id": "bc2a4ac5",
   "metadata": {},
   "outputs": [],
   "source": [
    "df_dgp['Country'] = df_dgp['Country'].replace(name_mapping_2)"
   ]
  },
  {
   "cell_type": "code",
   "execution_count": 15,
   "id": "dd435cd9",
   "metadata": {},
   "outputs": [],
   "source": [
    "#Renaming values in the dataframe 'Solid Waste', column 'Country'\n",
    "\n",
    "name_mapping_3 = {'Republic of North Macedonia': 'North Macedonia', 'Korea, the Republic of': 'South Korea'}"
   ]
  },
  {
   "cell_type": "code",
   "execution_count": 16,
   "id": "2e1f0512",
   "metadata": {},
   "outputs": [],
   "source": [
    "df_waste['Country'] = df_waste['Country'].replace(name_mapping_3)"
   ]
  },
  {
   "cell_type": "code",
   "execution_count": 17,
   "id": "3b571d64",
   "metadata": {},
   "outputs": [],
   "source": [
    "#Renaming values in the dataframe 'Solid Waste', column 'Country'\n",
    "\n",
    "name_mapping_4 = {'Korea, the Democratic Peoples Republic of':'North Korea'}"
   ]
  },
  {
   "cell_type": "code",
   "execution_count": 18,
   "id": "e4f4a28a",
   "metadata": {},
   "outputs": [],
   "source": [
    "df_waste['Country'] = df_waste['Country'].replace(name_mapping_4)"
   ]
  },
  {
   "cell_type": "code",
   "execution_count": 19,
   "id": "dc5065f8",
   "metadata": {},
   "outputs": [],
   "source": [
    "#Exporting the Waste dataframe\n",
    "df_waste.to_csv(os.path.join(path, 'Prepared Data', 'Solid_waste_wrangeled_2.csv'))"
   ]
  },
  {
   "cell_type": "code",
   "execution_count": 20,
   "id": "f238cab6",
   "metadata": {},
   "outputs": [],
   "source": [
    "#Exporting the GDP dataframe\n",
    "df_dgp.to_csv(os.path.join(path, 'Prepared Data', 'GDP_wrangeled_2.csv'))"
   ]
  },
  {
   "cell_type": "code",
   "execution_count": 21,
   "id": "60a4bda8",
   "metadata": {},
   "outputs": [],
   "source": [
    "df_waste = pd.read_csv(os.path.join(path,'Prepared data','Solid_waste_wrangeled_2.csv'), index_col = False)\n"
   ]
  },
  {
   "cell_type": "code",
   "execution_count": 22,
   "id": "60796283",
   "metadata": {},
   "outputs": [],
   "source": [
    "#Renaming values in the dataframe 'Solid Waste', column 'Country'\n",
    "\n",
    "name_mapping_5 = {'Congo, Democratic Republic of the':'Democratic Republic of the Congo'}"
   ]
  },
  {
   "cell_type": "code",
   "execution_count": 23,
   "id": "72cebe82",
   "metadata": {},
   "outputs": [],
   "source": [
    "df_waste['Country'] = df_waste['Country'].replace(name_mapping_5)"
   ]
  },
  {
   "cell_type": "code",
   "execution_count": 24,
   "id": "1705e3f6",
   "metadata": {},
   "outputs": [],
   "source": [
    "#Exporting the Waste dataframe\n",
    "df_waste.to_csv(os.path.join(path, 'Prepared Data', 'Solid_waste_wrangeled_2.csv'))"
   ]
  },
  {
   "cell_type": "code",
   "execution_count": 25,
   "id": "1183aa24",
   "metadata": {},
   "outputs": [],
   "source": [
    "#Importing the wmg dataframe\n",
    "\n",
    "df_wmg = pd.read_csv(os.path.join(path,'Prepared data','WMG_wrangeled.csv'), index_col = False)\n"
   ]
  },
  {
   "cell_type": "code",
   "execution_count": 26,
   "id": "35dbce34",
   "metadata": {},
   "outputs": [],
   "source": [
    "#Renaming values in the dataframe 'WMG', column 'Country'\n",
    "\n",
    "name_mapping_6 = {'Dem. Rep. Congo':'Democratic Republic of the Congo', 'Republic of Congo': 'Congo', 'United Kingdom': 'United Kingdom of Great Britain and Northern Ireland'}\n"
   ]
  },
  {
   "cell_type": "code",
   "execution_count": 27,
   "id": "1f9ed07d",
   "metadata": {},
   "outputs": [],
   "source": [
    "df_wmg['Country'] = df_wmg['Country'].replace(name_mapping_6)"
   ]
  },
  {
   "cell_type": "code",
   "execution_count": 28,
   "id": "7eaa287f",
   "metadata": {},
   "outputs": [],
   "source": [
    "#Exporting the WMG dataframe\n",
    "df_wmg.to_csv(os.path.join(path, 'Prepared Data', 'WMG_wrangeled_2.csv'))"
   ]
  },
  {
   "cell_type": "code",
   "execution_count": null,
   "id": "2e49292c",
   "metadata": {},
   "outputs": [],
   "source": []
  }
 ],
 "metadata": {
  "kernelspec": {
   "display_name": "Python 3 (ipykernel)",
   "language": "python",
   "name": "python3"
  },
  "language_info": {
   "codemirror_mode": {
    "name": "ipython",
    "version": 3
   },
   "file_extension": ".py",
   "mimetype": "text/x-python",
   "name": "python",
   "nbconvert_exporter": "python",
   "pygments_lexer": "ipython3",
   "version": "3.10.9"
  }
 },
 "nbformat": 4,
 "nbformat_minor": 5
}
